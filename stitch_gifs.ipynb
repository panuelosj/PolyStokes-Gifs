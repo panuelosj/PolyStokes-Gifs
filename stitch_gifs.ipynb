{
 "cells": [
  {
   "cell_type": "code",
   "execution_count": 1,
   "id": "4cb373b4-4d97-4b5a-a6b5-49fb9ebbb6a1",
   "metadata": {},
   "outputs": [],
   "source": [
    "import math\n",
    "import imageio\n",
    "import numpy as np\n",
    "import moviepy.editor as mpy\n",
    "import pygifsicle\n",
    "\n",
    "def stitchGif(filenameR, filename1, filename2, filenameOut):\n",
    "    margin = [50, 50];\n",
    "    clipsize = [1080, 1080];\n",
    "\n",
    "    clipR = mpy.VideoFileClip(filenameR).margin(top=margin[1], bottom=margin[1], left=math.floor(margin[0]*2+clipsize[0]/2), right=math.floor(margin[0]*2+clipsize[0]/2), color=(255,255,255))\n",
    "    clip1 = mpy.VideoFileClip(filename1).margin(top=margin[1], bottom=margin[1], left=margin[0], right=margin[1], color=(255,255,255))\n",
    "    clip2 = mpy.VideoFileClip(filename2).margin(top=margin[1], bottom=margin[1], left=margin[0], right=margin[1], color=(255,255,255))\n",
    "\n",
    "    # stack\n",
    "    tmp = mpy.clips_array([[clip1, clip2]]);\n",
    "    final = mpy.clips_array([[clipR], [tmp]]).resize(0.5);\n",
    "    \n",
    "    # export\n",
    "    final.write_gif(filenameOut, fps=30, program='imageio', opt='nq');\n",
    "    \n",
    "def hashCode(s):\n",
    "    # ref https://stackoverflow.com/questions/22845913/function-to-replicate-the-output-of-java-lang-string-hashcode-in-python-and-no\n",
    "    \"\"\"Mimic Java's hashCode in python 2\"\"\"\n",
    "    try:\n",
    "        s = str(s)\n",
    "    except:\n",
    "        try:\n",
    "            s = str(s.decode('utf8'))\n",
    "        except:\n",
    "            raise Exception(\"Please enter a unicode type string or utf8 bytestring.\")\n",
    "    h = 0\n",
    "    for c in s:\n",
    "        h = int((((31 * h + ord(c)) ^ 0x80000000) & 0xFFFFFFFF) - 0x80000000)\n",
    "    return h"
   ]
  },
  {
   "cell_type": "code",
   "execution_count": 2,
   "id": "4f1e7459-69dc-4055-b110-721c039ed450",
   "metadata": {
    "collapsed": true,
    "jupyter": {
     "outputs_hidden": true
    },
    "tags": []
   },
   "outputs": [
    {
     "name": "stdout",
     "output_type": "stream",
     "text": [
      "MoviePy - Building file ./viscous_beam/gif/uniform_m0.1-m0.1.gif with imageio.\n"
     ]
    },
    {
     "name": "stderr",
     "output_type": "stream",
     "text": [
      "                                                                                                                         \r"
     ]
    },
    {
     "name": "stdout",
     "output_type": "stream",
     "text": [
      "finshed ./viscous_beam/gif/uniform_m0.1-m0.1.gif\n",
      "MoviePy - Building file ./viscous_beam/gif/uniform_m0.1-m1.gif with imageio.\n"
     ]
    },
    {
     "name": "stderr",
     "output_type": "stream",
     "text": [
      "                                                                                                                         \r"
     ]
    },
    {
     "name": "stdout",
     "output_type": "stream",
     "text": [
      "finshed ./viscous_beam/gif/uniform_m0.1-m1.gif\n",
      "MoviePy - Building file ./viscous_beam/gif/uniform_m0.1-m10.gif with imageio.\n"
     ]
    },
    {
     "name": "stderr",
     "output_type": "stream",
     "text": [
      "                                                                                                                         \r"
     ]
    },
    {
     "name": "stdout",
     "output_type": "stream",
     "text": [
      "finshed ./viscous_beam/gif/uniform_m0.1-m10.gif\n",
      "MoviePy - Building file ./viscous_beam/gif/uniform_m0.1-m20.gif with imageio.\n"
     ]
    },
    {
     "name": "stderr",
     "output_type": "stream",
     "text": [
      "                                                                                                                         \r"
     ]
    },
    {
     "name": "stdout",
     "output_type": "stream",
     "text": [
      "finshed ./viscous_beam/gif/uniform_m0.1-m20.gif\n",
      "MoviePy - Building file ./viscous_beam/gif/uniform_m0.1-m50.gif with imageio.\n"
     ]
    },
    {
     "name": "stderr",
     "output_type": "stream",
     "text": [
      "                                                                                                                         \r"
     ]
    },
    {
     "name": "stdout",
     "output_type": "stream",
     "text": [
      "finshed ./viscous_beam/gif/uniform_m0.1-m50.gif\n",
      "MoviePy - Building file ./viscous_beam/gif/uniform_m0.1-p0.1.gif with imageio.\n"
     ]
    },
    {
     "name": "stderr",
     "output_type": "stream",
     "text": [
      "                                                                                                                         \r"
     ]
    },
    {
     "name": "stdout",
     "output_type": "stream",
     "text": [
      "finshed ./viscous_beam/gif/uniform_m0.1-p0.1.gif\n",
      "MoviePy - Building file ./viscous_beam/gif/uniform_m0.1-p1.gif with imageio.\n"
     ]
    },
    {
     "name": "stderr",
     "output_type": "stream",
     "text": [
      "                                                                                                                         \r"
     ]
    },
    {
     "name": "stdout",
     "output_type": "stream",
     "text": [
      "finshed ./viscous_beam/gif/uniform_m0.1-p1.gif\n",
      "MoviePy - Building file ./viscous_beam/gif/uniform_m0.1-p10.gif with imageio.\n"
     ]
    },
    {
     "name": "stderr",
     "output_type": "stream",
     "text": [
      "                                                                                                                         \r"
     ]
    },
    {
     "name": "stdout",
     "output_type": "stream",
     "text": [
      "finshed ./viscous_beam/gif/uniform_m0.1-p10.gif\n",
      "MoviePy - Building file ./viscous_beam/gif/uniform_m0.1-p20.gif with imageio.\n"
     ]
    },
    {
     "name": "stderr",
     "output_type": "stream",
     "text": [
      "                                                                                                                         \r"
     ]
    },
    {
     "name": "stdout",
     "output_type": "stream",
     "text": [
      "finshed ./viscous_beam/gif/uniform_m0.1-p20.gif\n",
      "MoviePy - Building file ./viscous_beam/gif/uniform_m0.1-p50.gif with imageio.\n"
     ]
    },
    {
     "name": "stderr",
     "output_type": "stream",
     "text": [
      "                                                                                                                         \r"
     ]
    },
    {
     "name": "stdout",
     "output_type": "stream",
     "text": [
      "finshed ./viscous_beam/gif/uniform_m0.1-p50.gif\n",
      "MoviePy - Building file ./viscous_beam/gif/uniform_m0.1-uniform.gif with imageio.\n"
     ]
    },
    {
     "name": "stderr",
     "output_type": "stream",
     "text": [
      "                                                                                                                         \r"
     ]
    },
    {
     "name": "stdout",
     "output_type": "stream",
     "text": [
      "finshed ./viscous_beam/gif/uniform_m0.1-uniform.gif\n",
      "MoviePy - Building file ./viscous_beam/gif/uniform_m0.1-reduced.gif with imageio.\n"
     ]
    },
    {
     "name": "stderr",
     "output_type": "stream",
     "text": [
      "                                                                                                                         \r"
     ]
    },
    {
     "name": "stdout",
     "output_type": "stream",
     "text": [
      "finshed ./viscous_beam/gif/uniform_m0.1-reduced.gif\n",
      "MoviePy - Building file ./viscous_beam/gif/uniform_m1-m0.1.gif with imageio.\n"
     ]
    },
    {
     "name": "stderr",
     "output_type": "stream",
     "text": [
      "                                                                                                                         \r"
     ]
    },
    {
     "name": "stdout",
     "output_type": "stream",
     "text": [
      "finshed ./viscous_beam/gif/uniform_m1-m0.1.gif\n",
      "MoviePy - Building file ./viscous_beam/gif/uniform_m1-m1.gif with imageio.\n"
     ]
    },
    {
     "name": "stderr",
     "output_type": "stream",
     "text": [
      "                                                                                                                         \r"
     ]
    },
    {
     "name": "stdout",
     "output_type": "stream",
     "text": [
      "finshed ./viscous_beam/gif/uniform_m1-m1.gif\n",
      "MoviePy - Building file ./viscous_beam/gif/uniform_m1-m10.gif with imageio.\n"
     ]
    },
    {
     "name": "stderr",
     "output_type": "stream",
     "text": [
      "                                                                                                                         \r"
     ]
    },
    {
     "name": "stdout",
     "output_type": "stream",
     "text": [
      "finshed ./viscous_beam/gif/uniform_m1-m10.gif\n",
      "MoviePy - Building file ./viscous_beam/gif/uniform_m1-m20.gif with imageio.\n"
     ]
    },
    {
     "name": "stderr",
     "output_type": "stream",
     "text": [
      "                                                                                                                         \r"
     ]
    },
    {
     "name": "stdout",
     "output_type": "stream",
     "text": [
      "finshed ./viscous_beam/gif/uniform_m1-m20.gif\n",
      "MoviePy - Building file ./viscous_beam/gif/uniform_m1-m50.gif with imageio.\n"
     ]
    },
    {
     "name": "stderr",
     "output_type": "stream",
     "text": [
      "                                                                                                                         \r"
     ]
    },
    {
     "name": "stdout",
     "output_type": "stream",
     "text": [
      "finshed ./viscous_beam/gif/uniform_m1-m50.gif\n",
      "MoviePy - Building file ./viscous_beam/gif/uniform_m1-p0.1.gif with imageio.\n"
     ]
    },
    {
     "name": "stderr",
     "output_type": "stream",
     "text": [
      "                                                                                                                         \r"
     ]
    },
    {
     "name": "stdout",
     "output_type": "stream",
     "text": [
      "finshed ./viscous_beam/gif/uniform_m1-p0.1.gif\n",
      "MoviePy - Building file ./viscous_beam/gif/uniform_m1-p1.gif with imageio.\n"
     ]
    },
    {
     "name": "stderr",
     "output_type": "stream",
     "text": [
      "                                                                                                                         \r"
     ]
    },
    {
     "name": "stdout",
     "output_type": "stream",
     "text": [
      "finshed ./viscous_beam/gif/uniform_m1-p1.gif\n",
      "MoviePy - Building file ./viscous_beam/gif/uniform_m1-p10.gif with imageio.\n"
     ]
    },
    {
     "name": "stderr",
     "output_type": "stream",
     "text": [
      "                                                                                                                         \r"
     ]
    },
    {
     "name": "stdout",
     "output_type": "stream",
     "text": [
      "finshed ./viscous_beam/gif/uniform_m1-p10.gif\n",
      "MoviePy - Building file ./viscous_beam/gif/uniform_m1-p20.gif with imageio.\n"
     ]
    },
    {
     "name": "stderr",
     "output_type": "stream",
     "text": [
      "                                                                                                                         \r"
     ]
    },
    {
     "name": "stdout",
     "output_type": "stream",
     "text": [
      "finshed ./viscous_beam/gif/uniform_m1-p20.gif\n",
      "MoviePy - Building file ./viscous_beam/gif/uniform_m1-p50.gif with imageio.\n"
     ]
    },
    {
     "name": "stderr",
     "output_type": "stream",
     "text": [
      "                                                                                                                         \r"
     ]
    },
    {
     "name": "stdout",
     "output_type": "stream",
     "text": [
      "finshed ./viscous_beam/gif/uniform_m1-p50.gif\n",
      "MoviePy - Building file ./viscous_beam/gif/uniform_m1-uniform.gif with imageio.\n"
     ]
    },
    {
     "name": "stderr",
     "output_type": "stream",
     "text": [
      "                                                                                                                         \r"
     ]
    },
    {
     "name": "stdout",
     "output_type": "stream",
     "text": [
      "finshed ./viscous_beam/gif/uniform_m1-uniform.gif\n",
      "MoviePy - Building file ./viscous_beam/gif/uniform_m1-reduced.gif with imageio.\n"
     ]
    },
    {
     "name": "stderr",
     "output_type": "stream",
     "text": [
      "                                                                                                                         \r"
     ]
    },
    {
     "name": "stdout",
     "output_type": "stream",
     "text": [
      "finshed ./viscous_beam/gif/uniform_m1-reduced.gif\n",
      "MoviePy - Building file ./viscous_beam/gif/uniform_m10-m0.1.gif with imageio.\n"
     ]
    },
    {
     "name": "stderr",
     "output_type": "stream",
     "text": [
      "                                                                                                                         \r"
     ]
    },
    {
     "name": "stdout",
     "output_type": "stream",
     "text": [
      "finshed ./viscous_beam/gif/uniform_m10-m0.1.gif\n",
      "MoviePy - Building file ./viscous_beam/gif/uniform_m10-m1.gif with imageio.\n"
     ]
    },
    {
     "name": "stderr",
     "output_type": "stream",
     "text": [
      "                                                                                                                         \r"
     ]
    },
    {
     "name": "stdout",
     "output_type": "stream",
     "text": [
      "finshed ./viscous_beam/gif/uniform_m10-m1.gif\n",
      "MoviePy - Building file ./viscous_beam/gif/uniform_m10-m10.gif with imageio.\n"
     ]
    },
    {
     "name": "stderr",
     "output_type": "stream",
     "text": [
      "                                                                                                                         \r"
     ]
    },
    {
     "name": "stdout",
     "output_type": "stream",
     "text": [
      "finshed ./viscous_beam/gif/uniform_m10-m10.gif\n",
      "MoviePy - Building file ./viscous_beam/gif/uniform_m10-m20.gif with imageio.\n"
     ]
    },
    {
     "name": "stderr",
     "output_type": "stream",
     "text": [
      "                                                                                                                         \r"
     ]
    },
    {
     "name": "stdout",
     "output_type": "stream",
     "text": [
      "finshed ./viscous_beam/gif/uniform_m10-m20.gif\n",
      "MoviePy - Building file ./viscous_beam/gif/uniform_m10-m50.gif with imageio.\n"
     ]
    },
    {
     "name": "stderr",
     "output_type": "stream",
     "text": [
      "                                                                                                                         \r"
     ]
    },
    {
     "name": "stdout",
     "output_type": "stream",
     "text": [
      "finshed ./viscous_beam/gif/uniform_m10-m50.gif\n",
      "MoviePy - Building file ./viscous_beam/gif/uniform_m10-p0.1.gif with imageio.\n"
     ]
    },
    {
     "name": "stderr",
     "output_type": "stream",
     "text": [
      "                                                                                                                         \r"
     ]
    },
    {
     "name": "stdout",
     "output_type": "stream",
     "text": [
      "finshed ./viscous_beam/gif/uniform_m10-p0.1.gif\n",
      "MoviePy - Building file ./viscous_beam/gif/uniform_m10-p1.gif with imageio.\n"
     ]
    },
    {
     "name": "stderr",
     "output_type": "stream",
     "text": [
      "                                                                                                                         \r"
     ]
    },
    {
     "name": "stdout",
     "output_type": "stream",
     "text": [
      "finshed ./viscous_beam/gif/uniform_m10-p1.gif\n",
      "MoviePy - Building file ./viscous_beam/gif/uniform_m10-p10.gif with imageio.\n"
     ]
    },
    {
     "name": "stderr",
     "output_type": "stream",
     "text": [
      "                                                                                                                         \r"
     ]
    },
    {
     "name": "stdout",
     "output_type": "stream",
     "text": [
      "finshed ./viscous_beam/gif/uniform_m10-p10.gif\n",
      "MoviePy - Building file ./viscous_beam/gif/uniform_m10-p20.gif with imageio.\n"
     ]
    },
    {
     "name": "stderr",
     "output_type": "stream",
     "text": [
      "                                                                                                                         \r"
     ]
    },
    {
     "name": "stdout",
     "output_type": "stream",
     "text": [
      "finshed ./viscous_beam/gif/uniform_m10-p20.gif\n",
      "MoviePy - Building file ./viscous_beam/gif/uniform_m10-p50.gif with imageio.\n"
     ]
    },
    {
     "name": "stderr",
     "output_type": "stream",
     "text": [
      "                                                                                                                         \r"
     ]
    },
    {
     "name": "stdout",
     "output_type": "stream",
     "text": [
      "finshed ./viscous_beam/gif/uniform_m10-p50.gif\n",
      "MoviePy - Building file ./viscous_beam/gif/uniform_m10-uniform.gif with imageio.\n"
     ]
    },
    {
     "name": "stderr",
     "output_type": "stream",
     "text": [
      "                                                                                                                         \r"
     ]
    },
    {
     "name": "stdout",
     "output_type": "stream",
     "text": [
      "finshed ./viscous_beam/gif/uniform_m10-uniform.gif\n",
      "MoviePy - Building file ./viscous_beam/gif/uniform_m10-reduced.gif with imageio.\n"
     ]
    },
    {
     "name": "stderr",
     "output_type": "stream",
     "text": [
      "                                                                                                                         \r"
     ]
    },
    {
     "name": "stdout",
     "output_type": "stream",
     "text": [
      "finshed ./viscous_beam/gif/uniform_m10-reduced.gif\n",
      "MoviePy - Building file ./viscous_beam/gif/uniform_m20-m0.1.gif with imageio.\n"
     ]
    },
    {
     "name": "stderr",
     "output_type": "stream",
     "text": [
      "                                                                                                                         \r"
     ]
    },
    {
     "name": "stdout",
     "output_type": "stream",
     "text": [
      "finshed ./viscous_beam/gif/uniform_m20-m0.1.gif\n",
      "MoviePy - Building file ./viscous_beam/gif/uniform_m20-m1.gif with imageio.\n"
     ]
    },
    {
     "name": "stderr",
     "output_type": "stream",
     "text": [
      "                                                                                                                         \r"
     ]
    },
    {
     "name": "stdout",
     "output_type": "stream",
     "text": [
      "finshed ./viscous_beam/gif/uniform_m20-m1.gif\n",
      "MoviePy - Building file ./viscous_beam/gif/uniform_m20-m10.gif with imageio.\n"
     ]
    },
    {
     "name": "stderr",
     "output_type": "stream",
     "text": [
      "                                                                                                                         \r"
     ]
    },
    {
     "name": "stdout",
     "output_type": "stream",
     "text": [
      "finshed ./viscous_beam/gif/uniform_m20-m10.gif\n",
      "MoviePy - Building file ./viscous_beam/gif/uniform_m20-m20.gif with imageio.\n"
     ]
    },
    {
     "name": "stderr",
     "output_type": "stream",
     "text": [
      "                                                                                                                         \r"
     ]
    },
    {
     "name": "stdout",
     "output_type": "stream",
     "text": [
      "finshed ./viscous_beam/gif/uniform_m20-m20.gif\n",
      "MoviePy - Building file ./viscous_beam/gif/uniform_m20-m50.gif with imageio.\n"
     ]
    },
    {
     "name": "stderr",
     "output_type": "stream",
     "text": [
      "                                                                                                                         \r"
     ]
    },
    {
     "name": "stdout",
     "output_type": "stream",
     "text": [
      "finshed ./viscous_beam/gif/uniform_m20-m50.gif\n",
      "MoviePy - Building file ./viscous_beam/gif/uniform_m20-p0.1.gif with imageio.\n"
     ]
    },
    {
     "name": "stderr",
     "output_type": "stream",
     "text": [
      "                                                                                                                         \r"
     ]
    },
    {
     "name": "stdout",
     "output_type": "stream",
     "text": [
      "finshed ./viscous_beam/gif/uniform_m20-p0.1.gif\n",
      "MoviePy - Building file ./viscous_beam/gif/uniform_m20-p1.gif with imageio.\n"
     ]
    },
    {
     "name": "stderr",
     "output_type": "stream",
     "text": [
      "                                                                                                                         \r"
     ]
    },
    {
     "name": "stdout",
     "output_type": "stream",
     "text": [
      "finshed ./viscous_beam/gif/uniform_m20-p1.gif\n",
      "MoviePy - Building file ./viscous_beam/gif/uniform_m20-p10.gif with imageio.\n"
     ]
    },
    {
     "name": "stderr",
     "output_type": "stream",
     "text": [
      "                                                                                                                         \r"
     ]
    },
    {
     "name": "stdout",
     "output_type": "stream",
     "text": [
      "finshed ./viscous_beam/gif/uniform_m20-p10.gif\n",
      "MoviePy - Building file ./viscous_beam/gif/uniform_m20-p20.gif with imageio.\n"
     ]
    },
    {
     "name": "stderr",
     "output_type": "stream",
     "text": [
      "                                                                                                                         \r"
     ]
    },
    {
     "name": "stdout",
     "output_type": "stream",
     "text": [
      "finshed ./viscous_beam/gif/uniform_m20-p20.gif\n",
      "MoviePy - Building file ./viscous_beam/gif/uniform_m20-p50.gif with imageio.\n"
     ]
    },
    {
     "name": "stderr",
     "output_type": "stream",
     "text": [
      "                                                                                                                         \r"
     ]
    },
    {
     "name": "stdout",
     "output_type": "stream",
     "text": [
      "finshed ./viscous_beam/gif/uniform_m20-p50.gif\n",
      "MoviePy - Building file ./viscous_beam/gif/uniform_m20-uniform.gif with imageio.\n"
     ]
    },
    {
     "name": "stderr",
     "output_type": "stream",
     "text": [
      "                                                                                                                         \r"
     ]
    },
    {
     "name": "stdout",
     "output_type": "stream",
     "text": [
      "finshed ./viscous_beam/gif/uniform_m20-uniform.gif\n",
      "MoviePy - Building file ./viscous_beam/gif/uniform_m20-reduced.gif with imageio.\n"
     ]
    },
    {
     "name": "stderr",
     "output_type": "stream",
     "text": [
      "                                                                                                                         \r"
     ]
    },
    {
     "name": "stdout",
     "output_type": "stream",
     "text": [
      "finshed ./viscous_beam/gif/uniform_m20-reduced.gif\n",
      "MoviePy - Building file ./viscous_beam/gif/uniform_m50-m0.1.gif with imageio.\n"
     ]
    },
    {
     "name": "stderr",
     "output_type": "stream",
     "text": [
      "                                                                                                                         \r"
     ]
    },
    {
     "name": "stdout",
     "output_type": "stream",
     "text": [
      "finshed ./viscous_beam/gif/uniform_m50-m0.1.gif\n",
      "MoviePy - Building file ./viscous_beam/gif/uniform_m50-m1.gif with imageio.\n"
     ]
    },
    {
     "name": "stderr",
     "output_type": "stream",
     "text": [
      "                                                                                                                         \r"
     ]
    },
    {
     "name": "stdout",
     "output_type": "stream",
     "text": [
      "finshed ./viscous_beam/gif/uniform_m50-m1.gif\n",
      "MoviePy - Building file ./viscous_beam/gif/uniform_m50-m10.gif with imageio.\n"
     ]
    },
    {
     "name": "stderr",
     "output_type": "stream",
     "text": [
      "                                                                                                                         \r"
     ]
    },
    {
     "name": "stdout",
     "output_type": "stream",
     "text": [
      "finshed ./viscous_beam/gif/uniform_m50-m10.gif\n",
      "MoviePy - Building file ./viscous_beam/gif/uniform_m50-m20.gif with imageio.\n"
     ]
    },
    {
     "name": "stderr",
     "output_type": "stream",
     "text": [
      "                                                                                                                         \r"
     ]
    },
    {
     "name": "stdout",
     "output_type": "stream",
     "text": [
      "finshed ./viscous_beam/gif/uniform_m50-m20.gif\n",
      "MoviePy - Building file ./viscous_beam/gif/uniform_m50-m50.gif with imageio.\n"
     ]
    },
    {
     "name": "stderr",
     "output_type": "stream",
     "text": [
      "                                                                                                                         \r"
     ]
    },
    {
     "name": "stdout",
     "output_type": "stream",
     "text": [
      "finshed ./viscous_beam/gif/uniform_m50-m50.gif\n",
      "MoviePy - Building file ./viscous_beam/gif/uniform_m50-p0.1.gif with imageio.\n"
     ]
    },
    {
     "name": "stderr",
     "output_type": "stream",
     "text": [
      "                                                                                                                         \r"
     ]
    },
    {
     "name": "stdout",
     "output_type": "stream",
     "text": [
      "finshed ./viscous_beam/gif/uniform_m50-p0.1.gif\n",
      "MoviePy - Building file ./viscous_beam/gif/uniform_m50-p1.gif with imageio.\n"
     ]
    },
    {
     "name": "stderr",
     "output_type": "stream",
     "text": [
      "                                                                                                                         \r"
     ]
    },
    {
     "name": "stdout",
     "output_type": "stream",
     "text": [
      "finshed ./viscous_beam/gif/uniform_m50-p1.gif\n",
      "MoviePy - Building file ./viscous_beam/gif/uniform_m50-p10.gif with imageio.\n"
     ]
    },
    {
     "name": "stderr",
     "output_type": "stream",
     "text": [
      "                                                                                                                         \r"
     ]
    },
    {
     "name": "stdout",
     "output_type": "stream",
     "text": [
      "finshed ./viscous_beam/gif/uniform_m50-p10.gif\n",
      "MoviePy - Building file ./viscous_beam/gif/uniform_m50-p20.gif with imageio.\n"
     ]
    },
    {
     "name": "stderr",
     "output_type": "stream",
     "text": [
      "                                                                                                                         \r"
     ]
    },
    {
     "name": "stdout",
     "output_type": "stream",
     "text": [
      "finshed ./viscous_beam/gif/uniform_m50-p20.gif\n",
      "MoviePy - Building file ./viscous_beam/gif/uniform_m50-p50.gif with imageio.\n"
     ]
    },
    {
     "name": "stderr",
     "output_type": "stream",
     "text": [
      "                                                                                                                         \r"
     ]
    },
    {
     "name": "stdout",
     "output_type": "stream",
     "text": [
      "finshed ./viscous_beam/gif/uniform_m50-p50.gif\n",
      "MoviePy - Building file ./viscous_beam/gif/uniform_m50-uniform.gif with imageio.\n"
     ]
    },
    {
     "name": "stderr",
     "output_type": "stream",
     "text": [
      "                                                                                                                         \r"
     ]
    },
    {
     "name": "stdout",
     "output_type": "stream",
     "text": [
      "finshed ./viscous_beam/gif/uniform_m50-uniform.gif\n",
      "MoviePy - Building file ./viscous_beam/gif/uniform_m50-reduced.gif with imageio.\n"
     ]
    },
    {
     "name": "stderr",
     "output_type": "stream",
     "text": [
      "                                                                                                                         \r"
     ]
    },
    {
     "name": "stdout",
     "output_type": "stream",
     "text": [
      "finshed ./viscous_beam/gif/uniform_m50-reduced.gif\n",
      "MoviePy - Building file ./viscous_beam/gif/uniform_p0.1-m0.1.gif with imageio.\n"
     ]
    },
    {
     "name": "stderr",
     "output_type": "stream",
     "text": [
      "                                                                                                                         \r"
     ]
    },
    {
     "name": "stdout",
     "output_type": "stream",
     "text": [
      "finshed ./viscous_beam/gif/uniform_p0.1-m0.1.gif\n",
      "MoviePy - Building file ./viscous_beam/gif/uniform_p0.1-m1.gif with imageio.\n"
     ]
    },
    {
     "name": "stderr",
     "output_type": "stream",
     "text": [
      "                                                                                                                         \r"
     ]
    },
    {
     "name": "stdout",
     "output_type": "stream",
     "text": [
      "finshed ./viscous_beam/gif/uniform_p0.1-m1.gif\n",
      "MoviePy - Building file ./viscous_beam/gif/uniform_p0.1-m10.gif with imageio.\n"
     ]
    },
    {
     "name": "stderr",
     "output_type": "stream",
     "text": [
      "                                                                                                                         \r"
     ]
    },
    {
     "name": "stdout",
     "output_type": "stream",
     "text": [
      "finshed ./viscous_beam/gif/uniform_p0.1-m10.gif\n",
      "MoviePy - Building file ./viscous_beam/gif/uniform_p0.1-m20.gif with imageio.\n"
     ]
    },
    {
     "name": "stderr",
     "output_type": "stream",
     "text": [
      "                                                                                                                         \r"
     ]
    },
    {
     "name": "stdout",
     "output_type": "stream",
     "text": [
      "finshed ./viscous_beam/gif/uniform_p0.1-m20.gif\n",
      "MoviePy - Building file ./viscous_beam/gif/uniform_p0.1-m50.gif with imageio.\n"
     ]
    },
    {
     "name": "stderr",
     "output_type": "stream",
     "text": [
      "                                                                                                                         \r"
     ]
    },
    {
     "name": "stdout",
     "output_type": "stream",
     "text": [
      "finshed ./viscous_beam/gif/uniform_p0.1-m50.gif\n",
      "MoviePy - Building file ./viscous_beam/gif/uniform_p0.1-p0.1.gif with imageio.\n"
     ]
    },
    {
     "name": "stderr",
     "output_type": "stream",
     "text": [
      "                                                                                                                         \r"
     ]
    },
    {
     "name": "stdout",
     "output_type": "stream",
     "text": [
      "finshed ./viscous_beam/gif/uniform_p0.1-p0.1.gif\n",
      "MoviePy - Building file ./viscous_beam/gif/uniform_p0.1-p1.gif with imageio.\n"
     ]
    },
    {
     "name": "stderr",
     "output_type": "stream",
     "text": [
      "                                                                                                                         \r"
     ]
    },
    {
     "name": "stdout",
     "output_type": "stream",
     "text": [
      "finshed ./viscous_beam/gif/uniform_p0.1-p1.gif\n",
      "MoviePy - Building file ./viscous_beam/gif/uniform_p0.1-p10.gif with imageio.\n"
     ]
    },
    {
     "name": "stderr",
     "output_type": "stream",
     "text": [
      "                                                                                                                         \r"
     ]
    },
    {
     "name": "stdout",
     "output_type": "stream",
     "text": [
      "finshed ./viscous_beam/gif/uniform_p0.1-p10.gif\n",
      "MoviePy - Building file ./viscous_beam/gif/uniform_p0.1-p20.gif with imageio.\n"
     ]
    },
    {
     "name": "stderr",
     "output_type": "stream",
     "text": [
      "                                                                                                                         \r"
     ]
    },
    {
     "name": "stdout",
     "output_type": "stream",
     "text": [
      "finshed ./viscous_beam/gif/uniform_p0.1-p20.gif\n",
      "MoviePy - Building file ./viscous_beam/gif/uniform_p0.1-p50.gif with imageio.\n"
     ]
    },
    {
     "name": "stderr",
     "output_type": "stream",
     "text": [
      "                                                                                                                         \r"
     ]
    },
    {
     "name": "stdout",
     "output_type": "stream",
     "text": [
      "finshed ./viscous_beam/gif/uniform_p0.1-p50.gif\n",
      "MoviePy - Building file ./viscous_beam/gif/uniform_p0.1-uniform.gif with imageio.\n"
     ]
    },
    {
     "name": "stderr",
     "output_type": "stream",
     "text": [
      "                                                                                                                         \r"
     ]
    },
    {
     "name": "stdout",
     "output_type": "stream",
     "text": [
      "finshed ./viscous_beam/gif/uniform_p0.1-uniform.gif\n",
      "MoviePy - Building file ./viscous_beam/gif/uniform_p0.1-reduced.gif with imageio.\n"
     ]
    },
    {
     "name": "stderr",
     "output_type": "stream",
     "text": [
      "                                                                                                                         \r"
     ]
    },
    {
     "name": "stdout",
     "output_type": "stream",
     "text": [
      "finshed ./viscous_beam/gif/uniform_p0.1-reduced.gif\n",
      "MoviePy - Building file ./viscous_beam/gif/uniform_p1-m0.1.gif with imageio.\n"
     ]
    },
    {
     "name": "stderr",
     "output_type": "stream",
     "text": [
      "                                                                                                                         \r"
     ]
    },
    {
     "name": "stdout",
     "output_type": "stream",
     "text": [
      "finshed ./viscous_beam/gif/uniform_p1-m0.1.gif\n",
      "MoviePy - Building file ./viscous_beam/gif/uniform_p1-m1.gif with imageio.\n"
     ]
    },
    {
     "name": "stderr",
     "output_type": "stream",
     "text": [
      "                                                                                                                         \r"
     ]
    },
    {
     "name": "stdout",
     "output_type": "stream",
     "text": [
      "finshed ./viscous_beam/gif/uniform_p1-m1.gif\n",
      "MoviePy - Building file ./viscous_beam/gif/uniform_p1-m10.gif with imageio.\n"
     ]
    },
    {
     "name": "stderr",
     "output_type": "stream",
     "text": [
      "                                                                                                                         \r"
     ]
    },
    {
     "name": "stdout",
     "output_type": "stream",
     "text": [
      "finshed ./viscous_beam/gif/uniform_p1-m10.gif\n",
      "MoviePy - Building file ./viscous_beam/gif/uniform_p1-m20.gif with imageio.\n"
     ]
    },
    {
     "name": "stderr",
     "output_type": "stream",
     "text": [
      "                                                                                                                         \r"
     ]
    },
    {
     "name": "stdout",
     "output_type": "stream",
     "text": [
      "finshed ./viscous_beam/gif/uniform_p1-m20.gif\n",
      "MoviePy - Building file ./viscous_beam/gif/uniform_p1-m50.gif with imageio.\n"
     ]
    },
    {
     "name": "stderr",
     "output_type": "stream",
     "text": [
      "                                                                                                                         \r"
     ]
    },
    {
     "name": "stdout",
     "output_type": "stream",
     "text": [
      "finshed ./viscous_beam/gif/uniform_p1-m50.gif\n",
      "MoviePy - Building file ./viscous_beam/gif/uniform_p1-p0.1.gif with imageio.\n"
     ]
    },
    {
     "name": "stderr",
     "output_type": "stream",
     "text": [
      "                                                                                                                         \r"
     ]
    },
    {
     "name": "stdout",
     "output_type": "stream",
     "text": [
      "finshed ./viscous_beam/gif/uniform_p1-p0.1.gif\n",
      "MoviePy - Building file ./viscous_beam/gif/uniform_p1-p1.gif with imageio.\n"
     ]
    },
    {
     "name": "stderr",
     "output_type": "stream",
     "text": [
      "                                                                                                                         \r"
     ]
    },
    {
     "name": "stdout",
     "output_type": "stream",
     "text": [
      "finshed ./viscous_beam/gif/uniform_p1-p1.gif\n",
      "MoviePy - Building file ./viscous_beam/gif/uniform_p1-p10.gif with imageio.\n"
     ]
    },
    {
     "name": "stderr",
     "output_type": "stream",
     "text": [
      "                                                                                                                         \r"
     ]
    },
    {
     "name": "stdout",
     "output_type": "stream",
     "text": [
      "finshed ./viscous_beam/gif/uniform_p1-p10.gif\n",
      "MoviePy - Building file ./viscous_beam/gif/uniform_p1-p20.gif with imageio.\n"
     ]
    },
    {
     "name": "stderr",
     "output_type": "stream",
     "text": [
      "                                                                                                                         \r"
     ]
    },
    {
     "name": "stdout",
     "output_type": "stream",
     "text": [
      "finshed ./viscous_beam/gif/uniform_p1-p20.gif\n",
      "MoviePy - Building file ./viscous_beam/gif/uniform_p1-p50.gif with imageio.\n"
     ]
    },
    {
     "name": "stderr",
     "output_type": "stream",
     "text": [
      "                                                                                                                         \r"
     ]
    },
    {
     "name": "stdout",
     "output_type": "stream",
     "text": [
      "finshed ./viscous_beam/gif/uniform_p1-p50.gif\n",
      "MoviePy - Building file ./viscous_beam/gif/uniform_p1-uniform.gif with imageio.\n"
     ]
    },
    {
     "name": "stderr",
     "output_type": "stream",
     "text": [
      "                                                                                                                         \r"
     ]
    },
    {
     "name": "stdout",
     "output_type": "stream",
     "text": [
      "finshed ./viscous_beam/gif/uniform_p1-uniform.gif\n",
      "MoviePy - Building file ./viscous_beam/gif/uniform_p1-reduced.gif with imageio.\n"
     ]
    },
    {
     "name": "stderr",
     "output_type": "stream",
     "text": [
      "                                                                                                                         \r"
     ]
    },
    {
     "name": "stdout",
     "output_type": "stream",
     "text": [
      "finshed ./viscous_beam/gif/uniform_p1-reduced.gif\n",
      "MoviePy - Building file ./viscous_beam/gif/uniform_p10-m0.1.gif with imageio.\n"
     ]
    },
    {
     "name": "stderr",
     "output_type": "stream",
     "text": [
      "                                                                                                                         \r"
     ]
    },
    {
     "name": "stdout",
     "output_type": "stream",
     "text": [
      "finshed ./viscous_beam/gif/uniform_p10-m0.1.gif\n",
      "MoviePy - Building file ./viscous_beam/gif/uniform_p10-m1.gif with imageio.\n"
     ]
    },
    {
     "name": "stderr",
     "output_type": "stream",
     "text": [
      "                                                                                                                         \r"
     ]
    },
    {
     "name": "stdout",
     "output_type": "stream",
     "text": [
      "finshed ./viscous_beam/gif/uniform_p10-m1.gif\n",
      "MoviePy - Building file ./viscous_beam/gif/uniform_p10-m10.gif with imageio.\n"
     ]
    },
    {
     "name": "stderr",
     "output_type": "stream",
     "text": [
      "                                                                                                                         \r"
     ]
    },
    {
     "name": "stdout",
     "output_type": "stream",
     "text": [
      "finshed ./viscous_beam/gif/uniform_p10-m10.gif\n",
      "MoviePy - Building file ./viscous_beam/gif/uniform_p10-m20.gif with imageio.\n"
     ]
    },
    {
     "name": "stderr",
     "output_type": "stream",
     "text": [
      "                                                                                                                         \r"
     ]
    },
    {
     "name": "stdout",
     "output_type": "stream",
     "text": [
      "finshed ./viscous_beam/gif/uniform_p10-m20.gif\n",
      "MoviePy - Building file ./viscous_beam/gif/uniform_p10-m50.gif with imageio.\n"
     ]
    },
    {
     "name": "stderr",
     "output_type": "stream",
     "text": [
      "                                                                                                                         \r"
     ]
    },
    {
     "name": "stdout",
     "output_type": "stream",
     "text": [
      "finshed ./viscous_beam/gif/uniform_p10-m50.gif\n",
      "MoviePy - Building file ./viscous_beam/gif/uniform_p10-p0.1.gif with imageio.\n"
     ]
    },
    {
     "name": "stderr",
     "output_type": "stream",
     "text": [
      "                                                                                                                         \r"
     ]
    },
    {
     "name": "stdout",
     "output_type": "stream",
     "text": [
      "finshed ./viscous_beam/gif/uniform_p10-p0.1.gif\n",
      "MoviePy - Building file ./viscous_beam/gif/uniform_p10-p1.gif with imageio.\n"
     ]
    },
    {
     "name": "stderr",
     "output_type": "stream",
     "text": [
      "                                                                                                                         \r"
     ]
    },
    {
     "name": "stdout",
     "output_type": "stream",
     "text": [
      "finshed ./viscous_beam/gif/uniform_p10-p1.gif\n",
      "MoviePy - Building file ./viscous_beam/gif/uniform_p10-p10.gif with imageio.\n"
     ]
    },
    {
     "name": "stderr",
     "output_type": "stream",
     "text": [
      "                                                                                                                         \r"
     ]
    },
    {
     "name": "stdout",
     "output_type": "stream",
     "text": [
      "finshed ./viscous_beam/gif/uniform_p10-p10.gif\n",
      "MoviePy - Building file ./viscous_beam/gif/uniform_p10-p20.gif with imageio.\n"
     ]
    },
    {
     "name": "stderr",
     "output_type": "stream",
     "text": [
      "                                                                                                                         \r"
     ]
    },
    {
     "name": "stdout",
     "output_type": "stream",
     "text": [
      "finshed ./viscous_beam/gif/uniform_p10-p20.gif\n",
      "MoviePy - Building file ./viscous_beam/gif/uniform_p10-p50.gif with imageio.\n"
     ]
    },
    {
     "name": "stderr",
     "output_type": "stream",
     "text": [
      "                                                                                                                         \r"
     ]
    },
    {
     "name": "stdout",
     "output_type": "stream",
     "text": [
      "finshed ./viscous_beam/gif/uniform_p10-p50.gif\n",
      "MoviePy - Building file ./viscous_beam/gif/uniform_p10-uniform.gif with imageio.\n"
     ]
    },
    {
     "name": "stderr",
     "output_type": "stream",
     "text": [
      "                                                                                                                         \r"
     ]
    },
    {
     "name": "stdout",
     "output_type": "stream",
     "text": [
      "finshed ./viscous_beam/gif/uniform_p10-uniform.gif\n",
      "MoviePy - Building file ./viscous_beam/gif/uniform_p10-reduced.gif with imageio.\n"
     ]
    },
    {
     "name": "stderr",
     "output_type": "stream",
     "text": [
      "                                                                                                                         \r"
     ]
    },
    {
     "name": "stdout",
     "output_type": "stream",
     "text": [
      "finshed ./viscous_beam/gif/uniform_p10-reduced.gif\n",
      "MoviePy - Building file ./viscous_beam/gif/uniform_p20-m0.1.gif with imageio.\n"
     ]
    },
    {
     "name": "stderr",
     "output_type": "stream",
     "text": [
      "                                                                                                                         \r"
     ]
    },
    {
     "name": "stdout",
     "output_type": "stream",
     "text": [
      "finshed ./viscous_beam/gif/uniform_p20-m0.1.gif\n",
      "MoviePy - Building file ./viscous_beam/gif/uniform_p20-m1.gif with imageio.\n"
     ]
    },
    {
     "name": "stderr",
     "output_type": "stream",
     "text": [
      "                                                                                                                         \r"
     ]
    },
    {
     "name": "stdout",
     "output_type": "stream",
     "text": [
      "finshed ./viscous_beam/gif/uniform_p20-m1.gif\n",
      "MoviePy - Building file ./viscous_beam/gif/uniform_p20-m10.gif with imageio.\n"
     ]
    },
    {
     "name": "stderr",
     "output_type": "stream",
     "text": [
      "                                                                                                                         \r"
     ]
    },
    {
     "name": "stdout",
     "output_type": "stream",
     "text": [
      "finshed ./viscous_beam/gif/uniform_p20-m10.gif\n",
      "MoviePy - Building file ./viscous_beam/gif/uniform_p20-m20.gif with imageio.\n"
     ]
    },
    {
     "name": "stderr",
     "output_type": "stream",
     "text": [
      "                                                                                                                         \r"
     ]
    },
    {
     "name": "stdout",
     "output_type": "stream",
     "text": [
      "finshed ./viscous_beam/gif/uniform_p20-m20.gif\n",
      "MoviePy - Building file ./viscous_beam/gif/uniform_p20-m50.gif with imageio.\n"
     ]
    },
    {
     "name": "stderr",
     "output_type": "stream",
     "text": [
      "                                                                                                                         \r"
     ]
    },
    {
     "name": "stdout",
     "output_type": "stream",
     "text": [
      "finshed ./viscous_beam/gif/uniform_p20-m50.gif\n",
      "MoviePy - Building file ./viscous_beam/gif/uniform_p20-p0.1.gif with imageio.\n"
     ]
    },
    {
     "name": "stderr",
     "output_type": "stream",
     "text": [
      "                                                                                                                         \r"
     ]
    },
    {
     "name": "stdout",
     "output_type": "stream",
     "text": [
      "finshed ./viscous_beam/gif/uniform_p20-p0.1.gif\n",
      "MoviePy - Building file ./viscous_beam/gif/uniform_p20-p1.gif with imageio.\n"
     ]
    },
    {
     "name": "stderr",
     "output_type": "stream",
     "text": [
      "                                                                                                                         \r"
     ]
    },
    {
     "name": "stdout",
     "output_type": "stream",
     "text": [
      "finshed ./viscous_beam/gif/uniform_p20-p1.gif\n",
      "MoviePy - Building file ./viscous_beam/gif/uniform_p20-p10.gif with imageio.\n"
     ]
    },
    {
     "name": "stderr",
     "output_type": "stream",
     "text": [
      "                                                                                                                         \r"
     ]
    },
    {
     "name": "stdout",
     "output_type": "stream",
     "text": [
      "finshed ./viscous_beam/gif/uniform_p20-p10.gif\n",
      "MoviePy - Building file ./viscous_beam/gif/uniform_p20-p20.gif with imageio.\n"
     ]
    },
    {
     "name": "stderr",
     "output_type": "stream",
     "text": [
      "                                                                                                                         \r"
     ]
    },
    {
     "name": "stdout",
     "output_type": "stream",
     "text": [
      "finshed ./viscous_beam/gif/uniform_p20-p20.gif\n",
      "MoviePy - Building file ./viscous_beam/gif/uniform_p20-p50.gif with imageio.\n"
     ]
    },
    {
     "name": "stderr",
     "output_type": "stream",
     "text": [
      "                                                                                                                         \r"
     ]
    },
    {
     "name": "stdout",
     "output_type": "stream",
     "text": [
      "finshed ./viscous_beam/gif/uniform_p20-p50.gif\n",
      "MoviePy - Building file ./viscous_beam/gif/uniform_p20-uniform.gif with imageio.\n"
     ]
    },
    {
     "name": "stderr",
     "output_type": "stream",
     "text": [
      "                                                                                                                         \r"
     ]
    },
    {
     "name": "stdout",
     "output_type": "stream",
     "text": [
      "finshed ./viscous_beam/gif/uniform_p20-uniform.gif\n",
      "MoviePy - Building file ./viscous_beam/gif/uniform_p20-reduced.gif with imageio.\n"
     ]
    },
    {
     "name": "stderr",
     "output_type": "stream",
     "text": [
      "                                                                                                                         \r"
     ]
    },
    {
     "name": "stdout",
     "output_type": "stream",
     "text": [
      "finshed ./viscous_beam/gif/uniform_p20-reduced.gif\n",
      "MoviePy - Building file ./viscous_beam/gif/uniform_p50-m0.1.gif with imageio.\n"
     ]
    },
    {
     "name": "stderr",
     "output_type": "stream",
     "text": [
      "                                                                                                                         \r"
     ]
    },
    {
     "name": "stdout",
     "output_type": "stream",
     "text": [
      "finshed ./viscous_beam/gif/uniform_p50-m0.1.gif\n",
      "MoviePy - Building file ./viscous_beam/gif/uniform_p50-m1.gif with imageio.\n"
     ]
    },
    {
     "name": "stderr",
     "output_type": "stream",
     "text": [
      "                                                                                                                         \r"
     ]
    },
    {
     "name": "stdout",
     "output_type": "stream",
     "text": [
      "finshed ./viscous_beam/gif/uniform_p50-m1.gif\n",
      "MoviePy - Building file ./viscous_beam/gif/uniform_p50-m10.gif with imageio.\n"
     ]
    },
    {
     "name": "stderr",
     "output_type": "stream",
     "text": [
      "                                                                                                                         \r"
     ]
    },
    {
     "name": "stdout",
     "output_type": "stream",
     "text": [
      "finshed ./viscous_beam/gif/uniform_p50-m10.gif\n",
      "MoviePy - Building file ./viscous_beam/gif/uniform_p50-m20.gif with imageio.\n"
     ]
    },
    {
     "name": "stderr",
     "output_type": "stream",
     "text": [
      "                                                                                                                         \r"
     ]
    },
    {
     "name": "stdout",
     "output_type": "stream",
     "text": [
      "finshed ./viscous_beam/gif/uniform_p50-m20.gif\n",
      "MoviePy - Building file ./viscous_beam/gif/uniform_p50-m50.gif with imageio.\n"
     ]
    },
    {
     "name": "stderr",
     "output_type": "stream",
     "text": [
      "                                                                                                                         \r"
     ]
    },
    {
     "name": "stdout",
     "output_type": "stream",
     "text": [
      "finshed ./viscous_beam/gif/uniform_p50-m50.gif\n",
      "MoviePy - Building file ./viscous_beam/gif/uniform_p50-p0.1.gif with imageio.\n"
     ]
    },
    {
     "name": "stderr",
     "output_type": "stream",
     "text": [
      "                                                                                                                         \r"
     ]
    },
    {
     "name": "stdout",
     "output_type": "stream",
     "text": [
      "finshed ./viscous_beam/gif/uniform_p50-p0.1.gif\n",
      "MoviePy - Building file ./viscous_beam/gif/uniform_p50-p1.gif with imageio.\n"
     ]
    },
    {
     "name": "stderr",
     "output_type": "stream",
     "text": [
      "                                                                                                                         \r"
     ]
    },
    {
     "name": "stdout",
     "output_type": "stream",
     "text": [
      "finshed ./viscous_beam/gif/uniform_p50-p1.gif\n",
      "MoviePy - Building file ./viscous_beam/gif/uniform_p50-p10.gif with imageio.\n"
     ]
    },
    {
     "name": "stderr",
     "output_type": "stream",
     "text": [
      "                                                                                                                         \r"
     ]
    },
    {
     "name": "stdout",
     "output_type": "stream",
     "text": [
      "finshed ./viscous_beam/gif/uniform_p50-p10.gif\n",
      "MoviePy - Building file ./viscous_beam/gif/uniform_p50-p20.gif with imageio.\n"
     ]
    },
    {
     "name": "stderr",
     "output_type": "stream",
     "text": [
      "                                                                                                                         \r"
     ]
    },
    {
     "name": "stdout",
     "output_type": "stream",
     "text": [
      "finshed ./viscous_beam/gif/uniform_p50-p20.gif\n",
      "MoviePy - Building file ./viscous_beam/gif/uniform_p50-p50.gif with imageio.\n"
     ]
    },
    {
     "name": "stderr",
     "output_type": "stream",
     "text": [
      "                                                                                                                         \r"
     ]
    },
    {
     "name": "stdout",
     "output_type": "stream",
     "text": [
      "finshed ./viscous_beam/gif/uniform_p50-p50.gif\n",
      "MoviePy - Building file ./viscous_beam/gif/uniform_p50-uniform.gif with imageio.\n"
     ]
    },
    {
     "name": "stderr",
     "output_type": "stream",
     "text": [
      "                                                                                                                         \r"
     ]
    },
    {
     "name": "stdout",
     "output_type": "stream",
     "text": [
      "finshed ./viscous_beam/gif/uniform_p50-uniform.gif\n",
      "MoviePy - Building file ./viscous_beam/gif/uniform_p50-reduced.gif with imageio.\n"
     ]
    },
    {
     "name": "stderr",
     "output_type": "stream",
     "text": [
      "                                                                                                                         \r"
     ]
    },
    {
     "name": "stdout",
     "output_type": "stream",
     "text": [
      "finshed ./viscous_beam/gif/uniform_p50-reduced.gif\n",
      "MoviePy - Building file ./viscous_beam/gif/uniform_uniform-m0.1.gif with imageio.\n"
     ]
    },
    {
     "name": "stderr",
     "output_type": "stream",
     "text": [
      "                                                                                                                         \r"
     ]
    },
    {
     "name": "stdout",
     "output_type": "stream",
     "text": [
      "finshed ./viscous_beam/gif/uniform_uniform-m0.1.gif\n",
      "MoviePy - Building file ./viscous_beam/gif/uniform_uniform-m1.gif with imageio.\n"
     ]
    },
    {
     "name": "stderr",
     "output_type": "stream",
     "text": [
      "                                                                                                                         \r"
     ]
    },
    {
     "name": "stdout",
     "output_type": "stream",
     "text": [
      "finshed ./viscous_beam/gif/uniform_uniform-m1.gif\n",
      "MoviePy - Building file ./viscous_beam/gif/uniform_uniform-m10.gif with imageio.\n"
     ]
    },
    {
     "name": "stderr",
     "output_type": "stream",
     "text": [
      "                                                                                                                         \r"
     ]
    },
    {
     "name": "stdout",
     "output_type": "stream",
     "text": [
      "finshed ./viscous_beam/gif/uniform_uniform-m10.gif\n",
      "MoviePy - Building file ./viscous_beam/gif/uniform_uniform-m20.gif with imageio.\n"
     ]
    },
    {
     "name": "stderr",
     "output_type": "stream",
     "text": [
      "                                                                                                                         \r"
     ]
    },
    {
     "name": "stdout",
     "output_type": "stream",
     "text": [
      "finshed ./viscous_beam/gif/uniform_uniform-m20.gif\n",
      "MoviePy - Building file ./viscous_beam/gif/uniform_uniform-m50.gif with imageio.\n"
     ]
    },
    {
     "name": "stderr",
     "output_type": "stream",
     "text": [
      "                                                                                                                         \r"
     ]
    },
    {
     "name": "stdout",
     "output_type": "stream",
     "text": [
      "finshed ./viscous_beam/gif/uniform_uniform-m50.gif\n",
      "MoviePy - Building file ./viscous_beam/gif/uniform_uniform-p0.1.gif with imageio.\n"
     ]
    },
    {
     "name": "stderr",
     "output_type": "stream",
     "text": [
      "                                                                                                                         \r"
     ]
    },
    {
     "name": "stdout",
     "output_type": "stream",
     "text": [
      "finshed ./viscous_beam/gif/uniform_uniform-p0.1.gif\n",
      "MoviePy - Building file ./viscous_beam/gif/uniform_uniform-p1.gif with imageio.\n"
     ]
    },
    {
     "name": "stderr",
     "output_type": "stream",
     "text": [
      "                                                                                                                         \r"
     ]
    },
    {
     "name": "stdout",
     "output_type": "stream",
     "text": [
      "finshed ./viscous_beam/gif/uniform_uniform-p1.gif\n",
      "MoviePy - Building file ./viscous_beam/gif/uniform_uniform-p10.gif with imageio.\n"
     ]
    },
    {
     "name": "stderr",
     "output_type": "stream",
     "text": [
      "                                                                                                                         \r"
     ]
    },
    {
     "name": "stdout",
     "output_type": "stream",
     "text": [
      "finshed ./viscous_beam/gif/uniform_uniform-p10.gif\n",
      "MoviePy - Building file ./viscous_beam/gif/uniform_uniform-p20.gif with imageio.\n"
     ]
    },
    {
     "name": "stderr",
     "output_type": "stream",
     "text": [
      "                                                                                                                         \r"
     ]
    },
    {
     "name": "stdout",
     "output_type": "stream",
     "text": [
      "finshed ./viscous_beam/gif/uniform_uniform-p20.gif\n",
      "MoviePy - Building file ./viscous_beam/gif/uniform_uniform-p50.gif with imageio.\n"
     ]
    },
    {
     "name": "stderr",
     "output_type": "stream",
     "text": [
      "                                                                                                                         \r"
     ]
    },
    {
     "name": "stdout",
     "output_type": "stream",
     "text": [
      "finshed ./viscous_beam/gif/uniform_uniform-p50.gif\n",
      "MoviePy - Building file ./viscous_beam/gif/uniform_uniform-uniform.gif with imageio.\n"
     ]
    },
    {
     "name": "stderr",
     "output_type": "stream",
     "text": [
      "                                                                                                                         \r"
     ]
    },
    {
     "name": "stdout",
     "output_type": "stream",
     "text": [
      "finshed ./viscous_beam/gif/uniform_uniform-uniform.gif\n",
      "MoviePy - Building file ./viscous_beam/gif/uniform_uniform-reduced.gif with imageio.\n"
     ]
    },
    {
     "name": "stderr",
     "output_type": "stream",
     "text": [
      "                                                                                                                         \r"
     ]
    },
    {
     "name": "stdout",
     "output_type": "stream",
     "text": [
      "finshed ./viscous_beam/gif/uniform_uniform-reduced.gif\n",
      "MoviePy - Building file ./viscous_beam/gif/uniform_reduced-m0.1.gif with imageio.\n"
     ]
    },
    {
     "name": "stderr",
     "output_type": "stream",
     "text": [
      "                                                                                                                         \r"
     ]
    },
    {
     "name": "stdout",
     "output_type": "stream",
     "text": [
      "finshed ./viscous_beam/gif/uniform_reduced-m0.1.gif\n",
      "MoviePy - Building file ./viscous_beam/gif/uniform_reduced-m1.gif with imageio.\n"
     ]
    },
    {
     "name": "stderr",
     "output_type": "stream",
     "text": [
      "                                                                                                                         \r"
     ]
    },
    {
     "name": "stdout",
     "output_type": "stream",
     "text": [
      "finshed ./viscous_beam/gif/uniform_reduced-m1.gif\n",
      "MoviePy - Building file ./viscous_beam/gif/uniform_reduced-m10.gif with imageio.\n"
     ]
    },
    {
     "name": "stderr",
     "output_type": "stream",
     "text": [
      "                                                                                                                         \r"
     ]
    },
    {
     "name": "stdout",
     "output_type": "stream",
     "text": [
      "finshed ./viscous_beam/gif/uniform_reduced-m10.gif\n",
      "MoviePy - Building file ./viscous_beam/gif/uniform_reduced-m20.gif with imageio.\n"
     ]
    },
    {
     "name": "stderr",
     "output_type": "stream",
     "text": [
      "                                                                                                                         \r"
     ]
    },
    {
     "name": "stdout",
     "output_type": "stream",
     "text": [
      "finshed ./viscous_beam/gif/uniform_reduced-m20.gif\n",
      "MoviePy - Building file ./viscous_beam/gif/uniform_reduced-m50.gif with imageio.\n"
     ]
    },
    {
     "name": "stderr",
     "output_type": "stream",
     "text": [
      "                                                                                                                         \r"
     ]
    },
    {
     "name": "stdout",
     "output_type": "stream",
     "text": [
      "finshed ./viscous_beam/gif/uniform_reduced-m50.gif\n",
      "MoviePy - Building file ./viscous_beam/gif/uniform_reduced-p0.1.gif with imageio.\n"
     ]
    },
    {
     "name": "stderr",
     "output_type": "stream",
     "text": [
      "                                                                                                                         \r"
     ]
    },
    {
     "name": "stdout",
     "output_type": "stream",
     "text": [
      "finshed ./viscous_beam/gif/uniform_reduced-p0.1.gif\n",
      "MoviePy - Building file ./viscous_beam/gif/uniform_reduced-p1.gif with imageio.\n"
     ]
    },
    {
     "name": "stderr",
     "output_type": "stream",
     "text": [
      "                                                                                                                         \r"
     ]
    },
    {
     "name": "stdout",
     "output_type": "stream",
     "text": [
      "finshed ./viscous_beam/gif/uniform_reduced-p1.gif\n",
      "MoviePy - Building file ./viscous_beam/gif/uniform_reduced-p10.gif with imageio.\n"
     ]
    },
    {
     "name": "stderr",
     "output_type": "stream",
     "text": [
      "                                                                                                                         \r"
     ]
    },
    {
     "name": "stdout",
     "output_type": "stream",
     "text": [
      "finshed ./viscous_beam/gif/uniform_reduced-p10.gif\n",
      "MoviePy - Building file ./viscous_beam/gif/uniform_reduced-p20.gif with imageio.\n"
     ]
    },
    {
     "name": "stderr",
     "output_type": "stream",
     "text": [
      "                                                                                                                         \r"
     ]
    },
    {
     "name": "stdout",
     "output_type": "stream",
     "text": [
      "finshed ./viscous_beam/gif/uniform_reduced-p20.gif\n",
      "MoviePy - Building file ./viscous_beam/gif/uniform_reduced-p50.gif with imageio.\n"
     ]
    },
    {
     "name": "stderr",
     "output_type": "stream",
     "text": [
      "                                                                                                                         \r"
     ]
    },
    {
     "name": "stdout",
     "output_type": "stream",
     "text": [
      "finshed ./viscous_beam/gif/uniform_reduced-p50.gif\n",
      "MoviePy - Building file ./viscous_beam/gif/uniform_reduced-uniform.gif with imageio.\n"
     ]
    },
    {
     "name": "stderr",
     "output_type": "stream",
     "text": [
      "                                                                                                                         \r"
     ]
    },
    {
     "name": "stdout",
     "output_type": "stream",
     "text": [
      "finshed ./viscous_beam/gif/uniform_reduced-uniform.gif\n",
      "MoviePy - Building file ./viscous_beam/gif/uniform_reduced-reduced.gif with imageio.\n"
     ]
    },
    {
     "name": "stderr",
     "output_type": "stream",
     "text": [
      "                                                                                                                         "
     ]
    },
    {
     "name": "stdout",
     "output_type": "stream",
     "text": [
      "finshed ./viscous_beam/gif/uniform_reduced-reduced.gif\n"
     ]
    },
    {
     "name": "stderr",
     "output_type": "stream",
     "text": [
      "\r"
     ]
    }
   ],
   "source": [
    "prefix = './viscous_beam/mp4/'\n",
    "suffix = '.mp4'\n",
    "outPrefix = './viscous_beam/gif/'\n",
    "outSuffix = '.gif'\n",
    "\n",
    "files = ['m0.1', 'm1', 'm10', 'm20', 'm50', 'p0.1', 'p1', 'p10', 'p20', 'p50', 'uniform', 'reduced'];\n",
    "#files = ['m0.1'];\n",
    "\n",
    "for file1 in files:\n",
    "    for file2 in files:\n",
    "        filenameR = prefix + 'uniform' + suffix;\n",
    "        filename1 = prefix + file1 + suffix;\n",
    "        filename2 = prefix + file2 + suffix;\n",
    "        filenameOut = outPrefix + 'uniform' + '_' + file1 + '-' + file2 + outSuffix;\n",
    "        stitchGif(filenameR, filename1, filename2, filenameOut);\n",
    "        print('finshed ' + filenameOut);"
   ]
  },
  {
   "cell_type": "code",
   "execution_count": 4,
   "id": "ddb9d245-5a72-4e52-95c2-a0bbd9b062ee",
   "metadata": {
    "collapsed": true,
    "jupyter": {
     "outputs_hidden": true
    },
    "tags": []
   },
   "outputs": [
    {
     "name": "stdout",
     "output_type": "stream",
     "text": [
      "MoviePy - Building file ./viscous_beam/gif/p50_p50-m50.gif with imageio.\n"
     ]
    },
    {
     "name": "stderr",
     "output_type": "stream",
     "text": [
      "                                                                                                                         \r"
     ]
    },
    {
     "name": "stdout",
     "output_type": "stream",
     "text": [
      "finshed ./viscous_beam/gif/p50_p50-m50.gif\n",
      "MoviePy - Building file ./viscous_beam/gif/slowcontrol_uniform-slowcontrol.gif with imageio.\n"
     ]
    },
    {
     "name": "stderr",
     "output_type": "stream",
     "text": [
      "                                                                                                                         \r"
     ]
    },
    {
     "name": "stdout",
     "output_type": "stream",
     "text": [
      "finshed ./viscous_beam/gif/slowcontrol_uniform-slowcontrol.gif\n",
      "MoviePy - Building file ./viscous_beam/gif/uniform_slowcontrol-uniform.gif with imageio.\n"
     ]
    },
    {
     "name": "stderr",
     "output_type": "stream",
     "text": [
      "                                                                                                                         "
     ]
    },
    {
     "name": "stdout",
     "output_type": "stream",
     "text": [
      "finshed ./viscous_beam/gif/uniform_slowcontrol-uniform.gif\n"
     ]
    },
    {
     "name": "stderr",
     "output_type": "stream",
     "text": [
      "\r"
     ]
    }
   ],
   "source": [
    "prefix = './viscous_beam/mp4/'\n",
    "suffix = '.mp4'\n",
    "outPrefix = './viscous_beam/gif/'\n",
    "outSuffix = '.gif'\n",
    "\n",
    "\n",
    "for set in sets:\n",
    "    filenameR = prefix + set[0] + suffix;\n",
    "    filename1 = prefix + set[1] + suffix;\n",
    "    filename2 = prefix + set[2] + suffix;\n",
    "    filenameOut = outPrefix + set[0] + '_' + set[1] + '-' + set[2] + outSuffix;\n",
    "    stitchGif(filenameR, filename1, filename2, filenameOut);\n",
    "    print('finshed ' + filenameOut);"
   ]
  },
  {
   "cell_type": "code",
   "execution_count": 21,
   "id": "a6ce024c-b52a-439e-99d2-e4278719a796",
   "metadata": {
    "collapsed": true,
    "jupyter": {
     "outputs_hidden": true
    },
    "tags": []
   },
   "outputs": [
    {
     "name": "stdout",
     "output_type": "stream",
     "text": [
      "./viscous_beam/gif/uniform_m0.1-m0.1.gif not found\n",
      "./viscous_beam/gif/uniform_m0.1-m1.gif not found\n",
      "./viscous_beam/gif/uniform_m0.1-m10.gif not found\n",
      "./viscous_beam/gif/uniform_m0.1-m20.gif not found\n",
      "./viscous_beam/gif/uniform_m0.1-m50.gif not found\n",
      "./viscous_beam/gif/uniform_m0.1-p0.1.gif not found\n",
      "./viscous_beam/gif/uniform_m0.1-p1.gif not found\n",
      "./viscous_beam/gif/uniform_m0.1-p10.gif not found\n",
      "./viscous_beam/gif/uniform_m0.1-p20.gif not found\n",
      "./viscous_beam/gif/uniform_m0.1-p50.gif not found\n",
      "./viscous_beam/gif/uniform_m0.1-uniform.gif not found\n",
      "./viscous_beam/gif/uniform_m0.1-reduced.gif not found\n",
      "./viscous_beam/gif/uniform_m1-m0.1.gif not found\n",
      "./viscous_beam/gif/uniform_m1-m1.gif not found\n",
      "./viscous_beam/gif/uniform_m1-m10.gif not found\n",
      "./viscous_beam/gif/uniform_m1-m20.gif not found\n",
      "./viscous_beam/gif/uniform_m1-m50.gif not found\n",
      "./viscous_beam/gif/uniform_m1-p0.1.gif not found\n",
      "./viscous_beam/gif/uniform_m1-p1.gif not found\n",
      "./viscous_beam/gif/uniform_m1-p10.gif not found\n",
      "./viscous_beam/gif/uniform_m1-p20.gif not found\n",
      "./viscous_beam/gif/uniform_m1-p50.gif not found\n",
      "./viscous_beam/gif/uniform_m1-uniform.gif not found\n",
      "./viscous_beam/gif/uniform_m1-reduced.gif not found\n",
      "./viscous_beam/gif/uniform_m10-m0.1.gif not found\n",
      "./viscous_beam/gif/uniform_m10-m1.gif not found\n",
      "./viscous_beam/gif/uniform_m10-m10.gif not found\n",
      "./viscous_beam/gif/uniform_m10-m20.gif not found\n",
      "./viscous_beam/gif/uniform_m10-m50.gif not found\n",
      "./viscous_beam/gif/uniform_m10-p0.1.gif not found\n",
      "./viscous_beam/gif/uniform_m10-p1.gif not found\n",
      "./viscous_beam/gif/uniform_m10-p10.gif not found\n",
      "./viscous_beam/gif/uniform_m10-p20.gif not found\n",
      "./viscous_beam/gif/uniform_m10-p50.gif not found\n",
      "./viscous_beam/gif/uniform_m10-uniform.gif not found\n",
      "./viscous_beam/gif/uniform_m10-reduced.gif not found\n",
      "./viscous_beam/gif/uniform_m20-m0.1.gif not found\n",
      "./viscous_beam/gif/uniform_m20-m1.gif not found\n",
      "./viscous_beam/gif/uniform_m20-m10.gif not found\n",
      "./viscous_beam/gif/uniform_m20-m20.gif not found\n",
      "./viscous_beam/gif/uniform_m20-m50.gif not found\n",
      "./viscous_beam/gif/uniform_m20-p0.1.gif not found\n",
      "./viscous_beam/gif/uniform_m20-p1.gif not found\n",
      "./viscous_beam/gif/uniform_m20-p10.gif not found\n",
      "./viscous_beam/gif/uniform_m20-p20.gif not found\n",
      "./viscous_beam/gif/uniform_m20-p50.gif not found\n",
      "./viscous_beam/gif/uniform_m20-uniform.gif not found\n",
      "./viscous_beam/gif/uniform_m20-reduced.gif not found\n",
      "./viscous_beam/gif/uniform_m50-m0.1.gif not found\n",
      "./viscous_beam/gif/uniform_m50-m1.gif not found\n",
      "./viscous_beam/gif/uniform_m50-m10.gif not found\n",
      "./viscous_beam/gif/uniform_m50-m20.gif not found\n",
      "./viscous_beam/gif/uniform_m50-m50.gif not found\n",
      "./viscous_beam/gif/uniform_m50-p0.1.gif not found\n",
      "./viscous_beam/gif/uniform_m50-p1.gif not found\n",
      "./viscous_beam/gif/uniform_m50-p10.gif not found\n",
      "./viscous_beam/gif/uniform_m50-p20.gif not found\n",
      "./viscous_beam/gif/uniform_m50-p50.gif not found\n",
      "./viscous_beam/gif/uniform_m50-uniform.gif not found\n",
      "./viscous_beam/gif/uniform_m50-reduced.gif not found\n",
      "./viscous_beam/gif/uniform_p0.1-m0.1.gif not found\n",
      "./viscous_beam/gif/uniform_p0.1-m1.gif not found\n",
      "./viscous_beam/gif/uniform_p0.1-m10.gif not found\n",
      "./viscous_beam/gif/uniform_p0.1-m20.gif not found\n",
      "./viscous_beam/gif/uniform_p0.1-m50.gif not found\n",
      "./viscous_beam/gif/uniform_p0.1-p0.1.gif not found\n",
      "./viscous_beam/gif/uniform_p0.1-p1.gif not found\n",
      "./viscous_beam/gif/uniform_p0.1-p10.gif not found\n",
      "./viscous_beam/gif/uniform_p0.1-p20.gif not found\n",
      "./viscous_beam/gif/uniform_p0.1-p50.gif not found\n",
      "./viscous_beam/gif/uniform_p0.1-uniform.gif not found\n",
      "./viscous_beam/gif/uniform_p0.1-reduced.gif not found\n",
      "./viscous_beam/gif/uniform_p1-m0.1.gif not found\n",
      "./viscous_beam/gif/uniform_p1-m1.gif not found\n",
      "./viscous_beam/gif/uniform_p1-m10.gif not found\n",
      "./viscous_beam/gif/uniform_p1-m20.gif not found\n",
      "./viscous_beam/gif/uniform_p1-m50.gif not found\n",
      "./viscous_beam/gif/uniform_p1-p0.1.gif not found\n",
      "./viscous_beam/gif/uniform_p1-p1.gif not found\n",
      "./viscous_beam/gif/uniform_p1-p10.gif not found\n",
      "./viscous_beam/gif/uniform_p1-p20.gif not found\n",
      "./viscous_beam/gif/uniform_p1-p50.gif not found\n",
      "./viscous_beam/gif/uniform_p1-uniform.gif not found\n",
      "./viscous_beam/gif/uniform_p1-reduced.gif not found\n",
      "./viscous_beam/gif/uniform_p10-m0.1.gif not found\n",
      "./viscous_beam/gif/uniform_p10-m1.gif not found\n",
      "./viscous_beam/gif/uniform_p10-m10.gif not found\n",
      "./viscous_beam/gif/uniform_p10-m20.gif not found\n",
      "./viscous_beam/gif/uniform_p10-m50.gif not found\n",
      "./viscous_beam/gif/uniform_p10-p0.1.gif not found\n",
      "./viscous_beam/gif/uniform_p10-p1.gif not found\n",
      "./viscous_beam/gif/uniform_p10-p10.gif not found\n",
      "./viscous_beam/gif/uniform_p10-p20.gif not found\n",
      "./viscous_beam/gif/uniform_p10-p50.gif not found\n",
      "./viscous_beam/gif/uniform_p10-uniform.gif not found\n",
      "./viscous_beam/gif/uniform_p10-reduced.gif not found\n",
      "./viscous_beam/gif/uniform_p20-m0.1.gif not found\n",
      "./viscous_beam/gif/uniform_p20-m1.gif not found\n",
      "./viscous_beam/gif/uniform_p20-m10.gif not found\n",
      "./viscous_beam/gif/uniform_p20-m20.gif not found\n",
      "./viscous_beam/gif/uniform_p20-m50.gif not found\n",
      "./viscous_beam/gif/uniform_p20-p0.1.gif not found\n",
      "./viscous_beam/gif/uniform_p20-p1.gif not found\n",
      "./viscous_beam/gif/uniform_p20-p10.gif not found\n",
      "./viscous_beam/gif/uniform_p20-p20.gif not found\n",
      "./viscous_beam/gif/uniform_p20-p50.gif not found\n",
      "./viscous_beam/gif/uniform_p20-uniform.gif not found\n",
      "./viscous_beam/gif/uniform_p20-reduced.gif not found\n",
      "./viscous_beam/gif/uniform_p50-m0.1.gif not found\n",
      "./viscous_beam/gif/uniform_p50-m1.gif not found\n",
      "./viscous_beam/gif/uniform_p50-m10.gif not found\n",
      "./viscous_beam/gif/uniform_p50-m20.gif not found\n",
      "./viscous_beam/gif/uniform_p50-m50.gif not found\n",
      "./viscous_beam/gif/uniform_p50-p0.1.gif not found\n",
      "./viscous_beam/gif/uniform_p50-p1.gif not found\n",
      "./viscous_beam/gif/uniform_p50-p10.gif not found\n",
      "./viscous_beam/gif/uniform_p50-p20.gif not found\n",
      "./viscous_beam/gif/uniform_p50-p50.gif not found\n",
      "./viscous_beam/gif/uniform_p50-uniform.gif not found\n",
      "./viscous_beam/gif/uniform_p50-reduced.gif not found\n",
      "./viscous_beam/gif/uniform_uniform-m0.1.gif not found\n",
      "./viscous_beam/gif/uniform_uniform-m1.gif not found\n",
      "./viscous_beam/gif/uniform_uniform-m10.gif not found\n",
      "./viscous_beam/gif/uniform_uniform-m20.gif not found\n",
      "./viscous_beam/gif/uniform_uniform-m50.gif not found\n",
      "./viscous_beam/gif/uniform_uniform-p0.1.gif not found\n",
      "./viscous_beam/gif/uniform_uniform-p1.gif not found\n",
      "./viscous_beam/gif/uniform_uniform-p10.gif not found\n",
      "./viscous_beam/gif/uniform_uniform-p20.gif not found\n",
      "./viscous_beam/gif/uniform_uniform-p50.gif not found\n",
      "./viscous_beam/gif/uniform_uniform-uniform.gif not found\n",
      "./viscous_beam/gif/uniform_uniform-reduced.gif not found\n",
      "./viscous_beam/gif/uniform_reduced-m0.1.gif not found\n",
      "./viscous_beam/gif/uniform_reduced-m1.gif not found\n",
      "./viscous_beam/gif/uniform_reduced-m10.gif not found\n",
      "./viscous_beam/gif/uniform_reduced-m20.gif not found\n",
      "./viscous_beam/gif/uniform_reduced-m50.gif not found\n",
      "./viscous_beam/gif/uniform_reduced-p0.1.gif not found\n",
      "./viscous_beam/gif/uniform_reduced-p1.gif not found\n",
      "./viscous_beam/gif/uniform_reduced-p10.gif not found\n",
      "./viscous_beam/gif/uniform_reduced-p20.gif not found\n",
      "./viscous_beam/gif/uniform_reduced-p50.gif not found\n",
      "./viscous_beam/gif/uniform_reduced-uniform.gif not found\n",
      "./viscous_beam/gif/uniform_reduced-reduced.gif not found\n"
     ]
    }
   ],
   "source": [
    "import pandas as pd\n",
    "import os\n",
    "\n",
    "prefix = './viscous_beam/mp4/'\n",
    "suffix = '.mp4'\n",
    "outPrefix = './viscous_beam/gif/'\n",
    "outSuffix = '.gif'\n",
    "\n",
    "files = ['m0.1', 'm1', 'm10', 'm20', 'm50', 'p0.1', 'p1', 'p10', 'p20', 'p50', 'uniform', 'reduced'];\n",
    "sets = [['p50', 'p50', 'm50'], ['slowcontrol', 'uniform', 'slowcontrol'], ['uniform', 'slowcontrol', 'uniform']];\n",
    "\n",
    "lookuptable = [];\n",
    "\n",
    "for file1 in files:\n",
    "    for file2 in files:\n",
    "        fn = 'uniform' + '_' + file1 + '-' + file2;\n",
    "        hashedfn = str(hashCode(fn));\n",
    "        \n",
    "        oldName = outPrefix + fn + outSuffix;\n",
    "        newName = outPrefix + hashedfn + outSuffix;\n",
    "        try:\n",
    "            os.rename(oldName, newName);\n",
    "        except:\n",
    "            print(oldName + ' not found');\n",
    "\n",
    "        lookuptable.append([fn, hashedfn]);\n",
    "\n",
    "for set in sets:\n",
    "    fn = set[0] + '_' + set[1] + '-' + set[2];\n",
    "    hashedfn = str(hashCode(fn));\n",
    "\n",
    "    oldName = outPrefix + fn + outSuffix;\n",
    "    newName = outPrefix + hashedfn + outSuffix;\n",
    "    try:\n",
    "        os.rename(oldName, newName);\n",
    "    except:\n",
    "        print(oldName + ' not found');\n",
    "    \n",
    "    lookuptable.append([fn, hashedfn]);\n",
    "\n",
    "df = pd.DataFrame(lookuptable);\n",
    "df.to_csv(outPrefix + 'hashtable.csv');"
   ]
  },
  {
   "cell_type": "code",
   "execution_count": 38,
   "id": "2fa36735-f878-4490-a4e9-657aeb0a05d1",
   "metadata": {},
   "outputs": [
    {
     "name": "stdout",
     "output_type": "stream",
     "text": [
      "finished converting ./viscous_beam/webp/-1122046991.webp\n",
      "finished converting ./viscous_beam/webp/-337827845.webp\n",
      "finished converting ./viscous_beam/webp/2058424322.webp\n",
      "finished converting ./viscous_beam/webp/-1037112665.webp\n",
      "finished converting ./viscous_beam/webp/-2084803678.webp\n",
      "finished converting ./viscous_beam/webp/-2084800826.webp\n",
      "finished converting ./viscous_beam/webp/-1037109906.webp\n",
      "finished converting ./viscous_beam/webp/-1124735712.webp\n",
      "finished converting ./viscous_beam/webp/-949269712.webp\n",
      "finished converting ./viscous_beam/webp/1440308900.webp\n",
      "finished converting ./viscous_beam/webp/-1721429515.webp\n",
      "finished converting ./viscous_beam/webp/-1122997235.webp\n",
      "finished converting ./viscous_beam/webp/-1824797760.webp\n",
      "finished converting ./viscous_beam/webp/-79769153.webp\n",
      "finished converting ./viscous_beam/webp/-2056174434.webp\n",
      "finished converting ./viscous_beam/webp/-1721601142.webp\n",
      "finished converting ./viscous_beam/webp/-2056171675.webp\n",
      "finished converting ./viscous_beam/webp/1329940746.webp\n",
      "finished converting ./viscous_beam/webp/1130476139.webp\n",
      "finished converting ./viscous_beam/webp/-2056174527.webp\n",
      "finished converting ./viscous_beam/webp/-337827969.webp\n",
      "finished converting ./viscous_beam/webp/1075061269.webp\n",
      "finished converting ./viscous_beam/webp/-1824708387.webp\n",
      "finished converting ./viscous_beam/webp/-2080783118.webp\n",
      "finished converting ./viscous_beam/webp/-1123000242.webp\n",
      "finished converting ./viscous_beam/webp/-2115220288.webp\n",
      "finished converting ./viscous_beam/webp/-204317140.webp\n",
      "finished converting ./viscous_beam/webp/-1037112789.webp\n",
      "finished converting ./viscous_beam/webp/-79858526.webp\n",
      "finished converting ./viscous_beam/webp/1329937863.webp\n",
      "finished converting ./viscous_beam/webp/-2085636988.webp\n",
      "finished converting ./viscous_beam/webp/683097168.webp\n",
      "finished converting ./viscous_beam/webp/-423718181.webp\n",
      "finished converting ./viscous_beam/webp/-453180735.webp\n",
      "finished converting ./viscous_beam/webp/-1970286981.webp\n",
      "finished converting ./viscous_beam/webp/-303249382.webp\n",
      "finished converting ./viscous_beam/webp/-1033388882.webp\n",
      "finished converting ./viscous_beam/webp/-807723494.webp\n",
      "finished converting ./viscous_beam/webp/-1122970419.webp\n",
      "finished converting ./viscous_beam/webp/1715033329.webp\n",
      "finished converting ./viscous_beam/webp/-2084800702.webp\n",
      "finished converting ./viscous_beam/webp/-250277168.webp\n",
      "finished converting ./viscous_beam/webp/-1147322199.webp\n",
      "finished converting ./viscous_beam/webp/1903436834.webp\n",
      "finished converting ./viscous_beam/webp/-482764128.webp\n",
      "finished converting ./viscous_beam/webp/-1036159538.webp\n",
      "finished converting ./viscous_beam/webp/-423715298.webp\n",
      "finished converting ./viscous_beam/webp/1289827301.webp\n",
      "finished converting ./viscous_beam/webp/-452344542.webp\n",
      "finished converting ./viscous_beam/webp/-1123000118.webp\n",
      "finished converting ./viscous_beam/webp/-1037112758.webp\n",
      "finished converting ./viscous_beam/webp/-931221992.webp\n",
      "finished converting ./viscous_beam/webp/-1849294817.webp\n",
      "finished converting ./viscous_beam/webp/-2084803585.webp\n",
      "finished converting ./viscous_beam/webp/1329940839.webp\n",
      "finished converting ./viscous_beam/webp/-240870125.webp\n",
      "finished converting ./viscous_beam/webp/-453270108.webp\n",
      "finished converting ./viscous_beam/webp/914301246.webp\n",
      "finished converting ./viscous_beam/webp/-1147319440.webp\n",
      "finished converting ./viscous_beam/webp/-1037109782.webp\n",
      "finished converting ./viscous_beam/webp/-1037083059.webp\n",
      "finished converting ./viscous_beam/webp/-1970287074.webp\n",
      "finished converting ./viscous_beam/webp/344422119.webp\n",
      "finished converting ./viscous_beam/webp/-949359085.webp\n",
      "finished converting ./viscous_beam/webp/-1721511769.webp\n",
      "finished converting ./viscous_beam/webp/-452344573.webp\n",
      "finished converting ./viscous_beam/webp/-1882733421.webp\n",
      "finished converting ./viscous_beam/webp/-452347456.webp\n",
      "finished converting ./viscous_beam/webp/-1147319316.webp\n",
      "finished converting ./viscous_beam/webp/-1970284191.webp\n",
      "finished converting ./viscous_beam/webp/-452347332.webp\n",
      "finished converting ./viscous_beam/webp/-1721432398.webp\n",
      "finished converting ./viscous_beam/webp/-1721432367.webp\n",
      "finished converting ./viscous_beam/webp/-1037082966.webp\n",
      "finished converting ./viscous_beam/webp/-1721429391.webp\n",
      "finished converting ./viscous_beam/webp/914301339.webp\n",
      "finished converting ./viscous_beam/webp/1906207490.webp\n",
      "finished converting ./viscous_beam/webp/1129741085.webp\n",
      "finished converting ./viscous_beam/webp/1719281600.webp\n",
      "finished converting ./viscous_beam/webp/687813112.webp\n",
      "finished converting ./viscous_beam/webp/562887716.webp\n",
      "finished converting ./viscous_beam/webp/-2085726361.webp\n",
      "finished converting ./viscous_beam/webp/-1122997328.webp\n",
      "finished converting ./viscous_beam/webp/-1970287105.webp\n",
      "finished converting ./viscous_beam/webp/-1970284222.webp\n",
      "finished converting ./viscous_beam/webp/-337830821.webp\n",
      "finished converting ./viscous_beam/webp/-1036159445.webp\n",
      "finished converting ./viscous_beam/webp/-1207254619.webp\n",
      "finished converting ./viscous_beam/webp/-1119276335.webp\n",
      "finished converting ./viscous_beam/webp/-1793879947.webp\n",
      "finished converting ./viscous_beam/webp/-1207165246.webp\n",
      "finished converting ./viscous_beam/webp/-2056171644.webp\n",
      "finished converting ./viscous_beam/webp/-1122046898.webp\n",
      "finished converting ./viscous_beam/webp/-337830728.webp\n",
      "finished converting ./viscous_beam/webp/-423718274.webp\n",
      "finished converting ./viscous_beam/webp/1329937956.webp\n",
      "finished converting ./viscous_beam/webp/-2115220381.webp\n",
      "finished converting ./viscous_beam/webp/683186541.webp\n",
      "finished converting ./viscous_beam/webp/-337830852.webp\n",
      "finished converting ./viscous_beam/webp/-2056174558.webp\n",
      "finished converting ./viscous_beam/webp/-1122997359.webp\n",
      "finished converting ./viscous_beam/webp/-1836295982.webp\n",
      "finished converting ./viscous_beam/webp/-1673860592.webp\n",
      "finished converting ./viscous_beam/webp/-1721429484.webp\n",
      "finished converting ./viscous_beam/webp/-1147322323.webp\n",
      "finished converting ./viscous_beam/webp/-1122970512.webp\n",
      "finished converting ./viscous_beam/webp/1289827208.webp\n",
      "finished converting ./viscous_beam/webp/-2080783149.webp\n",
      "finished converting ./viscous_beam/webp/-423715391.webp\n",
      "finished converting ./viscous_beam/webp/-1882822794.webp\n",
      "finished converting ./viscous_beam/webp/-337827938.webp\n",
      "finished converting ./viscous_beam/webp/-1721432274.webp\n",
      "finished converting ./viscous_beam/webp/-2080785908.webp\n",
      "finished converting ./viscous_beam/webp/-452347425.webp\n",
      "finished converting ./viscous_beam/webp/1329940715.webp\n",
      "finished converting ./viscous_beam/webp/-2080786032.webp\n",
      "finished converting ./viscous_beam/webp/-250366541.webp\n",
      "finished converting ./viscous_beam/webp/-1990393452.webp\n",
      "finished converting ./viscous_beam/webp/-2084800795.webp\n",
      "finished converting ./viscous_beam/webp/-423718305.webp\n",
      "finished converting ./viscous_beam/webp/-482764035.webp\n",
      "finished converting ./viscous_beam/webp/1906207397.webp\n",
      "finished converting ./viscous_beam/webp/-1147322292.webp\n",
      "finished converting ./viscous_beam/webp/-423715422.webp\n",
      "finished converting ./viscous_beam/webp/1329937832.webp\n",
      "finished converting ./viscous_beam/webp/-2056171551.webp\n",
      "finished converting ./viscous_beam/webp/2029849415.webp\n",
      "finished converting ./viscous_beam/webp/-894506671.webp\n",
      "finished converting ./viscous_beam/webp/348670390.webp\n",
      "finished converting ./viscous_beam/webp/-452344449.webp\n",
      "finished converting ./viscous_beam/webp/-1033388975.webp\n",
      "finished converting ./viscous_beam/webp/-1123000211.webp\n"
     ]
    }
   ],
   "source": [
    "from PIL import Image\n",
    "import os\n",
    "\n",
    "prefix = './viscous_beam/gif/'\n",
    "suffix = '.gif'\n",
    "outPrefix = './viscous_beam/webp/'\n",
    "outSuffix = '.webp'\n",
    "\n",
    "for filename in os.listdir(prefix):\n",
    "    if filename[-4:] != '.gif':\n",
    "        continue;\n",
    "    \n",
    "    fnin = os.path.join(prefix, filename);\n",
    "    fnout = os.path.join(outPrefix, filename.replace(suffix, outSuffix));\n",
    "    \n",
    "    if os.path.isfile(fnin) and not os.path.isfile(fnout):\n",
    "        im = Image.open(fnin);\n",
    "        im.info.pop('background', None);\n",
    "        im.save(fnout, format='WEBP', lossless=True, save_all=True);\n",
    "        print('finished converting ' + fnout);"
   ]
  },
  {
   "cell_type": "code",
   "execution_count": null,
   "id": "c2fa2df7-36c6-45a2-a178-f9501f4638a2",
   "metadata": {},
   "outputs": [],
   "source": []
  },
  {
   "cell_type": "code",
   "execution_count": null,
   "id": "52138766-ff1c-442e-87e5-78c854092f4b",
   "metadata": {},
   "outputs": [],
   "source": []
  },
  {
   "cell_type": "code",
   "execution_count": null,
   "id": "b839c64b-d26f-4517-85e9-efac0f2625d2",
   "metadata": {},
   "outputs": [],
   "source": []
  },
  {
   "cell_type": "code",
   "execution_count": null,
   "id": "c93d645e-a15b-450b-94d9-72f1a76875e3",
   "metadata": {},
   "outputs": [],
   "source": []
  }
 ],
 "metadata": {
  "kernelspec": {
   "display_name": "Python 3 (ipykernel)",
   "language": "python",
   "name": "python3"
  },
  "language_info": {
   "codemirror_mode": {
    "name": "ipython",
    "version": 3
   },
   "file_extension": ".py",
   "mimetype": "text/x-python",
   "name": "python",
   "nbconvert_exporter": "python",
   "pygments_lexer": "ipython3",
   "version": "3.10.6"
  }
 },
 "nbformat": 4,
 "nbformat_minor": 5
}
