{
 "cells": [
  {
   "cell_type": "code",
   "execution_count": 1,
   "id": "4cb373b4-4d97-4b5a-a6b5-49fb9ebbb6a1",
   "metadata": {},
   "outputs": [],
   "source": [
    "import math\n",
    "import imageio\n",
    "import numpy as np\n",
    "import moviepy.editor as mpy\n",
    "import pygifsicle\n",
    "\n",
    "filenameR = './viscous_beam/mp4/uniform.mp4'\n",
    "filename1 = './viscous_beam/mp4/m1.mp4'\n",
    "filename2 = './viscous_beam/mp4/p1.mp4'\n",
    "\n",
    "def stitchGif(filenameR, filename1, filename2, filenameOut):\n",
    "    margin = [50, 50];\n",
    "    clipsize = [1080, 1080];\n",
    "\n",
    "    clipR = mpy.VideoFileClip(filenameR).margin(top=margin[1], bottom=margin[1], left=math.floor(margin[0]*2+clipsize[0]/2), right=math.floor(margin[0]*2+clipsize[0]/2), color=(255,255,255))\n",
    "    clip1 = mpy.VideoFileClip(filename1).margin(top=margin[1], bottom=margin[1], left=margin[0], right=margin[1], color=(255,255,255))\n",
    "    clip2 = mpy.VideoFileClip(filename2).margin(top=margin[1], bottom=margin[1], left=margin[0], right=margin[1], color=(255,255,255))\n",
    "\n",
    "    # stack\n",
    "    tmp = mpy.clips_array([[clip1, clip2]])\n",
    "    final = mpy.clips_array([[clipR], [tmp]]).resize(0.5)\n",
    "    \n",
    "    # export\n",
    "    final.write_gif(filenameOut, fps=30, program='imageio', opt='nq')"
   ]
  },
  {
   "cell_type": "code",
   "execution_count": 2,
   "id": "4f1e7459-69dc-4055-b110-721c039ed450",
   "metadata": {},
   "outputs": [
    {
     "name": "stdout",
     "output_type": "stream",
     "text": [
      "MoviePy - Building file ./viscous_beam/gif/uniform_m0.1-m0.1.gif with imageio.\n"
     ]
    },
    {
     "name": "stderr",
     "output_type": "stream",
     "text": [
      "                                                                                                                         \r"
     ]
    },
    {
     "name": "stdout",
     "output_type": "stream",
     "text": [
      "finshed ./viscous_beam/gif/uniform_m0.1-m0.1.gif\n",
      "MoviePy - Building file ./viscous_beam/gif/uniform_m0.1-m1.gif with imageio.\n"
     ]
    },
    {
     "name": "stderr",
     "output_type": "stream",
     "text": [
      "                                                                                                                         \r"
     ]
    },
    {
     "name": "stdout",
     "output_type": "stream",
     "text": [
      "finshed ./viscous_beam/gif/uniform_m0.1-m1.gif\n",
      "MoviePy - Building file ./viscous_beam/gif/uniform_m0.1-m10.gif with imageio.\n"
     ]
    },
    {
     "name": "stderr",
     "output_type": "stream",
     "text": [
      "                                                                                                                         \r"
     ]
    },
    {
     "name": "stdout",
     "output_type": "stream",
     "text": [
      "finshed ./viscous_beam/gif/uniform_m0.1-m10.gif\n",
      "MoviePy - Building file ./viscous_beam/gif/uniform_m0.1-m20.gif with imageio.\n"
     ]
    },
    {
     "name": "stderr",
     "output_type": "stream",
     "text": [
      "                                                                                                                         \r"
     ]
    },
    {
     "name": "stdout",
     "output_type": "stream",
     "text": [
      "finshed ./viscous_beam/gif/uniform_m0.1-m20.gif\n",
      "MoviePy - Building file ./viscous_beam/gif/uniform_m0.1-m50.gif with imageio.\n"
     ]
    },
    {
     "name": "stderr",
     "output_type": "stream",
     "text": [
      "                                                                                                                         \r"
     ]
    },
    {
     "name": "stdout",
     "output_type": "stream",
     "text": [
      "finshed ./viscous_beam/gif/uniform_m0.1-m50.gif\n",
      "MoviePy - Building file ./viscous_beam/gif/uniform_m0.1-p0.1.gif with imageio.\n"
     ]
    },
    {
     "name": "stderr",
     "output_type": "stream",
     "text": [
      "                                                                                                                         \r"
     ]
    },
    {
     "name": "stdout",
     "output_type": "stream",
     "text": [
      "finshed ./viscous_beam/gif/uniform_m0.1-p0.1.gif\n",
      "MoviePy - Building file ./viscous_beam/gif/uniform_m0.1-p1.gif with imageio.\n"
     ]
    },
    {
     "name": "stderr",
     "output_type": "stream",
     "text": [
      "                                                                                                                         \r"
     ]
    },
    {
     "name": "stdout",
     "output_type": "stream",
     "text": [
      "finshed ./viscous_beam/gif/uniform_m0.1-p1.gif\n",
      "MoviePy - Building file ./viscous_beam/gif/uniform_m0.1-p10.gif with imageio.\n"
     ]
    },
    {
     "name": "stderr",
     "output_type": "stream",
     "text": [
      "                                                                                                                         \r"
     ]
    },
    {
     "name": "stdout",
     "output_type": "stream",
     "text": [
      "finshed ./viscous_beam/gif/uniform_m0.1-p10.gif\n",
      "MoviePy - Building file ./viscous_beam/gif/uniform_m0.1-p20.gif with imageio.\n"
     ]
    },
    {
     "name": "stderr",
     "output_type": "stream",
     "text": [
      "                                                                                                                         \r"
     ]
    },
    {
     "name": "stdout",
     "output_type": "stream",
     "text": [
      "finshed ./viscous_beam/gif/uniform_m0.1-p20.gif\n",
      "MoviePy - Building file ./viscous_beam/gif/uniform_m0.1-p50.gif with imageio.\n"
     ]
    },
    {
     "name": "stderr",
     "output_type": "stream",
     "text": [
      "                                                                                                                         \r"
     ]
    },
    {
     "name": "stdout",
     "output_type": "stream",
     "text": [
      "finshed ./viscous_beam/gif/uniform_m0.1-p50.gif\n",
      "MoviePy - Building file ./viscous_beam/gif/uniform_m0.1-uniform.gif with imageio.\n"
     ]
    },
    {
     "name": "stderr",
     "output_type": "stream",
     "text": [
      "                                                                                                                         \r"
     ]
    },
    {
     "name": "stdout",
     "output_type": "stream",
     "text": [
      "finshed ./viscous_beam/gif/uniform_m0.1-uniform.gif\n",
      "MoviePy - Building file ./viscous_beam/gif/uniform_m0.1-reduced.gif with imageio.\n"
     ]
    },
    {
     "name": "stderr",
     "output_type": "stream",
     "text": [
      "                                                                                                                         \r"
     ]
    },
    {
     "name": "stdout",
     "output_type": "stream",
     "text": [
      "finshed ./viscous_beam/gif/uniform_m0.1-reduced.gif\n",
      "MoviePy - Building file ./viscous_beam/gif/uniform_m1-m0.1.gif with imageio.\n"
     ]
    },
    {
     "name": "stderr",
     "output_type": "stream",
     "text": [
      "                                                                                                                         \r"
     ]
    },
    {
     "name": "stdout",
     "output_type": "stream",
     "text": [
      "finshed ./viscous_beam/gif/uniform_m1-m0.1.gif\n",
      "MoviePy - Building file ./viscous_beam/gif/uniform_m1-m1.gif with imageio.\n"
     ]
    },
    {
     "name": "stderr",
     "output_type": "stream",
     "text": [
      "                                                                                                                         \r"
     ]
    },
    {
     "name": "stdout",
     "output_type": "stream",
     "text": [
      "finshed ./viscous_beam/gif/uniform_m1-m1.gif\n",
      "MoviePy - Building file ./viscous_beam/gif/uniform_m1-m10.gif with imageio.\n"
     ]
    },
    {
     "name": "stderr",
     "output_type": "stream",
     "text": [
      "                                                                                                                         \r"
     ]
    },
    {
     "name": "stdout",
     "output_type": "stream",
     "text": [
      "finshed ./viscous_beam/gif/uniform_m1-m10.gif\n",
      "MoviePy - Building file ./viscous_beam/gif/uniform_m1-m20.gif with imageio.\n"
     ]
    },
    {
     "name": "stderr",
     "output_type": "stream",
     "text": [
      "                                                                                                                         \r"
     ]
    },
    {
     "name": "stdout",
     "output_type": "stream",
     "text": [
      "finshed ./viscous_beam/gif/uniform_m1-m20.gif\n",
      "MoviePy - Building file ./viscous_beam/gif/uniform_m1-m50.gif with imageio.\n"
     ]
    },
    {
     "name": "stderr",
     "output_type": "stream",
     "text": [
      "                                                                                                                         \r"
     ]
    },
    {
     "name": "stdout",
     "output_type": "stream",
     "text": [
      "finshed ./viscous_beam/gif/uniform_m1-m50.gif\n",
      "MoviePy - Building file ./viscous_beam/gif/uniform_m1-p0.1.gif with imageio.\n"
     ]
    },
    {
     "name": "stderr",
     "output_type": "stream",
     "text": [
      "                                                                                                                         \r"
     ]
    },
    {
     "name": "stdout",
     "output_type": "stream",
     "text": [
      "finshed ./viscous_beam/gif/uniform_m1-p0.1.gif\n",
      "MoviePy - Building file ./viscous_beam/gif/uniform_m1-p1.gif with imageio.\n"
     ]
    },
    {
     "name": "stderr",
     "output_type": "stream",
     "text": [
      "                                                                                                                         \r"
     ]
    },
    {
     "name": "stdout",
     "output_type": "stream",
     "text": [
      "finshed ./viscous_beam/gif/uniform_m1-p1.gif\n",
      "MoviePy - Building file ./viscous_beam/gif/uniform_m1-p10.gif with imageio.\n"
     ]
    },
    {
     "name": "stderr",
     "output_type": "stream",
     "text": [
      "                                                                                                                         \r"
     ]
    },
    {
     "name": "stdout",
     "output_type": "stream",
     "text": [
      "finshed ./viscous_beam/gif/uniform_m1-p10.gif\n",
      "MoviePy - Building file ./viscous_beam/gif/uniform_m1-p20.gif with imageio.\n"
     ]
    },
    {
     "name": "stderr",
     "output_type": "stream",
     "text": [
      "                                                                                                                         \r"
     ]
    },
    {
     "name": "stdout",
     "output_type": "stream",
     "text": [
      "finshed ./viscous_beam/gif/uniform_m1-p20.gif\n",
      "MoviePy - Building file ./viscous_beam/gif/uniform_m1-p50.gif with imageio.\n"
     ]
    },
    {
     "name": "stderr",
     "output_type": "stream",
     "text": [
      "                                                                                                                         \r"
     ]
    },
    {
     "name": "stdout",
     "output_type": "stream",
     "text": [
      "finshed ./viscous_beam/gif/uniform_m1-p50.gif\n",
      "MoviePy - Building file ./viscous_beam/gif/uniform_m1-uniform.gif with imageio.\n"
     ]
    },
    {
     "name": "stderr",
     "output_type": "stream",
     "text": [
      "                                                                                                                         \r"
     ]
    },
    {
     "name": "stdout",
     "output_type": "stream",
     "text": [
      "finshed ./viscous_beam/gif/uniform_m1-uniform.gif\n",
      "MoviePy - Building file ./viscous_beam/gif/uniform_m1-reduced.gif with imageio.\n"
     ]
    },
    {
     "name": "stderr",
     "output_type": "stream",
     "text": [
      "                                                                                                                         \r"
     ]
    },
    {
     "name": "stdout",
     "output_type": "stream",
     "text": [
      "finshed ./viscous_beam/gif/uniform_m1-reduced.gif\n",
      "MoviePy - Building file ./viscous_beam/gif/uniform_m10-m0.1.gif with imageio.\n"
     ]
    },
    {
     "name": "stderr",
     "output_type": "stream",
     "text": [
      "                                                                                                                         \r"
     ]
    },
    {
     "name": "stdout",
     "output_type": "stream",
     "text": [
      "finshed ./viscous_beam/gif/uniform_m10-m0.1.gif\n",
      "MoviePy - Building file ./viscous_beam/gif/uniform_m10-m1.gif with imageio.\n"
     ]
    },
    {
     "name": "stderr",
     "output_type": "stream",
     "text": [
      "                                                                                                                         \r"
     ]
    },
    {
     "name": "stdout",
     "output_type": "stream",
     "text": [
      "finshed ./viscous_beam/gif/uniform_m10-m1.gif\n",
      "MoviePy - Building file ./viscous_beam/gif/uniform_m10-m10.gif with imageio.\n"
     ]
    },
    {
     "name": "stderr",
     "output_type": "stream",
     "text": [
      "                                                                                                                         \r"
     ]
    },
    {
     "name": "stdout",
     "output_type": "stream",
     "text": [
      "finshed ./viscous_beam/gif/uniform_m10-m10.gif\n",
      "MoviePy - Building file ./viscous_beam/gif/uniform_m10-m20.gif with imageio.\n"
     ]
    },
    {
     "name": "stderr",
     "output_type": "stream",
     "text": [
      "                                                                                                                         \r"
     ]
    },
    {
     "name": "stdout",
     "output_type": "stream",
     "text": [
      "finshed ./viscous_beam/gif/uniform_m10-m20.gif\n",
      "MoviePy - Building file ./viscous_beam/gif/uniform_m10-m50.gif with imageio.\n"
     ]
    },
    {
     "name": "stderr",
     "output_type": "stream",
     "text": [
      "                                                                                                                         \r"
     ]
    },
    {
     "name": "stdout",
     "output_type": "stream",
     "text": [
      "finshed ./viscous_beam/gif/uniform_m10-m50.gif\n",
      "MoviePy - Building file ./viscous_beam/gif/uniform_m10-p0.1.gif with imageio.\n"
     ]
    },
    {
     "name": "stderr",
     "output_type": "stream",
     "text": [
      "                                                                                                                         \r"
     ]
    },
    {
     "name": "stdout",
     "output_type": "stream",
     "text": [
      "finshed ./viscous_beam/gif/uniform_m10-p0.1.gif\n",
      "MoviePy - Building file ./viscous_beam/gif/uniform_m10-p1.gif with imageio.\n"
     ]
    },
    {
     "name": "stderr",
     "output_type": "stream",
     "text": [
      "                                                                                                                         \r"
     ]
    },
    {
     "name": "stdout",
     "output_type": "stream",
     "text": [
      "finshed ./viscous_beam/gif/uniform_m10-p1.gif\n",
      "MoviePy - Building file ./viscous_beam/gif/uniform_m10-p10.gif with imageio.\n"
     ]
    },
    {
     "name": "stderr",
     "output_type": "stream",
     "text": [
      "                                                                                                                         \r"
     ]
    },
    {
     "name": "stdout",
     "output_type": "stream",
     "text": [
      "finshed ./viscous_beam/gif/uniform_m10-p10.gif\n",
      "MoviePy - Building file ./viscous_beam/gif/uniform_m10-p20.gif with imageio.\n"
     ]
    },
    {
     "name": "stderr",
     "output_type": "stream",
     "text": [
      "                                                                                                                         \r"
     ]
    },
    {
     "name": "stdout",
     "output_type": "stream",
     "text": [
      "finshed ./viscous_beam/gif/uniform_m10-p20.gif\n",
      "MoviePy - Building file ./viscous_beam/gif/uniform_m10-p50.gif with imageio.\n"
     ]
    },
    {
     "name": "stderr",
     "output_type": "stream",
     "text": [
      "                                                                                                                         \r"
     ]
    },
    {
     "name": "stdout",
     "output_type": "stream",
     "text": [
      "finshed ./viscous_beam/gif/uniform_m10-p50.gif\n",
      "MoviePy - Building file ./viscous_beam/gif/uniform_m10-uniform.gif with imageio.\n"
     ]
    },
    {
     "name": "stderr",
     "output_type": "stream",
     "text": [
      "                                                                                                                         \r"
     ]
    },
    {
     "name": "stdout",
     "output_type": "stream",
     "text": [
      "finshed ./viscous_beam/gif/uniform_m10-uniform.gif\n",
      "MoviePy - Building file ./viscous_beam/gif/uniform_m10-reduced.gif with imageio.\n"
     ]
    },
    {
     "name": "stderr",
     "output_type": "stream",
     "text": [
      "                                                                                                                         \r"
     ]
    },
    {
     "name": "stdout",
     "output_type": "stream",
     "text": [
      "finshed ./viscous_beam/gif/uniform_m10-reduced.gif\n",
      "MoviePy - Building file ./viscous_beam/gif/uniform_m20-m0.1.gif with imageio.\n"
     ]
    },
    {
     "name": "stderr",
     "output_type": "stream",
     "text": [
      "                                                                                                                         \r"
     ]
    },
    {
     "name": "stdout",
     "output_type": "stream",
     "text": [
      "finshed ./viscous_beam/gif/uniform_m20-m0.1.gif\n",
      "MoviePy - Building file ./viscous_beam/gif/uniform_m20-m1.gif with imageio.\n"
     ]
    },
    {
     "name": "stderr",
     "output_type": "stream",
     "text": [
      "                                                                                                                         \r"
     ]
    },
    {
     "name": "stdout",
     "output_type": "stream",
     "text": [
      "finshed ./viscous_beam/gif/uniform_m20-m1.gif\n",
      "MoviePy - Building file ./viscous_beam/gif/uniform_m20-m10.gif with imageio.\n"
     ]
    },
    {
     "name": "stderr",
     "output_type": "stream",
     "text": [
      "                                                                                                                         \r"
     ]
    },
    {
     "name": "stdout",
     "output_type": "stream",
     "text": [
      "finshed ./viscous_beam/gif/uniform_m20-m10.gif\n",
      "MoviePy - Building file ./viscous_beam/gif/uniform_m20-m20.gif with imageio.\n"
     ]
    },
    {
     "name": "stderr",
     "output_type": "stream",
     "text": [
      "                                                                                                                         \r"
     ]
    },
    {
     "name": "stdout",
     "output_type": "stream",
     "text": [
      "finshed ./viscous_beam/gif/uniform_m20-m20.gif\n",
      "MoviePy - Building file ./viscous_beam/gif/uniform_m20-m50.gif with imageio.\n"
     ]
    },
    {
     "name": "stderr",
     "output_type": "stream",
     "text": [
      "                                                                                                                         \r"
     ]
    },
    {
     "name": "stdout",
     "output_type": "stream",
     "text": [
      "finshed ./viscous_beam/gif/uniform_m20-m50.gif\n",
      "MoviePy - Building file ./viscous_beam/gif/uniform_m20-p0.1.gif with imageio.\n"
     ]
    },
    {
     "name": "stderr",
     "output_type": "stream",
     "text": [
      "                                                                                                                         \r"
     ]
    },
    {
     "name": "stdout",
     "output_type": "stream",
     "text": [
      "finshed ./viscous_beam/gif/uniform_m20-p0.1.gif\n",
      "MoviePy - Building file ./viscous_beam/gif/uniform_m20-p1.gif with imageio.\n"
     ]
    },
    {
     "name": "stderr",
     "output_type": "stream",
     "text": [
      "                                                                                                                         \r"
     ]
    },
    {
     "name": "stdout",
     "output_type": "stream",
     "text": [
      "finshed ./viscous_beam/gif/uniform_m20-p1.gif\n",
      "MoviePy - Building file ./viscous_beam/gif/uniform_m20-p10.gif with imageio.\n"
     ]
    },
    {
     "name": "stderr",
     "output_type": "stream",
     "text": [
      "                                                                                                                         \r"
     ]
    },
    {
     "name": "stdout",
     "output_type": "stream",
     "text": [
      "finshed ./viscous_beam/gif/uniform_m20-p10.gif\n",
      "MoviePy - Building file ./viscous_beam/gif/uniform_m20-p20.gif with imageio.\n"
     ]
    },
    {
     "name": "stderr",
     "output_type": "stream",
     "text": [
      "                                                                                                                         \r"
     ]
    },
    {
     "name": "stdout",
     "output_type": "stream",
     "text": [
      "finshed ./viscous_beam/gif/uniform_m20-p20.gif\n",
      "MoviePy - Building file ./viscous_beam/gif/uniform_m20-p50.gif with imageio.\n"
     ]
    },
    {
     "name": "stderr",
     "output_type": "stream",
     "text": [
      "                                                                                                                         \r"
     ]
    },
    {
     "name": "stdout",
     "output_type": "stream",
     "text": [
      "finshed ./viscous_beam/gif/uniform_m20-p50.gif\n",
      "MoviePy - Building file ./viscous_beam/gif/uniform_m20-uniform.gif with imageio.\n"
     ]
    },
    {
     "name": "stderr",
     "output_type": "stream",
     "text": [
      "                                                                                                                         \r"
     ]
    },
    {
     "name": "stdout",
     "output_type": "stream",
     "text": [
      "finshed ./viscous_beam/gif/uniform_m20-uniform.gif\n",
      "MoviePy - Building file ./viscous_beam/gif/uniform_m20-reduced.gif with imageio.\n"
     ]
    },
    {
     "name": "stderr",
     "output_type": "stream",
     "text": [
      "                                                                                                                         \r"
     ]
    },
    {
     "name": "stdout",
     "output_type": "stream",
     "text": [
      "finshed ./viscous_beam/gif/uniform_m20-reduced.gif\n",
      "MoviePy - Building file ./viscous_beam/gif/uniform_m50-m0.1.gif with imageio.\n"
     ]
    },
    {
     "name": "stderr",
     "output_type": "stream",
     "text": [
      "                                                                                                                         \r"
     ]
    },
    {
     "name": "stdout",
     "output_type": "stream",
     "text": [
      "finshed ./viscous_beam/gif/uniform_m50-m0.1.gif\n",
      "MoviePy - Building file ./viscous_beam/gif/uniform_m50-m1.gif with imageio.\n"
     ]
    },
    {
     "name": "stderr",
     "output_type": "stream",
     "text": [
      "                                                                                                                         \r"
     ]
    },
    {
     "name": "stdout",
     "output_type": "stream",
     "text": [
      "finshed ./viscous_beam/gif/uniform_m50-m1.gif\n",
      "MoviePy - Building file ./viscous_beam/gif/uniform_m50-m10.gif with imageio.\n"
     ]
    },
    {
     "name": "stderr",
     "output_type": "stream",
     "text": [
      "                                                                                                                         \r"
     ]
    },
    {
     "name": "stdout",
     "output_type": "stream",
     "text": [
      "finshed ./viscous_beam/gif/uniform_m50-m10.gif\n",
      "MoviePy - Building file ./viscous_beam/gif/uniform_m50-m20.gif with imageio.\n"
     ]
    },
    {
     "name": "stderr",
     "output_type": "stream",
     "text": [
      "                                                                                                                         \r"
     ]
    },
    {
     "name": "stdout",
     "output_type": "stream",
     "text": [
      "finshed ./viscous_beam/gif/uniform_m50-m20.gif\n",
      "MoviePy - Building file ./viscous_beam/gif/uniform_m50-m50.gif with imageio.\n"
     ]
    },
    {
     "name": "stderr",
     "output_type": "stream",
     "text": [
      "                                                                                                                         \r"
     ]
    },
    {
     "name": "stdout",
     "output_type": "stream",
     "text": [
      "finshed ./viscous_beam/gif/uniform_m50-m50.gif\n",
      "MoviePy - Building file ./viscous_beam/gif/uniform_m50-p0.1.gif with imageio.\n"
     ]
    },
    {
     "name": "stderr",
     "output_type": "stream",
     "text": [
      "                                                                                                                         \r"
     ]
    },
    {
     "name": "stdout",
     "output_type": "stream",
     "text": [
      "finshed ./viscous_beam/gif/uniform_m50-p0.1.gif\n",
      "MoviePy - Building file ./viscous_beam/gif/uniform_m50-p1.gif with imageio.\n"
     ]
    },
    {
     "name": "stderr",
     "output_type": "stream",
     "text": [
      "                                                                                                                         \r"
     ]
    },
    {
     "name": "stdout",
     "output_type": "stream",
     "text": [
      "finshed ./viscous_beam/gif/uniform_m50-p1.gif\n",
      "MoviePy - Building file ./viscous_beam/gif/uniform_m50-p10.gif with imageio.\n"
     ]
    },
    {
     "name": "stderr",
     "output_type": "stream",
     "text": [
      "                                                                                                                         \r"
     ]
    },
    {
     "name": "stdout",
     "output_type": "stream",
     "text": [
      "finshed ./viscous_beam/gif/uniform_m50-p10.gif\n",
      "MoviePy - Building file ./viscous_beam/gif/uniform_m50-p20.gif with imageio.\n"
     ]
    },
    {
     "name": "stderr",
     "output_type": "stream",
     "text": [
      "                                                                                                                         \r"
     ]
    },
    {
     "name": "stdout",
     "output_type": "stream",
     "text": [
      "finshed ./viscous_beam/gif/uniform_m50-p20.gif\n",
      "MoviePy - Building file ./viscous_beam/gif/uniform_m50-p50.gif with imageio.\n"
     ]
    },
    {
     "name": "stderr",
     "output_type": "stream",
     "text": [
      "                                                                                                                         \r"
     ]
    },
    {
     "name": "stdout",
     "output_type": "stream",
     "text": [
      "finshed ./viscous_beam/gif/uniform_m50-p50.gif\n",
      "MoviePy - Building file ./viscous_beam/gif/uniform_m50-uniform.gif with imageio.\n"
     ]
    },
    {
     "name": "stderr",
     "output_type": "stream",
     "text": [
      "                                                                                                                         \r"
     ]
    },
    {
     "name": "stdout",
     "output_type": "stream",
     "text": [
      "finshed ./viscous_beam/gif/uniform_m50-uniform.gif\n",
      "MoviePy - Building file ./viscous_beam/gif/uniform_m50-reduced.gif with imageio.\n"
     ]
    },
    {
     "name": "stderr",
     "output_type": "stream",
     "text": [
      "                                                                                                                         \r"
     ]
    },
    {
     "name": "stdout",
     "output_type": "stream",
     "text": [
      "finshed ./viscous_beam/gif/uniform_m50-reduced.gif\n",
      "MoviePy - Building file ./viscous_beam/gif/uniform_p0.1-m0.1.gif with imageio.\n"
     ]
    },
    {
     "name": "stderr",
     "output_type": "stream",
     "text": [
      "                                                                                                                         \r"
     ]
    },
    {
     "name": "stdout",
     "output_type": "stream",
     "text": [
      "finshed ./viscous_beam/gif/uniform_p0.1-m0.1.gif\n",
      "MoviePy - Building file ./viscous_beam/gif/uniform_p0.1-m1.gif with imageio.\n"
     ]
    },
    {
     "name": "stderr",
     "output_type": "stream",
     "text": [
      "                                                                                                                         \r"
     ]
    },
    {
     "name": "stdout",
     "output_type": "stream",
     "text": [
      "finshed ./viscous_beam/gif/uniform_p0.1-m1.gif\n",
      "MoviePy - Building file ./viscous_beam/gif/uniform_p0.1-m10.gif with imageio.\n"
     ]
    },
    {
     "name": "stderr",
     "output_type": "stream",
     "text": [
      "                                                                                                                         \r"
     ]
    },
    {
     "name": "stdout",
     "output_type": "stream",
     "text": [
      "finshed ./viscous_beam/gif/uniform_p0.1-m10.gif\n",
      "MoviePy - Building file ./viscous_beam/gif/uniform_p0.1-m20.gif with imageio.\n"
     ]
    },
    {
     "name": "stderr",
     "output_type": "stream",
     "text": [
      "                                                                                                                         \r"
     ]
    },
    {
     "name": "stdout",
     "output_type": "stream",
     "text": [
      "finshed ./viscous_beam/gif/uniform_p0.1-m20.gif\n",
      "MoviePy - Building file ./viscous_beam/gif/uniform_p0.1-m50.gif with imageio.\n"
     ]
    },
    {
     "name": "stderr",
     "output_type": "stream",
     "text": [
      "                                                                                                                         \r"
     ]
    },
    {
     "name": "stdout",
     "output_type": "stream",
     "text": [
      "finshed ./viscous_beam/gif/uniform_p0.1-m50.gif\n",
      "MoviePy - Building file ./viscous_beam/gif/uniform_p0.1-p0.1.gif with imageio.\n"
     ]
    },
    {
     "name": "stderr",
     "output_type": "stream",
     "text": [
      "                                                                                                                         \r"
     ]
    },
    {
     "name": "stdout",
     "output_type": "stream",
     "text": [
      "finshed ./viscous_beam/gif/uniform_p0.1-p0.1.gif\n",
      "MoviePy - Building file ./viscous_beam/gif/uniform_p0.1-p1.gif with imageio.\n"
     ]
    },
    {
     "name": "stderr",
     "output_type": "stream",
     "text": [
      "                                                                                                                         \r"
     ]
    },
    {
     "name": "stdout",
     "output_type": "stream",
     "text": [
      "finshed ./viscous_beam/gif/uniform_p0.1-p1.gif\n",
      "MoviePy - Building file ./viscous_beam/gif/uniform_p0.1-p10.gif with imageio.\n"
     ]
    },
    {
     "name": "stderr",
     "output_type": "stream",
     "text": [
      "                                                                                                                         \r"
     ]
    },
    {
     "name": "stdout",
     "output_type": "stream",
     "text": [
      "finshed ./viscous_beam/gif/uniform_p0.1-p10.gif\n",
      "MoviePy - Building file ./viscous_beam/gif/uniform_p0.1-p20.gif with imageio.\n"
     ]
    },
    {
     "name": "stderr",
     "output_type": "stream",
     "text": [
      "                                                                                                                         \r"
     ]
    },
    {
     "name": "stdout",
     "output_type": "stream",
     "text": [
      "finshed ./viscous_beam/gif/uniform_p0.1-p20.gif\n",
      "MoviePy - Building file ./viscous_beam/gif/uniform_p0.1-p50.gif with imageio.\n"
     ]
    },
    {
     "name": "stderr",
     "output_type": "stream",
     "text": [
      "                                                                                                                         \r"
     ]
    },
    {
     "name": "stdout",
     "output_type": "stream",
     "text": [
      "finshed ./viscous_beam/gif/uniform_p0.1-p50.gif\n",
      "MoviePy - Building file ./viscous_beam/gif/uniform_p0.1-uniform.gif with imageio.\n"
     ]
    },
    {
     "name": "stderr",
     "output_type": "stream",
     "text": [
      "                                                                                                                         \r"
     ]
    },
    {
     "name": "stdout",
     "output_type": "stream",
     "text": [
      "finshed ./viscous_beam/gif/uniform_p0.1-uniform.gif\n",
      "MoviePy - Building file ./viscous_beam/gif/uniform_p0.1-reduced.gif with imageio.\n"
     ]
    },
    {
     "name": "stderr",
     "output_type": "stream",
     "text": [
      "                                                                                                                         \r"
     ]
    },
    {
     "name": "stdout",
     "output_type": "stream",
     "text": [
      "finshed ./viscous_beam/gif/uniform_p0.1-reduced.gif\n",
      "MoviePy - Building file ./viscous_beam/gif/uniform_p1-m0.1.gif with imageio.\n"
     ]
    },
    {
     "name": "stderr",
     "output_type": "stream",
     "text": [
      "                                                                                                                         \r"
     ]
    },
    {
     "name": "stdout",
     "output_type": "stream",
     "text": [
      "finshed ./viscous_beam/gif/uniform_p1-m0.1.gif\n",
      "MoviePy - Building file ./viscous_beam/gif/uniform_p1-m1.gif with imageio.\n"
     ]
    },
    {
     "name": "stderr",
     "output_type": "stream",
     "text": [
      "                                                                                                                         \r"
     ]
    },
    {
     "name": "stdout",
     "output_type": "stream",
     "text": [
      "finshed ./viscous_beam/gif/uniform_p1-m1.gif\n",
      "MoviePy - Building file ./viscous_beam/gif/uniform_p1-m10.gif with imageio.\n"
     ]
    },
    {
     "name": "stderr",
     "output_type": "stream",
     "text": [
      "                                                                                                                         \r"
     ]
    },
    {
     "name": "stdout",
     "output_type": "stream",
     "text": [
      "finshed ./viscous_beam/gif/uniform_p1-m10.gif\n",
      "MoviePy - Building file ./viscous_beam/gif/uniform_p1-m20.gif with imageio.\n"
     ]
    },
    {
     "name": "stderr",
     "output_type": "stream",
     "text": [
      "                                                                                                                         \r"
     ]
    },
    {
     "name": "stdout",
     "output_type": "stream",
     "text": [
      "finshed ./viscous_beam/gif/uniform_p1-m20.gif\n",
      "MoviePy - Building file ./viscous_beam/gif/uniform_p1-m50.gif with imageio.\n"
     ]
    },
    {
     "name": "stderr",
     "output_type": "stream",
     "text": [
      "                                                                                                                         \r"
     ]
    },
    {
     "name": "stdout",
     "output_type": "stream",
     "text": [
      "finshed ./viscous_beam/gif/uniform_p1-m50.gif\n",
      "MoviePy - Building file ./viscous_beam/gif/uniform_p1-p0.1.gif with imageio.\n"
     ]
    },
    {
     "name": "stderr",
     "output_type": "stream",
     "text": [
      "                                                                                                                         \r"
     ]
    },
    {
     "name": "stdout",
     "output_type": "stream",
     "text": [
      "finshed ./viscous_beam/gif/uniform_p1-p0.1.gif\n",
      "MoviePy - Building file ./viscous_beam/gif/uniform_p1-p1.gif with imageio.\n"
     ]
    },
    {
     "name": "stderr",
     "output_type": "stream",
     "text": [
      "                                                                                                                         \r"
     ]
    },
    {
     "name": "stdout",
     "output_type": "stream",
     "text": [
      "finshed ./viscous_beam/gif/uniform_p1-p1.gif\n",
      "MoviePy - Building file ./viscous_beam/gif/uniform_p1-p10.gif with imageio.\n"
     ]
    },
    {
     "name": "stderr",
     "output_type": "stream",
     "text": [
      "                                                                                                                         \r"
     ]
    },
    {
     "name": "stdout",
     "output_type": "stream",
     "text": [
      "finshed ./viscous_beam/gif/uniform_p1-p10.gif\n",
      "MoviePy - Building file ./viscous_beam/gif/uniform_p1-p20.gif with imageio.\n"
     ]
    },
    {
     "name": "stderr",
     "output_type": "stream",
     "text": [
      "                                                                                                                         \r"
     ]
    },
    {
     "name": "stdout",
     "output_type": "stream",
     "text": [
      "finshed ./viscous_beam/gif/uniform_p1-p20.gif\n",
      "MoviePy - Building file ./viscous_beam/gif/uniform_p1-p50.gif with imageio.\n"
     ]
    },
    {
     "name": "stderr",
     "output_type": "stream",
     "text": [
      "                                                                                                                         \r"
     ]
    },
    {
     "name": "stdout",
     "output_type": "stream",
     "text": [
      "finshed ./viscous_beam/gif/uniform_p1-p50.gif\n",
      "MoviePy - Building file ./viscous_beam/gif/uniform_p1-uniform.gif with imageio.\n"
     ]
    },
    {
     "name": "stderr",
     "output_type": "stream",
     "text": [
      "                                                                                                                         \r"
     ]
    },
    {
     "name": "stdout",
     "output_type": "stream",
     "text": [
      "finshed ./viscous_beam/gif/uniform_p1-uniform.gif\n",
      "MoviePy - Building file ./viscous_beam/gif/uniform_p1-reduced.gif with imageio.\n"
     ]
    },
    {
     "name": "stderr",
     "output_type": "stream",
     "text": [
      "                                                                                                                         \r"
     ]
    },
    {
     "name": "stdout",
     "output_type": "stream",
     "text": [
      "finshed ./viscous_beam/gif/uniform_p1-reduced.gif\n",
      "MoviePy - Building file ./viscous_beam/gif/uniform_p10-m0.1.gif with imageio.\n"
     ]
    },
    {
     "name": "stderr",
     "output_type": "stream",
     "text": [
      "                                                                                                                         \r"
     ]
    },
    {
     "name": "stdout",
     "output_type": "stream",
     "text": [
      "finshed ./viscous_beam/gif/uniform_p10-m0.1.gif\n",
      "MoviePy - Building file ./viscous_beam/gif/uniform_p10-m1.gif with imageio.\n"
     ]
    },
    {
     "name": "stderr",
     "output_type": "stream",
     "text": [
      "                                                                                                                         \r"
     ]
    },
    {
     "name": "stdout",
     "output_type": "stream",
     "text": [
      "finshed ./viscous_beam/gif/uniform_p10-m1.gif\n",
      "MoviePy - Building file ./viscous_beam/gif/uniform_p10-m10.gif with imageio.\n"
     ]
    },
    {
     "name": "stderr",
     "output_type": "stream",
     "text": [
      "                                                                                                                         \r"
     ]
    },
    {
     "name": "stdout",
     "output_type": "stream",
     "text": [
      "finshed ./viscous_beam/gif/uniform_p10-m10.gif\n",
      "MoviePy - Building file ./viscous_beam/gif/uniform_p10-m20.gif with imageio.\n"
     ]
    },
    {
     "name": "stderr",
     "output_type": "stream",
     "text": [
      "                                                                                                                         \r"
     ]
    },
    {
     "name": "stdout",
     "output_type": "stream",
     "text": [
      "finshed ./viscous_beam/gif/uniform_p10-m20.gif\n",
      "MoviePy - Building file ./viscous_beam/gif/uniform_p10-m50.gif with imageio.\n"
     ]
    },
    {
     "name": "stderr",
     "output_type": "stream",
     "text": [
      "                                                                                                                         \r"
     ]
    },
    {
     "name": "stdout",
     "output_type": "stream",
     "text": [
      "finshed ./viscous_beam/gif/uniform_p10-m50.gif\n",
      "MoviePy - Building file ./viscous_beam/gif/uniform_p10-p0.1.gif with imageio.\n"
     ]
    },
    {
     "name": "stderr",
     "output_type": "stream",
     "text": [
      "                                                                                                                         \r"
     ]
    },
    {
     "name": "stdout",
     "output_type": "stream",
     "text": [
      "finshed ./viscous_beam/gif/uniform_p10-p0.1.gif\n",
      "MoviePy - Building file ./viscous_beam/gif/uniform_p10-p1.gif with imageio.\n"
     ]
    },
    {
     "name": "stderr",
     "output_type": "stream",
     "text": [
      "                                                                                                                         \r"
     ]
    },
    {
     "name": "stdout",
     "output_type": "stream",
     "text": [
      "finshed ./viscous_beam/gif/uniform_p10-p1.gif\n",
      "MoviePy - Building file ./viscous_beam/gif/uniform_p10-p10.gif with imageio.\n"
     ]
    },
    {
     "name": "stderr",
     "output_type": "stream",
     "text": [
      "                                                                                                                         \r"
     ]
    },
    {
     "name": "stdout",
     "output_type": "stream",
     "text": [
      "finshed ./viscous_beam/gif/uniform_p10-p10.gif\n",
      "MoviePy - Building file ./viscous_beam/gif/uniform_p10-p20.gif with imageio.\n"
     ]
    },
    {
     "name": "stderr",
     "output_type": "stream",
     "text": [
      "                                                                                                                         \r"
     ]
    },
    {
     "name": "stdout",
     "output_type": "stream",
     "text": [
      "finshed ./viscous_beam/gif/uniform_p10-p20.gif\n",
      "MoviePy - Building file ./viscous_beam/gif/uniform_p10-p50.gif with imageio.\n"
     ]
    },
    {
     "name": "stderr",
     "output_type": "stream",
     "text": [
      "                                                                                                                         \r"
     ]
    },
    {
     "name": "stdout",
     "output_type": "stream",
     "text": [
      "finshed ./viscous_beam/gif/uniform_p10-p50.gif\n",
      "MoviePy - Building file ./viscous_beam/gif/uniform_p10-uniform.gif with imageio.\n"
     ]
    },
    {
     "name": "stderr",
     "output_type": "stream",
     "text": [
      "                                                                                                                         \r"
     ]
    },
    {
     "name": "stdout",
     "output_type": "stream",
     "text": [
      "finshed ./viscous_beam/gif/uniform_p10-uniform.gif\n",
      "MoviePy - Building file ./viscous_beam/gif/uniform_p10-reduced.gif with imageio.\n"
     ]
    },
    {
     "name": "stderr",
     "output_type": "stream",
     "text": [
      "                                                                                                                         \r"
     ]
    },
    {
     "name": "stdout",
     "output_type": "stream",
     "text": [
      "finshed ./viscous_beam/gif/uniform_p10-reduced.gif\n",
      "MoviePy - Building file ./viscous_beam/gif/uniform_p20-m0.1.gif with imageio.\n"
     ]
    },
    {
     "name": "stderr",
     "output_type": "stream",
     "text": [
      "                                                                                                                         \r"
     ]
    },
    {
     "name": "stdout",
     "output_type": "stream",
     "text": [
      "finshed ./viscous_beam/gif/uniform_p20-m0.1.gif\n",
      "MoviePy - Building file ./viscous_beam/gif/uniform_p20-m1.gif with imageio.\n"
     ]
    },
    {
     "name": "stderr",
     "output_type": "stream",
     "text": [
      "                                                                                                                         \r"
     ]
    },
    {
     "name": "stdout",
     "output_type": "stream",
     "text": [
      "finshed ./viscous_beam/gif/uniform_p20-m1.gif\n",
      "MoviePy - Building file ./viscous_beam/gif/uniform_p20-m10.gif with imageio.\n"
     ]
    },
    {
     "name": "stderr",
     "output_type": "stream",
     "text": [
      "                                                                                                                         \r"
     ]
    },
    {
     "name": "stdout",
     "output_type": "stream",
     "text": [
      "finshed ./viscous_beam/gif/uniform_p20-m10.gif\n",
      "MoviePy - Building file ./viscous_beam/gif/uniform_p20-m20.gif with imageio.\n"
     ]
    },
    {
     "name": "stderr",
     "output_type": "stream",
     "text": [
      "                                                                                                                         \r"
     ]
    },
    {
     "name": "stdout",
     "output_type": "stream",
     "text": [
      "finshed ./viscous_beam/gif/uniform_p20-m20.gif\n",
      "MoviePy - Building file ./viscous_beam/gif/uniform_p20-m50.gif with imageio.\n"
     ]
    },
    {
     "name": "stderr",
     "output_type": "stream",
     "text": [
      "                                                                                                                         \r"
     ]
    },
    {
     "name": "stdout",
     "output_type": "stream",
     "text": [
      "finshed ./viscous_beam/gif/uniform_p20-m50.gif\n",
      "MoviePy - Building file ./viscous_beam/gif/uniform_p20-p0.1.gif with imageio.\n"
     ]
    },
    {
     "name": "stderr",
     "output_type": "stream",
     "text": [
      "                                                                                                                         \r"
     ]
    },
    {
     "name": "stdout",
     "output_type": "stream",
     "text": [
      "finshed ./viscous_beam/gif/uniform_p20-p0.1.gif\n",
      "MoviePy - Building file ./viscous_beam/gif/uniform_p20-p1.gif with imageio.\n"
     ]
    },
    {
     "name": "stderr",
     "output_type": "stream",
     "text": [
      "                                                                                                                         \r"
     ]
    },
    {
     "name": "stdout",
     "output_type": "stream",
     "text": [
      "finshed ./viscous_beam/gif/uniform_p20-p1.gif\n",
      "MoviePy - Building file ./viscous_beam/gif/uniform_p20-p10.gif with imageio.\n"
     ]
    },
    {
     "name": "stderr",
     "output_type": "stream",
     "text": [
      "                                                                                                                         \r"
     ]
    },
    {
     "name": "stdout",
     "output_type": "stream",
     "text": [
      "finshed ./viscous_beam/gif/uniform_p20-p10.gif\n",
      "MoviePy - Building file ./viscous_beam/gif/uniform_p20-p20.gif with imageio.\n"
     ]
    },
    {
     "name": "stderr",
     "output_type": "stream",
     "text": [
      "                                                                                                                         \r"
     ]
    },
    {
     "name": "stdout",
     "output_type": "stream",
     "text": [
      "finshed ./viscous_beam/gif/uniform_p20-p20.gif\n",
      "MoviePy - Building file ./viscous_beam/gif/uniform_p20-p50.gif with imageio.\n"
     ]
    },
    {
     "name": "stderr",
     "output_type": "stream",
     "text": [
      "                                                                                                                         \r"
     ]
    },
    {
     "name": "stdout",
     "output_type": "stream",
     "text": [
      "finshed ./viscous_beam/gif/uniform_p20-p50.gif\n",
      "MoviePy - Building file ./viscous_beam/gif/uniform_p20-uniform.gif with imageio.\n"
     ]
    },
    {
     "name": "stderr",
     "output_type": "stream",
     "text": [
      "                                                                                                                         \r"
     ]
    },
    {
     "name": "stdout",
     "output_type": "stream",
     "text": [
      "finshed ./viscous_beam/gif/uniform_p20-uniform.gif\n",
      "MoviePy - Building file ./viscous_beam/gif/uniform_p20-reduced.gif with imageio.\n"
     ]
    },
    {
     "name": "stderr",
     "output_type": "stream",
     "text": [
      "                                                                                                                         \r"
     ]
    },
    {
     "name": "stdout",
     "output_type": "stream",
     "text": [
      "finshed ./viscous_beam/gif/uniform_p20-reduced.gif\n",
      "MoviePy - Building file ./viscous_beam/gif/uniform_p50-m0.1.gif with imageio.\n"
     ]
    },
    {
     "name": "stderr",
     "output_type": "stream",
     "text": [
      "                                                                                                                         \r"
     ]
    },
    {
     "name": "stdout",
     "output_type": "stream",
     "text": [
      "finshed ./viscous_beam/gif/uniform_p50-m0.1.gif\n",
      "MoviePy - Building file ./viscous_beam/gif/uniform_p50-m1.gif with imageio.\n"
     ]
    },
    {
     "name": "stderr",
     "output_type": "stream",
     "text": [
      "                                                                                                                         \r"
     ]
    },
    {
     "name": "stdout",
     "output_type": "stream",
     "text": [
      "finshed ./viscous_beam/gif/uniform_p50-m1.gif\n",
      "MoviePy - Building file ./viscous_beam/gif/uniform_p50-m10.gif with imageio.\n"
     ]
    },
    {
     "name": "stderr",
     "output_type": "stream",
     "text": [
      "                                                                                                                         \r"
     ]
    },
    {
     "name": "stdout",
     "output_type": "stream",
     "text": [
      "finshed ./viscous_beam/gif/uniform_p50-m10.gif\n",
      "MoviePy - Building file ./viscous_beam/gif/uniform_p50-m20.gif with imageio.\n"
     ]
    },
    {
     "name": "stderr",
     "output_type": "stream",
     "text": [
      "                                                                                                                         \r"
     ]
    },
    {
     "name": "stdout",
     "output_type": "stream",
     "text": [
      "finshed ./viscous_beam/gif/uniform_p50-m20.gif\n",
      "MoviePy - Building file ./viscous_beam/gif/uniform_p50-m50.gif with imageio.\n"
     ]
    },
    {
     "name": "stderr",
     "output_type": "stream",
     "text": [
      "                                                                                                                         \r"
     ]
    },
    {
     "name": "stdout",
     "output_type": "stream",
     "text": [
      "finshed ./viscous_beam/gif/uniform_p50-m50.gif\n",
      "MoviePy - Building file ./viscous_beam/gif/uniform_p50-p0.1.gif with imageio.\n"
     ]
    },
    {
     "name": "stderr",
     "output_type": "stream",
     "text": [
      "                                                                                                                         \r"
     ]
    },
    {
     "name": "stdout",
     "output_type": "stream",
     "text": [
      "finshed ./viscous_beam/gif/uniform_p50-p0.1.gif\n",
      "MoviePy - Building file ./viscous_beam/gif/uniform_p50-p1.gif with imageio.\n"
     ]
    },
    {
     "name": "stderr",
     "output_type": "stream",
     "text": [
      "                                                                                                                         \r"
     ]
    },
    {
     "name": "stdout",
     "output_type": "stream",
     "text": [
      "finshed ./viscous_beam/gif/uniform_p50-p1.gif\n",
      "MoviePy - Building file ./viscous_beam/gif/uniform_p50-p10.gif with imageio.\n"
     ]
    },
    {
     "name": "stderr",
     "output_type": "stream",
     "text": [
      "                                                                                                                         \r"
     ]
    },
    {
     "name": "stdout",
     "output_type": "stream",
     "text": [
      "finshed ./viscous_beam/gif/uniform_p50-p10.gif\n",
      "MoviePy - Building file ./viscous_beam/gif/uniform_p50-p20.gif with imageio.\n"
     ]
    },
    {
     "name": "stderr",
     "output_type": "stream",
     "text": [
      "                                                                                                                         \r"
     ]
    },
    {
     "name": "stdout",
     "output_type": "stream",
     "text": [
      "finshed ./viscous_beam/gif/uniform_p50-p20.gif\n",
      "MoviePy - Building file ./viscous_beam/gif/uniform_p50-p50.gif with imageio.\n"
     ]
    },
    {
     "name": "stderr",
     "output_type": "stream",
     "text": [
      "                                                                                                                         \r"
     ]
    },
    {
     "name": "stdout",
     "output_type": "stream",
     "text": [
      "finshed ./viscous_beam/gif/uniform_p50-p50.gif\n",
      "MoviePy - Building file ./viscous_beam/gif/uniform_p50-uniform.gif with imageio.\n"
     ]
    },
    {
     "name": "stderr",
     "output_type": "stream",
     "text": [
      "                                                                                                                         \r"
     ]
    },
    {
     "name": "stdout",
     "output_type": "stream",
     "text": [
      "finshed ./viscous_beam/gif/uniform_p50-uniform.gif\n",
      "MoviePy - Building file ./viscous_beam/gif/uniform_p50-reduced.gif with imageio.\n"
     ]
    },
    {
     "name": "stderr",
     "output_type": "stream",
     "text": [
      "                                                                                                                         \r"
     ]
    },
    {
     "name": "stdout",
     "output_type": "stream",
     "text": [
      "finshed ./viscous_beam/gif/uniform_p50-reduced.gif\n",
      "MoviePy - Building file ./viscous_beam/gif/uniform_uniform-m0.1.gif with imageio.\n"
     ]
    },
    {
     "name": "stderr",
     "output_type": "stream",
     "text": [
      "                                                                                                                         \r"
     ]
    },
    {
     "name": "stdout",
     "output_type": "stream",
     "text": [
      "finshed ./viscous_beam/gif/uniform_uniform-m0.1.gif\n",
      "MoviePy - Building file ./viscous_beam/gif/uniform_uniform-m1.gif with imageio.\n"
     ]
    },
    {
     "name": "stderr",
     "output_type": "stream",
     "text": [
      "                                                                                                                         \r"
     ]
    },
    {
     "name": "stdout",
     "output_type": "stream",
     "text": [
      "finshed ./viscous_beam/gif/uniform_uniform-m1.gif\n",
      "MoviePy - Building file ./viscous_beam/gif/uniform_uniform-m10.gif with imageio.\n"
     ]
    },
    {
     "name": "stderr",
     "output_type": "stream",
     "text": [
      "                                                                                                                         \r"
     ]
    },
    {
     "name": "stdout",
     "output_type": "stream",
     "text": [
      "finshed ./viscous_beam/gif/uniform_uniform-m10.gif\n",
      "MoviePy - Building file ./viscous_beam/gif/uniform_uniform-m20.gif with imageio.\n"
     ]
    },
    {
     "name": "stderr",
     "output_type": "stream",
     "text": [
      "                                                                                                                         \r"
     ]
    },
    {
     "name": "stdout",
     "output_type": "stream",
     "text": [
      "finshed ./viscous_beam/gif/uniform_uniform-m20.gif\n",
      "MoviePy - Building file ./viscous_beam/gif/uniform_uniform-m50.gif with imageio.\n"
     ]
    },
    {
     "name": "stderr",
     "output_type": "stream",
     "text": [
      "                                                                                                                         \r"
     ]
    },
    {
     "name": "stdout",
     "output_type": "stream",
     "text": [
      "finshed ./viscous_beam/gif/uniform_uniform-m50.gif\n",
      "MoviePy - Building file ./viscous_beam/gif/uniform_uniform-p0.1.gif with imageio.\n"
     ]
    },
    {
     "name": "stderr",
     "output_type": "stream",
     "text": [
      "                                                                                                                         \r"
     ]
    },
    {
     "name": "stdout",
     "output_type": "stream",
     "text": [
      "finshed ./viscous_beam/gif/uniform_uniform-p0.1.gif\n",
      "MoviePy - Building file ./viscous_beam/gif/uniform_uniform-p1.gif with imageio.\n"
     ]
    },
    {
     "name": "stderr",
     "output_type": "stream",
     "text": [
      "                                                                                                                         \r"
     ]
    },
    {
     "name": "stdout",
     "output_type": "stream",
     "text": [
      "finshed ./viscous_beam/gif/uniform_uniform-p1.gif\n",
      "MoviePy - Building file ./viscous_beam/gif/uniform_uniform-p10.gif with imageio.\n"
     ]
    },
    {
     "name": "stderr",
     "output_type": "stream",
     "text": [
      "                                                                                                                         \r"
     ]
    },
    {
     "name": "stdout",
     "output_type": "stream",
     "text": [
      "finshed ./viscous_beam/gif/uniform_uniform-p10.gif\n",
      "MoviePy - Building file ./viscous_beam/gif/uniform_uniform-p20.gif with imageio.\n"
     ]
    },
    {
     "name": "stderr",
     "output_type": "stream",
     "text": [
      "                                                                                                                         \r"
     ]
    },
    {
     "name": "stdout",
     "output_type": "stream",
     "text": [
      "finshed ./viscous_beam/gif/uniform_uniform-p20.gif\n",
      "MoviePy - Building file ./viscous_beam/gif/uniform_uniform-p50.gif with imageio.\n"
     ]
    },
    {
     "name": "stderr",
     "output_type": "stream",
     "text": [
      "                                                                                                                         \r"
     ]
    },
    {
     "name": "stdout",
     "output_type": "stream",
     "text": [
      "finshed ./viscous_beam/gif/uniform_uniform-p50.gif\n",
      "MoviePy - Building file ./viscous_beam/gif/uniform_uniform-uniform.gif with imageio.\n"
     ]
    },
    {
     "name": "stderr",
     "output_type": "stream",
     "text": [
      "                                                                                                                         \r"
     ]
    },
    {
     "name": "stdout",
     "output_type": "stream",
     "text": [
      "finshed ./viscous_beam/gif/uniform_uniform-uniform.gif\n",
      "MoviePy - Building file ./viscous_beam/gif/uniform_uniform-reduced.gif with imageio.\n"
     ]
    },
    {
     "name": "stderr",
     "output_type": "stream",
     "text": [
      "                                                                                                                         \r"
     ]
    },
    {
     "name": "stdout",
     "output_type": "stream",
     "text": [
      "finshed ./viscous_beam/gif/uniform_uniform-reduced.gif\n",
      "MoviePy - Building file ./viscous_beam/gif/uniform_reduced-m0.1.gif with imageio.\n"
     ]
    },
    {
     "name": "stderr",
     "output_type": "stream",
     "text": [
      "                                                                                                                         \r"
     ]
    },
    {
     "name": "stdout",
     "output_type": "stream",
     "text": [
      "finshed ./viscous_beam/gif/uniform_reduced-m0.1.gif\n",
      "MoviePy - Building file ./viscous_beam/gif/uniform_reduced-m1.gif with imageio.\n"
     ]
    },
    {
     "name": "stderr",
     "output_type": "stream",
     "text": [
      "                                                                                                                         \r"
     ]
    },
    {
     "name": "stdout",
     "output_type": "stream",
     "text": [
      "finshed ./viscous_beam/gif/uniform_reduced-m1.gif\n",
      "MoviePy - Building file ./viscous_beam/gif/uniform_reduced-m10.gif with imageio.\n"
     ]
    },
    {
     "name": "stderr",
     "output_type": "stream",
     "text": [
      "                                                                                                                         \r"
     ]
    },
    {
     "name": "stdout",
     "output_type": "stream",
     "text": [
      "finshed ./viscous_beam/gif/uniform_reduced-m10.gif\n",
      "MoviePy - Building file ./viscous_beam/gif/uniform_reduced-m20.gif with imageio.\n"
     ]
    },
    {
     "name": "stderr",
     "output_type": "stream",
     "text": [
      "                                                                                                                         \r"
     ]
    },
    {
     "name": "stdout",
     "output_type": "stream",
     "text": [
      "finshed ./viscous_beam/gif/uniform_reduced-m20.gif\n",
      "MoviePy - Building file ./viscous_beam/gif/uniform_reduced-m50.gif with imageio.\n"
     ]
    },
    {
     "name": "stderr",
     "output_type": "stream",
     "text": [
      "                                                                                                                         \r"
     ]
    },
    {
     "name": "stdout",
     "output_type": "stream",
     "text": [
      "finshed ./viscous_beam/gif/uniform_reduced-m50.gif\n",
      "MoviePy - Building file ./viscous_beam/gif/uniform_reduced-p0.1.gif with imageio.\n"
     ]
    },
    {
     "name": "stderr",
     "output_type": "stream",
     "text": [
      "                                                                                                                         \r"
     ]
    },
    {
     "name": "stdout",
     "output_type": "stream",
     "text": [
      "finshed ./viscous_beam/gif/uniform_reduced-p0.1.gif\n",
      "MoviePy - Building file ./viscous_beam/gif/uniform_reduced-p1.gif with imageio.\n"
     ]
    },
    {
     "name": "stderr",
     "output_type": "stream",
     "text": [
      "                                                                                                                         \r"
     ]
    },
    {
     "name": "stdout",
     "output_type": "stream",
     "text": [
      "finshed ./viscous_beam/gif/uniform_reduced-p1.gif\n",
      "MoviePy - Building file ./viscous_beam/gif/uniform_reduced-p10.gif with imageio.\n"
     ]
    },
    {
     "name": "stderr",
     "output_type": "stream",
     "text": [
      "                                                                                                                         \r"
     ]
    },
    {
     "name": "stdout",
     "output_type": "stream",
     "text": [
      "finshed ./viscous_beam/gif/uniform_reduced-p10.gif\n",
      "MoviePy - Building file ./viscous_beam/gif/uniform_reduced-p20.gif with imageio.\n"
     ]
    },
    {
     "name": "stderr",
     "output_type": "stream",
     "text": [
      "                                                                                                                         \r"
     ]
    },
    {
     "name": "stdout",
     "output_type": "stream",
     "text": [
      "finshed ./viscous_beam/gif/uniform_reduced-p20.gif\n",
      "MoviePy - Building file ./viscous_beam/gif/uniform_reduced-p50.gif with imageio.\n"
     ]
    },
    {
     "name": "stderr",
     "output_type": "stream",
     "text": [
      "                                                                                                                         \r"
     ]
    },
    {
     "name": "stdout",
     "output_type": "stream",
     "text": [
      "finshed ./viscous_beam/gif/uniform_reduced-p50.gif\n",
      "MoviePy - Building file ./viscous_beam/gif/uniform_reduced-uniform.gif with imageio.\n"
     ]
    },
    {
     "name": "stderr",
     "output_type": "stream",
     "text": [
      "                                                                                                                         \r"
     ]
    },
    {
     "name": "stdout",
     "output_type": "stream",
     "text": [
      "finshed ./viscous_beam/gif/uniform_reduced-uniform.gif\n",
      "MoviePy - Building file ./viscous_beam/gif/uniform_reduced-reduced.gif with imageio.\n"
     ]
    },
    {
     "name": "stderr",
     "output_type": "stream",
     "text": [
      "                                                                                                                         "
     ]
    },
    {
     "name": "stdout",
     "output_type": "stream",
     "text": [
      "finshed ./viscous_beam/gif/uniform_reduced-reduced.gif\n"
     ]
    },
    {
     "name": "stderr",
     "output_type": "stream",
     "text": [
      "\r"
     ]
    }
   ],
   "source": [
    "prefix = './viscous_beam/mp4/'\n",
    "suffix = '.mp4'\n",
    "outPrefix = './viscous_beam/gif/'\n",
    "outSuffix = '.gif'\n",
    "\n",
    "files = ['m0.1', 'm1', 'm10', 'm20', 'm50', 'p0.1', 'p1', 'p10', 'p20', 'p50', 'uniform', 'reduced'];\n",
    "#files = ['m0.1'];\n",
    "\n",
    "for file1 in files:\n",
    "    for file2 in files:\n",
    "        filenameR = prefix + 'uniform' + suffix;\n",
    "        filename1 = prefix + file1 + suffix;\n",
    "        filename2 = prefix + file2 + suffix;\n",
    "        filenameOut = outPrefix + 'uniform' + '_' + file1 + '-' + file2 + outSuffix;\n",
    "        stitchGif(filenameR, filename1, filename2, filenameOut);\n",
    "        print('finshed ' + filenameOut);"
   ]
  },
  {
   "cell_type": "code",
   "execution_count": null,
   "id": "ddb9d245-5a72-4e52-95c2-a0bbd9b062ee",
   "metadata": {},
   "outputs": [
    {
     "name": "stdout",
     "output_type": "stream",
     "text": [
      "MoviePy - Building file ./viscous_beam/gif/p50_p50-m50.gif with imageio.\n"
     ]
    },
    {
     "name": "stderr",
     "output_type": "stream",
     "text": [
      "                                                                                                                         \r"
     ]
    },
    {
     "name": "stdout",
     "output_type": "stream",
     "text": [
      "finshed ./viscous_beam/gif/p50_p50-m50.gif\n",
      "MoviePy - Building file ./viscous_beam/gif/slowcontrol_uniform-slowcontrol.gif with imageio.\n"
     ]
    },
    {
     "name": "stderr",
     "output_type": "stream",
     "text": [
      "                                                                                                                         \r"
     ]
    },
    {
     "name": "stdout",
     "output_type": "stream",
     "text": [
      "finshed ./viscous_beam/gif/slowcontrol_uniform-slowcontrol.gif\n",
      "MoviePy - Building file ./viscous_beam/gif/uniform_slowcontrol-uniform.gif with imageio.\n"
     ]
    },
    {
     "name": "stderr",
     "output_type": "stream",
     "text": [
      "t:  87%|████████████████████████████████████████████████████████████▎        | 132/151 [00:28<00:04,  4.65it/s, now=None]"
     ]
    }
   ],
   "source": [
    "prefix = './viscous_beam/mp4/'\n",
    "suffix = '.mp4'\n",
    "outPrefix = './viscous_beam/gif/'\n",
    "outSuffix = '.gif'\n",
    "\n",
    "sets = [['p50', 'p50', 'm50'], ['slowcontrol', 'uniform', 'slowcontrol'], ['uniform', 'slowcontrol', 'uniform']];\n",
    "\n",
    "for set in sets:\n",
    "    filenameR = prefix + set[0] + suffix;\n",
    "    filename1 = prefix + set[1] + suffix;\n",
    "    filename2 = prefix + set[2] + suffix;\n",
    "    filenameOut = outPrefix + set[0] + '_' + set[1] + '-' + set[2] + outSuffix;\n",
    "    stitchGif(filenameR, filename1, filename2, filenameOut);\n",
    "    print('finshed ' + filenameOut);"
   ]
  },
  {
   "cell_type": "code",
   "execution_count": null,
   "id": "a6ce024c-b52a-439e-99d2-e4278719a796",
   "metadata": {},
   "outputs": [],
   "source": []
  }
 ],
 "metadata": {
  "kernelspec": {
   "display_name": "Python 3 (ipykernel)",
   "language": "python",
   "name": "python3"
  },
  "language_info": {
   "codemirror_mode": {
    "name": "ipython",
    "version": 3
   },
   "file_extension": ".py",
   "mimetype": "text/x-python",
   "name": "python",
   "nbconvert_exporter": "python",
   "pygments_lexer": "ipython3",
   "version": "3.10.6"
  }
 },
 "nbformat": 4,
 "nbformat_minor": 5
}
