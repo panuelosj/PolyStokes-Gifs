{
 "cells": [
  {
   "cell_type": "code",
   "execution_count": 1,
   "id": "4cb373b4-4d97-4b5a-a6b5-49fb9ebbb6a1",
   "metadata": {},
   "outputs": [],
   "source": [
    "import math\n",
    "import imageio\n",
    "import numpy as np\n",
    "import moviepy.editor as mpy\n",
    "import pygifsicle\n",
    "\n",
    "def stitchGif(filenameR, filename1, filename2, filenameOut):\n",
    "    margin = [50, 50];\n",
    "    clipsize = [1080, 1080];\n",
    "\n",
    "    clipR = mpy.VideoFileClip(filenameR).margin(top=margin[1], bottom=margin[1], left=math.floor(margin[0]*2+clipsize[0]/2), right=math.floor(margin[0]*2+clipsize[0]/2), color=(255,255,255))\n",
    "    clip1 = mpy.VideoFileClip(filename1).margin(top=margin[1], bottom=margin[1], left=margin[0], right=margin[1], color=(255,255,255))\n",
    "    clip2 = mpy.VideoFileClip(filename2).margin(top=margin[1], bottom=margin[1], left=margin[0], right=margin[1], color=(255,255,255))\n",
    "\n",
    "    # stack\n",
    "    tmp = mpy.clips_array([[clip1, clip2]]);\n",
    "    final = mpy.clips_array([[clipR], [tmp]]).resize(0.5);\n",
    "    \n",
    "    # export\n",
    "    final.write_gif(filenameOut, fps=30, program='imageio', opt='nq');\n",
    "    \n",
    "def hashCode(s):\n",
    "    # ref https://stackoverflow.com/questions/22845913/function-to-replicate-the-output-of-java-lang-string-hashcode-in-python-and-no\n",
    "    \"\"\"Mimic Java's hashCode in python 2\"\"\"\n",
    "    try:\n",
    "        s = str(s)\n",
    "    except:\n",
    "        try:\n",
    "            s = str(s.decode('utf8'))\n",
    "        except:\n",
    "            raise Exception(\"Please enter a unicode type string or utf8 bytestring.\")\n",
    "    h = 0\n",
    "    for c in s:\n",
    "        h = int((((31 * h + ord(c)) ^ 0x80000000) & 0xFFFFFFFF) - 0x80000000)\n",
    "    return h"
   ]
  },
  {
   "cell_type": "code",
   "execution_count": 2,
   "id": "4f1e7459-69dc-4055-b110-721c039ed450",
   "metadata": {
    "collapsed": true,
    "jupyter": {
     "outputs_hidden": true
    },
    "tags": []
   },
   "outputs": [
    {
     "name": "stdout",
     "output_type": "stream",
     "text": [
      "MoviePy - Building file ./viscous_beam/gif/uniform_m0.1-m0.1.gif with imageio.\n"
     ]
    },
    {
     "name": "stderr",
     "output_type": "stream",
     "text": [
      "                                                                                                                         \r"
     ]
    },
    {
     "name": "stdout",
     "output_type": "stream",
     "text": [
      "finshed ./viscous_beam/gif/uniform_m0.1-m0.1.gif\n",
      "MoviePy - Building file ./viscous_beam/gif/uniform_m0.1-m1.gif with imageio.\n"
     ]
    },
    {
     "name": "stderr",
     "output_type": "stream",
     "text": [
      "                                                                                                                         \r"
     ]
    },
    {
     "name": "stdout",
     "output_type": "stream",
     "text": [
      "finshed ./viscous_beam/gif/uniform_m0.1-m1.gif\n",
      "MoviePy - Building file ./viscous_beam/gif/uniform_m0.1-m10.gif with imageio.\n"
     ]
    },
    {
     "name": "stderr",
     "output_type": "stream",
     "text": [
      "                                                                                                                         \r"
     ]
    },
    {
     "name": "stdout",
     "output_type": "stream",
     "text": [
      "finshed ./viscous_beam/gif/uniform_m0.1-m10.gif\n",
      "MoviePy - Building file ./viscous_beam/gif/uniform_m0.1-m20.gif with imageio.\n"
     ]
    },
    {
     "name": "stderr",
     "output_type": "stream",
     "text": [
      "                                                                                                                         \r"
     ]
    },
    {
     "name": "stdout",
     "output_type": "stream",
     "text": [
      "finshed ./viscous_beam/gif/uniform_m0.1-m20.gif\n",
      "MoviePy - Building file ./viscous_beam/gif/uniform_m0.1-m50.gif with imageio.\n"
     ]
    },
    {
     "name": "stderr",
     "output_type": "stream",
     "text": [
      "                                                                                                                         \r"
     ]
    },
    {
     "name": "stdout",
     "output_type": "stream",
     "text": [
      "finshed ./viscous_beam/gif/uniform_m0.1-m50.gif\n",
      "MoviePy - Building file ./viscous_beam/gif/uniform_m0.1-p0.1.gif with imageio.\n"
     ]
    },
    {
     "name": "stderr",
     "output_type": "stream",
     "text": [
      "                                                                                                                         \r"
     ]
    },
    {
     "name": "stdout",
     "output_type": "stream",
     "text": [
      "finshed ./viscous_beam/gif/uniform_m0.1-p0.1.gif\n",
      "MoviePy - Building file ./viscous_beam/gif/uniform_m0.1-p1.gif with imageio.\n"
     ]
    },
    {
     "name": "stderr",
     "output_type": "stream",
     "text": [
      "                                                                                                                         \r"
     ]
    },
    {
     "name": "stdout",
     "output_type": "stream",
     "text": [
      "finshed ./viscous_beam/gif/uniform_m0.1-p1.gif\n",
      "MoviePy - Building file ./viscous_beam/gif/uniform_m0.1-p10.gif with imageio.\n"
     ]
    },
    {
     "name": "stderr",
     "output_type": "stream",
     "text": [
      "                                                                                                                         \r"
     ]
    },
    {
     "name": "stdout",
     "output_type": "stream",
     "text": [
      "finshed ./viscous_beam/gif/uniform_m0.1-p10.gif\n",
      "MoviePy - Building file ./viscous_beam/gif/uniform_m0.1-p20.gif with imageio.\n"
     ]
    },
    {
     "name": "stderr",
     "output_type": "stream",
     "text": [
      "                                                                                                                         \r"
     ]
    },
    {
     "name": "stdout",
     "output_type": "stream",
     "text": [
      "finshed ./viscous_beam/gif/uniform_m0.1-p20.gif\n",
      "MoviePy - Building file ./viscous_beam/gif/uniform_m0.1-p50.gif with imageio.\n"
     ]
    },
    {
     "name": "stderr",
     "output_type": "stream",
     "text": [
      "                                                                                                                         \r"
     ]
    },
    {
     "name": "stdout",
     "output_type": "stream",
     "text": [
      "finshed ./viscous_beam/gif/uniform_m0.1-p50.gif\n",
      "MoviePy - Building file ./viscous_beam/gif/uniform_m0.1-uniform.gif with imageio.\n"
     ]
    },
    {
     "name": "stderr",
     "output_type": "stream",
     "text": [
      "                                                                                                                         \r"
     ]
    },
    {
     "name": "stdout",
     "output_type": "stream",
     "text": [
      "finshed ./viscous_beam/gif/uniform_m0.1-uniform.gif\n",
      "MoviePy - Building file ./viscous_beam/gif/uniform_m0.1-reduced.gif with imageio.\n"
     ]
    },
    {
     "name": "stderr",
     "output_type": "stream",
     "text": [
      "                                                                                                                         \r"
     ]
    },
    {
     "name": "stdout",
     "output_type": "stream",
     "text": [
      "finshed ./viscous_beam/gif/uniform_m0.1-reduced.gif\n",
      "MoviePy - Building file ./viscous_beam/gif/uniform_m1-m0.1.gif with imageio.\n"
     ]
    },
    {
     "name": "stderr",
     "output_type": "stream",
     "text": [
      "                                                                                                                         \r"
     ]
    },
    {
     "name": "stdout",
     "output_type": "stream",
     "text": [
      "finshed ./viscous_beam/gif/uniform_m1-m0.1.gif\n",
      "MoviePy - Building file ./viscous_beam/gif/uniform_m1-m1.gif with imageio.\n"
     ]
    },
    {
     "name": "stderr",
     "output_type": "stream",
     "text": [
      "                                                                                                                         \r"
     ]
    },
    {
     "name": "stdout",
     "output_type": "stream",
     "text": [
      "finshed ./viscous_beam/gif/uniform_m1-m1.gif\n",
      "MoviePy - Building file ./viscous_beam/gif/uniform_m1-m10.gif with imageio.\n"
     ]
    },
    {
     "name": "stderr",
     "output_type": "stream",
     "text": [
      "                                                                                                                         \r"
     ]
    },
    {
     "name": "stdout",
     "output_type": "stream",
     "text": [
      "finshed ./viscous_beam/gif/uniform_m1-m10.gif\n",
      "MoviePy - Building file ./viscous_beam/gif/uniform_m1-m20.gif with imageio.\n"
     ]
    },
    {
     "name": "stderr",
     "output_type": "stream",
     "text": [
      "                                                                                                                         \r"
     ]
    },
    {
     "name": "stdout",
     "output_type": "stream",
     "text": [
      "finshed ./viscous_beam/gif/uniform_m1-m20.gif\n",
      "MoviePy - Building file ./viscous_beam/gif/uniform_m1-m50.gif with imageio.\n"
     ]
    },
    {
     "name": "stderr",
     "output_type": "stream",
     "text": [
      "                                                                                                                         \r"
     ]
    },
    {
     "name": "stdout",
     "output_type": "stream",
     "text": [
      "finshed ./viscous_beam/gif/uniform_m1-m50.gif\n",
      "MoviePy - Building file ./viscous_beam/gif/uniform_m1-p0.1.gif with imageio.\n"
     ]
    },
    {
     "name": "stderr",
     "output_type": "stream",
     "text": [
      "                                                                                                                         \r"
     ]
    },
    {
     "name": "stdout",
     "output_type": "stream",
     "text": [
      "finshed ./viscous_beam/gif/uniform_m1-p0.1.gif\n",
      "MoviePy - Building file ./viscous_beam/gif/uniform_m1-p1.gif with imageio.\n"
     ]
    },
    {
     "name": "stderr",
     "output_type": "stream",
     "text": [
      "                                                                                                                         \r"
     ]
    },
    {
     "name": "stdout",
     "output_type": "stream",
     "text": [
      "finshed ./viscous_beam/gif/uniform_m1-p1.gif\n",
      "MoviePy - Building file ./viscous_beam/gif/uniform_m1-p10.gif with imageio.\n"
     ]
    },
    {
     "name": "stderr",
     "output_type": "stream",
     "text": [
      "                                                                                                                         \r"
     ]
    },
    {
     "name": "stdout",
     "output_type": "stream",
     "text": [
      "finshed ./viscous_beam/gif/uniform_m1-p10.gif\n",
      "MoviePy - Building file ./viscous_beam/gif/uniform_m1-p20.gif with imageio.\n"
     ]
    },
    {
     "name": "stderr",
     "output_type": "stream",
     "text": [
      "                                                                                                                         \r"
     ]
    },
    {
     "name": "stdout",
     "output_type": "stream",
     "text": [
      "finshed ./viscous_beam/gif/uniform_m1-p20.gif\n",
      "MoviePy - Building file ./viscous_beam/gif/uniform_m1-p50.gif with imageio.\n"
     ]
    },
    {
     "name": "stderr",
     "output_type": "stream",
     "text": [
      "                                                                                                                         \r"
     ]
    },
    {
     "name": "stdout",
     "output_type": "stream",
     "text": [
      "finshed ./viscous_beam/gif/uniform_m1-p50.gif\n",
      "MoviePy - Building file ./viscous_beam/gif/uniform_m1-uniform.gif with imageio.\n"
     ]
    },
    {
     "name": "stderr",
     "output_type": "stream",
     "text": [
      "                                                                                                                         \r"
     ]
    },
    {
     "name": "stdout",
     "output_type": "stream",
     "text": [
      "finshed ./viscous_beam/gif/uniform_m1-uniform.gif\n",
      "MoviePy - Building file ./viscous_beam/gif/uniform_m1-reduced.gif with imageio.\n"
     ]
    },
    {
     "name": "stderr",
     "output_type": "stream",
     "text": [
      "                                                                                                                         \r"
     ]
    },
    {
     "name": "stdout",
     "output_type": "stream",
     "text": [
      "finshed ./viscous_beam/gif/uniform_m1-reduced.gif\n",
      "MoviePy - Building file ./viscous_beam/gif/uniform_m10-m0.1.gif with imageio.\n"
     ]
    },
    {
     "name": "stderr",
     "output_type": "stream",
     "text": [
      "                                                                                                                         \r"
     ]
    },
    {
     "name": "stdout",
     "output_type": "stream",
     "text": [
      "finshed ./viscous_beam/gif/uniform_m10-m0.1.gif\n",
      "MoviePy - Building file ./viscous_beam/gif/uniform_m10-m1.gif with imageio.\n"
     ]
    },
    {
     "name": "stderr",
     "output_type": "stream",
     "text": [
      "                                                                                                                         \r"
     ]
    },
    {
     "name": "stdout",
     "output_type": "stream",
     "text": [
      "finshed ./viscous_beam/gif/uniform_m10-m1.gif\n",
      "MoviePy - Building file ./viscous_beam/gif/uniform_m10-m10.gif with imageio.\n"
     ]
    },
    {
     "name": "stderr",
     "output_type": "stream",
     "text": [
      "                                                                                                                         \r"
     ]
    },
    {
     "name": "stdout",
     "output_type": "stream",
     "text": [
      "finshed ./viscous_beam/gif/uniform_m10-m10.gif\n",
      "MoviePy - Building file ./viscous_beam/gif/uniform_m10-m20.gif with imageio.\n"
     ]
    },
    {
     "name": "stderr",
     "output_type": "stream",
     "text": [
      "                                                                                                                         \r"
     ]
    },
    {
     "name": "stdout",
     "output_type": "stream",
     "text": [
      "finshed ./viscous_beam/gif/uniform_m10-m20.gif\n",
      "MoviePy - Building file ./viscous_beam/gif/uniform_m10-m50.gif with imageio.\n"
     ]
    },
    {
     "name": "stderr",
     "output_type": "stream",
     "text": [
      "                                                                                                                         \r"
     ]
    },
    {
     "name": "stdout",
     "output_type": "stream",
     "text": [
      "finshed ./viscous_beam/gif/uniform_m10-m50.gif\n",
      "MoviePy - Building file ./viscous_beam/gif/uniform_m10-p0.1.gif with imageio.\n"
     ]
    },
    {
     "name": "stderr",
     "output_type": "stream",
     "text": [
      "                                                                                                                         \r"
     ]
    },
    {
     "name": "stdout",
     "output_type": "stream",
     "text": [
      "finshed ./viscous_beam/gif/uniform_m10-p0.1.gif\n",
      "MoviePy - Building file ./viscous_beam/gif/uniform_m10-p1.gif with imageio.\n"
     ]
    },
    {
     "name": "stderr",
     "output_type": "stream",
     "text": [
      "                                                                                                                         \r"
     ]
    },
    {
     "name": "stdout",
     "output_type": "stream",
     "text": [
      "finshed ./viscous_beam/gif/uniform_m10-p1.gif\n",
      "MoviePy - Building file ./viscous_beam/gif/uniform_m10-p10.gif with imageio.\n"
     ]
    },
    {
     "name": "stderr",
     "output_type": "stream",
     "text": [
      "                                                                                                                         \r"
     ]
    },
    {
     "name": "stdout",
     "output_type": "stream",
     "text": [
      "finshed ./viscous_beam/gif/uniform_m10-p10.gif\n",
      "MoviePy - Building file ./viscous_beam/gif/uniform_m10-p20.gif with imageio.\n"
     ]
    },
    {
     "name": "stderr",
     "output_type": "stream",
     "text": [
      "                                                                                                                         \r"
     ]
    },
    {
     "name": "stdout",
     "output_type": "stream",
     "text": [
      "finshed ./viscous_beam/gif/uniform_m10-p20.gif\n",
      "MoviePy - Building file ./viscous_beam/gif/uniform_m10-p50.gif with imageio.\n"
     ]
    },
    {
     "name": "stderr",
     "output_type": "stream",
     "text": [
      "                                                                                                                         \r"
     ]
    },
    {
     "name": "stdout",
     "output_type": "stream",
     "text": [
      "finshed ./viscous_beam/gif/uniform_m10-p50.gif\n",
      "MoviePy - Building file ./viscous_beam/gif/uniform_m10-uniform.gif with imageio.\n"
     ]
    },
    {
     "name": "stderr",
     "output_type": "stream",
     "text": [
      "                                                                                                                         \r"
     ]
    },
    {
     "name": "stdout",
     "output_type": "stream",
     "text": [
      "finshed ./viscous_beam/gif/uniform_m10-uniform.gif\n",
      "MoviePy - Building file ./viscous_beam/gif/uniform_m10-reduced.gif with imageio.\n"
     ]
    },
    {
     "name": "stderr",
     "output_type": "stream",
     "text": [
      "                                                                                                                         \r"
     ]
    },
    {
     "name": "stdout",
     "output_type": "stream",
     "text": [
      "finshed ./viscous_beam/gif/uniform_m10-reduced.gif\n",
      "MoviePy - Building file ./viscous_beam/gif/uniform_m20-m0.1.gif with imageio.\n"
     ]
    },
    {
     "name": "stderr",
     "output_type": "stream",
     "text": [
      "                                                                                                                         \r"
     ]
    },
    {
     "name": "stdout",
     "output_type": "stream",
     "text": [
      "finshed ./viscous_beam/gif/uniform_m20-m0.1.gif\n",
      "MoviePy - Building file ./viscous_beam/gif/uniform_m20-m1.gif with imageio.\n"
     ]
    },
    {
     "name": "stderr",
     "output_type": "stream",
     "text": [
      "                                                                                                                         \r"
     ]
    },
    {
     "name": "stdout",
     "output_type": "stream",
     "text": [
      "finshed ./viscous_beam/gif/uniform_m20-m1.gif\n",
      "MoviePy - Building file ./viscous_beam/gif/uniform_m20-m10.gif with imageio.\n"
     ]
    },
    {
     "name": "stderr",
     "output_type": "stream",
     "text": [
      "                                                                                                                         \r"
     ]
    },
    {
     "name": "stdout",
     "output_type": "stream",
     "text": [
      "finshed ./viscous_beam/gif/uniform_m20-m10.gif\n",
      "MoviePy - Building file ./viscous_beam/gif/uniform_m20-m20.gif with imageio.\n"
     ]
    },
    {
     "name": "stderr",
     "output_type": "stream",
     "text": [
      "                                                                                                                         \r"
     ]
    },
    {
     "name": "stdout",
     "output_type": "stream",
     "text": [
      "finshed ./viscous_beam/gif/uniform_m20-m20.gif\n",
      "MoviePy - Building file ./viscous_beam/gif/uniform_m20-m50.gif with imageio.\n"
     ]
    },
    {
     "name": "stderr",
     "output_type": "stream",
     "text": [
      "                                                                                                                         \r"
     ]
    },
    {
     "name": "stdout",
     "output_type": "stream",
     "text": [
      "finshed ./viscous_beam/gif/uniform_m20-m50.gif\n",
      "MoviePy - Building file ./viscous_beam/gif/uniform_m20-p0.1.gif with imageio.\n"
     ]
    },
    {
     "name": "stderr",
     "output_type": "stream",
     "text": [
      "                                                                                                                         \r"
     ]
    },
    {
     "name": "stdout",
     "output_type": "stream",
     "text": [
      "finshed ./viscous_beam/gif/uniform_m20-p0.1.gif\n",
      "MoviePy - Building file ./viscous_beam/gif/uniform_m20-p1.gif with imageio.\n"
     ]
    },
    {
     "name": "stderr",
     "output_type": "stream",
     "text": [
      "                                                                                                                         \r"
     ]
    },
    {
     "name": "stdout",
     "output_type": "stream",
     "text": [
      "finshed ./viscous_beam/gif/uniform_m20-p1.gif\n",
      "MoviePy - Building file ./viscous_beam/gif/uniform_m20-p10.gif with imageio.\n"
     ]
    },
    {
     "name": "stderr",
     "output_type": "stream",
     "text": [
      "                                                                                                                         \r"
     ]
    },
    {
     "name": "stdout",
     "output_type": "stream",
     "text": [
      "finshed ./viscous_beam/gif/uniform_m20-p10.gif\n",
      "MoviePy - Building file ./viscous_beam/gif/uniform_m20-p20.gif with imageio.\n"
     ]
    },
    {
     "name": "stderr",
     "output_type": "stream",
     "text": [
      "                                                                                                                         \r"
     ]
    },
    {
     "name": "stdout",
     "output_type": "stream",
     "text": [
      "finshed ./viscous_beam/gif/uniform_m20-p20.gif\n",
      "MoviePy - Building file ./viscous_beam/gif/uniform_m20-p50.gif with imageio.\n"
     ]
    },
    {
     "name": "stderr",
     "output_type": "stream",
     "text": [
      "                                                                                                                         \r"
     ]
    },
    {
     "name": "stdout",
     "output_type": "stream",
     "text": [
      "finshed ./viscous_beam/gif/uniform_m20-p50.gif\n",
      "MoviePy - Building file ./viscous_beam/gif/uniform_m20-uniform.gif with imageio.\n"
     ]
    },
    {
     "name": "stderr",
     "output_type": "stream",
     "text": [
      "                                                                                                                         \r"
     ]
    },
    {
     "name": "stdout",
     "output_type": "stream",
     "text": [
      "finshed ./viscous_beam/gif/uniform_m20-uniform.gif\n",
      "MoviePy - Building file ./viscous_beam/gif/uniform_m20-reduced.gif with imageio.\n"
     ]
    },
    {
     "name": "stderr",
     "output_type": "stream",
     "text": [
      "                                                                                                                         \r"
     ]
    },
    {
     "name": "stdout",
     "output_type": "stream",
     "text": [
      "finshed ./viscous_beam/gif/uniform_m20-reduced.gif\n",
      "MoviePy - Building file ./viscous_beam/gif/uniform_m50-m0.1.gif with imageio.\n"
     ]
    },
    {
     "name": "stderr",
     "output_type": "stream",
     "text": [
      "                                                                                                                         \r"
     ]
    },
    {
     "name": "stdout",
     "output_type": "stream",
     "text": [
      "finshed ./viscous_beam/gif/uniform_m50-m0.1.gif\n",
      "MoviePy - Building file ./viscous_beam/gif/uniform_m50-m1.gif with imageio.\n"
     ]
    },
    {
     "name": "stderr",
     "output_type": "stream",
     "text": [
      "                                                                                                                         \r"
     ]
    },
    {
     "name": "stdout",
     "output_type": "stream",
     "text": [
      "finshed ./viscous_beam/gif/uniform_m50-m1.gif\n",
      "MoviePy - Building file ./viscous_beam/gif/uniform_m50-m10.gif with imageio.\n"
     ]
    },
    {
     "name": "stderr",
     "output_type": "stream",
     "text": [
      "                                                                                                                         \r"
     ]
    },
    {
     "name": "stdout",
     "output_type": "stream",
     "text": [
      "finshed ./viscous_beam/gif/uniform_m50-m10.gif\n",
      "MoviePy - Building file ./viscous_beam/gif/uniform_m50-m20.gif with imageio.\n"
     ]
    },
    {
     "name": "stderr",
     "output_type": "stream",
     "text": [
      "                                                                                                                         \r"
     ]
    },
    {
     "name": "stdout",
     "output_type": "stream",
     "text": [
      "finshed ./viscous_beam/gif/uniform_m50-m20.gif\n",
      "MoviePy - Building file ./viscous_beam/gif/uniform_m50-m50.gif with imageio.\n"
     ]
    },
    {
     "name": "stderr",
     "output_type": "stream",
     "text": [
      "                                                                                                                         \r"
     ]
    },
    {
     "name": "stdout",
     "output_type": "stream",
     "text": [
      "finshed ./viscous_beam/gif/uniform_m50-m50.gif\n",
      "MoviePy - Building file ./viscous_beam/gif/uniform_m50-p0.1.gif with imageio.\n"
     ]
    },
    {
     "name": "stderr",
     "output_type": "stream",
     "text": [
      "                                                                                                                         \r"
     ]
    },
    {
     "name": "stdout",
     "output_type": "stream",
     "text": [
      "finshed ./viscous_beam/gif/uniform_m50-p0.1.gif\n",
      "MoviePy - Building file ./viscous_beam/gif/uniform_m50-p1.gif with imageio.\n"
     ]
    },
    {
     "name": "stderr",
     "output_type": "stream",
     "text": [
      "                                                                                                                         \r"
     ]
    },
    {
     "name": "stdout",
     "output_type": "stream",
     "text": [
      "finshed ./viscous_beam/gif/uniform_m50-p1.gif\n",
      "MoviePy - Building file ./viscous_beam/gif/uniform_m50-p10.gif with imageio.\n"
     ]
    },
    {
     "name": "stderr",
     "output_type": "stream",
     "text": [
      "                                                                                                                         \r"
     ]
    },
    {
     "name": "stdout",
     "output_type": "stream",
     "text": [
      "finshed ./viscous_beam/gif/uniform_m50-p10.gif\n",
      "MoviePy - Building file ./viscous_beam/gif/uniform_m50-p20.gif with imageio.\n"
     ]
    },
    {
     "name": "stderr",
     "output_type": "stream",
     "text": [
      "                                                                                                                         \r"
     ]
    },
    {
     "name": "stdout",
     "output_type": "stream",
     "text": [
      "finshed ./viscous_beam/gif/uniform_m50-p20.gif\n",
      "MoviePy - Building file ./viscous_beam/gif/uniform_m50-p50.gif with imageio.\n"
     ]
    },
    {
     "name": "stderr",
     "output_type": "stream",
     "text": [
      "                                                                                                                         \r"
     ]
    },
    {
     "name": "stdout",
     "output_type": "stream",
     "text": [
      "finshed ./viscous_beam/gif/uniform_m50-p50.gif\n",
      "MoviePy - Building file ./viscous_beam/gif/uniform_m50-uniform.gif with imageio.\n"
     ]
    },
    {
     "name": "stderr",
     "output_type": "stream",
     "text": [
      "                                                                                                                         \r"
     ]
    },
    {
     "name": "stdout",
     "output_type": "stream",
     "text": [
      "finshed ./viscous_beam/gif/uniform_m50-uniform.gif\n",
      "MoviePy - Building file ./viscous_beam/gif/uniform_m50-reduced.gif with imageio.\n"
     ]
    },
    {
     "name": "stderr",
     "output_type": "stream",
     "text": [
      "                                                                                                                         \r"
     ]
    },
    {
     "name": "stdout",
     "output_type": "stream",
     "text": [
      "finshed ./viscous_beam/gif/uniform_m50-reduced.gif\n",
      "MoviePy - Building file ./viscous_beam/gif/uniform_p0.1-m0.1.gif with imageio.\n"
     ]
    },
    {
     "name": "stderr",
     "output_type": "stream",
     "text": [
      "                                                                                                                         \r"
     ]
    },
    {
     "name": "stdout",
     "output_type": "stream",
     "text": [
      "finshed ./viscous_beam/gif/uniform_p0.1-m0.1.gif\n",
      "MoviePy - Building file ./viscous_beam/gif/uniform_p0.1-m1.gif with imageio.\n"
     ]
    },
    {
     "name": "stderr",
     "output_type": "stream",
     "text": [
      "                                                                                                                         \r"
     ]
    },
    {
     "name": "stdout",
     "output_type": "stream",
     "text": [
      "finshed ./viscous_beam/gif/uniform_p0.1-m1.gif\n",
      "MoviePy - Building file ./viscous_beam/gif/uniform_p0.1-m10.gif with imageio.\n"
     ]
    },
    {
     "name": "stderr",
     "output_type": "stream",
     "text": [
      "                                                                                                                         \r"
     ]
    },
    {
     "name": "stdout",
     "output_type": "stream",
     "text": [
      "finshed ./viscous_beam/gif/uniform_p0.1-m10.gif\n",
      "MoviePy - Building file ./viscous_beam/gif/uniform_p0.1-m20.gif with imageio.\n"
     ]
    },
    {
     "name": "stderr",
     "output_type": "stream",
     "text": [
      "                                                                                                                         \r"
     ]
    },
    {
     "name": "stdout",
     "output_type": "stream",
     "text": [
      "finshed ./viscous_beam/gif/uniform_p0.1-m20.gif\n",
      "MoviePy - Building file ./viscous_beam/gif/uniform_p0.1-m50.gif with imageio.\n"
     ]
    },
    {
     "name": "stderr",
     "output_type": "stream",
     "text": [
      "                                                                                                                         \r"
     ]
    },
    {
     "name": "stdout",
     "output_type": "stream",
     "text": [
      "finshed ./viscous_beam/gif/uniform_p0.1-m50.gif\n",
      "MoviePy - Building file ./viscous_beam/gif/uniform_p0.1-p0.1.gif with imageio.\n"
     ]
    },
    {
     "name": "stderr",
     "output_type": "stream",
     "text": [
      "                                                                                                                         \r"
     ]
    },
    {
     "name": "stdout",
     "output_type": "stream",
     "text": [
      "finshed ./viscous_beam/gif/uniform_p0.1-p0.1.gif\n",
      "MoviePy - Building file ./viscous_beam/gif/uniform_p0.1-p1.gif with imageio.\n"
     ]
    },
    {
     "name": "stderr",
     "output_type": "stream",
     "text": [
      "                                                                                                                         \r"
     ]
    },
    {
     "name": "stdout",
     "output_type": "stream",
     "text": [
      "finshed ./viscous_beam/gif/uniform_p0.1-p1.gif\n",
      "MoviePy - Building file ./viscous_beam/gif/uniform_p0.1-p10.gif with imageio.\n"
     ]
    },
    {
     "name": "stderr",
     "output_type": "stream",
     "text": [
      "                                                                                                                         \r"
     ]
    },
    {
     "name": "stdout",
     "output_type": "stream",
     "text": [
      "finshed ./viscous_beam/gif/uniform_p0.1-p10.gif\n",
      "MoviePy - Building file ./viscous_beam/gif/uniform_p0.1-p20.gif with imageio.\n"
     ]
    },
    {
     "name": "stderr",
     "output_type": "stream",
     "text": [
      "                                                                                                                         \r"
     ]
    },
    {
     "name": "stdout",
     "output_type": "stream",
     "text": [
      "finshed ./viscous_beam/gif/uniform_p0.1-p20.gif\n",
      "MoviePy - Building file ./viscous_beam/gif/uniform_p0.1-p50.gif with imageio.\n"
     ]
    },
    {
     "name": "stderr",
     "output_type": "stream",
     "text": [
      "                                                                                                                         \r"
     ]
    },
    {
     "name": "stdout",
     "output_type": "stream",
     "text": [
      "finshed ./viscous_beam/gif/uniform_p0.1-p50.gif\n",
      "MoviePy - Building file ./viscous_beam/gif/uniform_p0.1-uniform.gif with imageio.\n"
     ]
    },
    {
     "name": "stderr",
     "output_type": "stream",
     "text": [
      "                                                                                                                         \r"
     ]
    },
    {
     "name": "stdout",
     "output_type": "stream",
     "text": [
      "finshed ./viscous_beam/gif/uniform_p0.1-uniform.gif\n",
      "MoviePy - Building file ./viscous_beam/gif/uniform_p0.1-reduced.gif with imageio.\n"
     ]
    },
    {
     "name": "stderr",
     "output_type": "stream",
     "text": [
      "                                                                                                                         \r"
     ]
    },
    {
     "name": "stdout",
     "output_type": "stream",
     "text": [
      "finshed ./viscous_beam/gif/uniform_p0.1-reduced.gif\n",
      "MoviePy - Building file ./viscous_beam/gif/uniform_p1-m0.1.gif with imageio.\n"
     ]
    },
    {
     "name": "stderr",
     "output_type": "stream",
     "text": [
      "                                                                                                                         \r"
     ]
    },
    {
     "name": "stdout",
     "output_type": "stream",
     "text": [
      "finshed ./viscous_beam/gif/uniform_p1-m0.1.gif\n",
      "MoviePy - Building file ./viscous_beam/gif/uniform_p1-m1.gif with imageio.\n"
     ]
    },
    {
     "name": "stderr",
     "output_type": "stream",
     "text": [
      "                                                                                                                         \r"
     ]
    },
    {
     "name": "stdout",
     "output_type": "stream",
     "text": [
      "finshed ./viscous_beam/gif/uniform_p1-m1.gif\n",
      "MoviePy - Building file ./viscous_beam/gif/uniform_p1-m10.gif with imageio.\n"
     ]
    },
    {
     "name": "stderr",
     "output_type": "stream",
     "text": [
      "                                                                                                                         \r"
     ]
    },
    {
     "name": "stdout",
     "output_type": "stream",
     "text": [
      "finshed ./viscous_beam/gif/uniform_p1-m10.gif\n",
      "MoviePy - Building file ./viscous_beam/gif/uniform_p1-m20.gif with imageio.\n"
     ]
    },
    {
     "name": "stderr",
     "output_type": "stream",
     "text": [
      "                                                                                                                         \r"
     ]
    },
    {
     "name": "stdout",
     "output_type": "stream",
     "text": [
      "finshed ./viscous_beam/gif/uniform_p1-m20.gif\n",
      "MoviePy - Building file ./viscous_beam/gif/uniform_p1-m50.gif with imageio.\n"
     ]
    },
    {
     "name": "stderr",
     "output_type": "stream",
     "text": [
      "                                                                                                                         \r"
     ]
    },
    {
     "name": "stdout",
     "output_type": "stream",
     "text": [
      "finshed ./viscous_beam/gif/uniform_p1-m50.gif\n",
      "MoviePy - Building file ./viscous_beam/gif/uniform_p1-p0.1.gif with imageio.\n"
     ]
    },
    {
     "name": "stderr",
     "output_type": "stream",
     "text": [
      "                                                                                                                         \r"
     ]
    },
    {
     "name": "stdout",
     "output_type": "stream",
     "text": [
      "finshed ./viscous_beam/gif/uniform_p1-p0.1.gif\n",
      "MoviePy - Building file ./viscous_beam/gif/uniform_p1-p1.gif with imageio.\n"
     ]
    },
    {
     "name": "stderr",
     "output_type": "stream",
     "text": [
      "                                                                                                                         \r"
     ]
    },
    {
     "name": "stdout",
     "output_type": "stream",
     "text": [
      "finshed ./viscous_beam/gif/uniform_p1-p1.gif\n",
      "MoviePy - Building file ./viscous_beam/gif/uniform_p1-p10.gif with imageio.\n"
     ]
    },
    {
     "name": "stderr",
     "output_type": "stream",
     "text": [
      "                                                                                                                         \r"
     ]
    },
    {
     "name": "stdout",
     "output_type": "stream",
     "text": [
      "finshed ./viscous_beam/gif/uniform_p1-p10.gif\n",
      "MoviePy - Building file ./viscous_beam/gif/uniform_p1-p20.gif with imageio.\n"
     ]
    },
    {
     "name": "stderr",
     "output_type": "stream",
     "text": [
      "                                                                                                                         \r"
     ]
    },
    {
     "name": "stdout",
     "output_type": "stream",
     "text": [
      "finshed ./viscous_beam/gif/uniform_p1-p20.gif\n",
      "MoviePy - Building file ./viscous_beam/gif/uniform_p1-p50.gif with imageio.\n"
     ]
    },
    {
     "name": "stderr",
     "output_type": "stream",
     "text": [
      "                                                                                                                         \r"
     ]
    },
    {
     "name": "stdout",
     "output_type": "stream",
     "text": [
      "finshed ./viscous_beam/gif/uniform_p1-p50.gif\n",
      "MoviePy - Building file ./viscous_beam/gif/uniform_p1-uniform.gif with imageio.\n"
     ]
    },
    {
     "name": "stderr",
     "output_type": "stream",
     "text": [
      "                                                                                                                         \r"
     ]
    },
    {
     "name": "stdout",
     "output_type": "stream",
     "text": [
      "finshed ./viscous_beam/gif/uniform_p1-uniform.gif\n",
      "MoviePy - Building file ./viscous_beam/gif/uniform_p1-reduced.gif with imageio.\n"
     ]
    },
    {
     "name": "stderr",
     "output_type": "stream",
     "text": [
      "                                                                                                                         \r"
     ]
    },
    {
     "name": "stdout",
     "output_type": "stream",
     "text": [
      "finshed ./viscous_beam/gif/uniform_p1-reduced.gif\n",
      "MoviePy - Building file ./viscous_beam/gif/uniform_p10-m0.1.gif with imageio.\n"
     ]
    },
    {
     "name": "stderr",
     "output_type": "stream",
     "text": [
      "                                                                                                                         \r"
     ]
    },
    {
     "name": "stdout",
     "output_type": "stream",
     "text": [
      "finshed ./viscous_beam/gif/uniform_p10-m0.1.gif\n",
      "MoviePy - Building file ./viscous_beam/gif/uniform_p10-m1.gif with imageio.\n"
     ]
    },
    {
     "name": "stderr",
     "output_type": "stream",
     "text": [
      "                                                                                                                         \r"
     ]
    },
    {
     "name": "stdout",
     "output_type": "stream",
     "text": [
      "finshed ./viscous_beam/gif/uniform_p10-m1.gif\n",
      "MoviePy - Building file ./viscous_beam/gif/uniform_p10-m10.gif with imageio.\n"
     ]
    },
    {
     "name": "stderr",
     "output_type": "stream",
     "text": [
      "                                                                                                                         \r"
     ]
    },
    {
     "name": "stdout",
     "output_type": "stream",
     "text": [
      "finshed ./viscous_beam/gif/uniform_p10-m10.gif\n",
      "MoviePy - Building file ./viscous_beam/gif/uniform_p10-m20.gif with imageio.\n"
     ]
    },
    {
     "name": "stderr",
     "output_type": "stream",
     "text": [
      "                                                                                                                         \r"
     ]
    },
    {
     "name": "stdout",
     "output_type": "stream",
     "text": [
      "finshed ./viscous_beam/gif/uniform_p10-m20.gif\n",
      "MoviePy - Building file ./viscous_beam/gif/uniform_p10-m50.gif with imageio.\n"
     ]
    },
    {
     "name": "stderr",
     "output_type": "stream",
     "text": [
      "                                                                                                                         \r"
     ]
    },
    {
     "name": "stdout",
     "output_type": "stream",
     "text": [
      "finshed ./viscous_beam/gif/uniform_p10-m50.gif\n",
      "MoviePy - Building file ./viscous_beam/gif/uniform_p10-p0.1.gif with imageio.\n"
     ]
    },
    {
     "name": "stderr",
     "output_type": "stream",
     "text": [
      "                                                                                                                         \r"
     ]
    },
    {
     "name": "stdout",
     "output_type": "stream",
     "text": [
      "finshed ./viscous_beam/gif/uniform_p10-p0.1.gif\n",
      "MoviePy - Building file ./viscous_beam/gif/uniform_p10-p1.gif with imageio.\n"
     ]
    },
    {
     "name": "stderr",
     "output_type": "stream",
     "text": [
      "                                                                                                                         \r"
     ]
    },
    {
     "name": "stdout",
     "output_type": "stream",
     "text": [
      "finshed ./viscous_beam/gif/uniform_p10-p1.gif\n",
      "MoviePy - Building file ./viscous_beam/gif/uniform_p10-p10.gif with imageio.\n"
     ]
    },
    {
     "name": "stderr",
     "output_type": "stream",
     "text": [
      "                                                                                                                         \r"
     ]
    },
    {
     "name": "stdout",
     "output_type": "stream",
     "text": [
      "finshed ./viscous_beam/gif/uniform_p10-p10.gif\n",
      "MoviePy - Building file ./viscous_beam/gif/uniform_p10-p20.gif with imageio.\n"
     ]
    },
    {
     "name": "stderr",
     "output_type": "stream",
     "text": [
      "                                                                                                                         \r"
     ]
    },
    {
     "name": "stdout",
     "output_type": "stream",
     "text": [
      "finshed ./viscous_beam/gif/uniform_p10-p20.gif\n",
      "MoviePy - Building file ./viscous_beam/gif/uniform_p10-p50.gif with imageio.\n"
     ]
    },
    {
     "name": "stderr",
     "output_type": "stream",
     "text": [
      "                                                                                                                         \r"
     ]
    },
    {
     "name": "stdout",
     "output_type": "stream",
     "text": [
      "finshed ./viscous_beam/gif/uniform_p10-p50.gif\n",
      "MoviePy - Building file ./viscous_beam/gif/uniform_p10-uniform.gif with imageio.\n"
     ]
    },
    {
     "name": "stderr",
     "output_type": "stream",
     "text": [
      "                                                                                                                         \r"
     ]
    },
    {
     "name": "stdout",
     "output_type": "stream",
     "text": [
      "finshed ./viscous_beam/gif/uniform_p10-uniform.gif\n",
      "MoviePy - Building file ./viscous_beam/gif/uniform_p10-reduced.gif with imageio.\n"
     ]
    },
    {
     "name": "stderr",
     "output_type": "stream",
     "text": [
      "                                                                                                                         \r"
     ]
    },
    {
     "name": "stdout",
     "output_type": "stream",
     "text": [
      "finshed ./viscous_beam/gif/uniform_p10-reduced.gif\n",
      "MoviePy - Building file ./viscous_beam/gif/uniform_p20-m0.1.gif with imageio.\n"
     ]
    },
    {
     "name": "stderr",
     "output_type": "stream",
     "text": [
      "                                                                                                                         \r"
     ]
    },
    {
     "name": "stdout",
     "output_type": "stream",
     "text": [
      "finshed ./viscous_beam/gif/uniform_p20-m0.1.gif\n",
      "MoviePy - Building file ./viscous_beam/gif/uniform_p20-m1.gif with imageio.\n"
     ]
    },
    {
     "name": "stderr",
     "output_type": "stream",
     "text": [
      "                                                                                                                         \r"
     ]
    },
    {
     "name": "stdout",
     "output_type": "stream",
     "text": [
      "finshed ./viscous_beam/gif/uniform_p20-m1.gif\n",
      "MoviePy - Building file ./viscous_beam/gif/uniform_p20-m10.gif with imageio.\n"
     ]
    },
    {
     "name": "stderr",
     "output_type": "stream",
     "text": [
      "                                                                                                                         \r"
     ]
    },
    {
     "name": "stdout",
     "output_type": "stream",
     "text": [
      "finshed ./viscous_beam/gif/uniform_p20-m10.gif\n",
      "MoviePy - Building file ./viscous_beam/gif/uniform_p20-m20.gif with imageio.\n"
     ]
    },
    {
     "name": "stderr",
     "output_type": "stream",
     "text": [
      "                                                                                                                         \r"
     ]
    },
    {
     "name": "stdout",
     "output_type": "stream",
     "text": [
      "finshed ./viscous_beam/gif/uniform_p20-m20.gif\n",
      "MoviePy - Building file ./viscous_beam/gif/uniform_p20-m50.gif with imageio.\n"
     ]
    },
    {
     "name": "stderr",
     "output_type": "stream",
     "text": [
      "                                                                                                                         \r"
     ]
    },
    {
     "name": "stdout",
     "output_type": "stream",
     "text": [
      "finshed ./viscous_beam/gif/uniform_p20-m50.gif\n",
      "MoviePy - Building file ./viscous_beam/gif/uniform_p20-p0.1.gif with imageio.\n"
     ]
    },
    {
     "name": "stderr",
     "output_type": "stream",
     "text": [
      "                                                                                                                         \r"
     ]
    },
    {
     "name": "stdout",
     "output_type": "stream",
     "text": [
      "finshed ./viscous_beam/gif/uniform_p20-p0.1.gif\n",
      "MoviePy - Building file ./viscous_beam/gif/uniform_p20-p1.gif with imageio.\n"
     ]
    },
    {
     "name": "stderr",
     "output_type": "stream",
     "text": [
      "                                                                                                                         \r"
     ]
    },
    {
     "name": "stdout",
     "output_type": "stream",
     "text": [
      "finshed ./viscous_beam/gif/uniform_p20-p1.gif\n",
      "MoviePy - Building file ./viscous_beam/gif/uniform_p20-p10.gif with imageio.\n"
     ]
    },
    {
     "name": "stderr",
     "output_type": "stream",
     "text": [
      "                                                                                                                         \r"
     ]
    },
    {
     "name": "stdout",
     "output_type": "stream",
     "text": [
      "finshed ./viscous_beam/gif/uniform_p20-p10.gif\n",
      "MoviePy - Building file ./viscous_beam/gif/uniform_p20-p20.gif with imageio.\n"
     ]
    },
    {
     "name": "stderr",
     "output_type": "stream",
     "text": [
      "                                                                                                                         \r"
     ]
    },
    {
     "name": "stdout",
     "output_type": "stream",
     "text": [
      "finshed ./viscous_beam/gif/uniform_p20-p20.gif\n",
      "MoviePy - Building file ./viscous_beam/gif/uniform_p20-p50.gif with imageio.\n"
     ]
    },
    {
     "name": "stderr",
     "output_type": "stream",
     "text": [
      "                                                                                                                         \r"
     ]
    },
    {
     "name": "stdout",
     "output_type": "stream",
     "text": [
      "finshed ./viscous_beam/gif/uniform_p20-p50.gif\n",
      "MoviePy - Building file ./viscous_beam/gif/uniform_p20-uniform.gif with imageio.\n"
     ]
    },
    {
     "name": "stderr",
     "output_type": "stream",
     "text": [
      "                                                                                                                         \r"
     ]
    },
    {
     "name": "stdout",
     "output_type": "stream",
     "text": [
      "finshed ./viscous_beam/gif/uniform_p20-uniform.gif\n",
      "MoviePy - Building file ./viscous_beam/gif/uniform_p20-reduced.gif with imageio.\n"
     ]
    },
    {
     "name": "stderr",
     "output_type": "stream",
     "text": [
      "                                                                                                                         \r"
     ]
    },
    {
     "name": "stdout",
     "output_type": "stream",
     "text": [
      "finshed ./viscous_beam/gif/uniform_p20-reduced.gif\n",
      "MoviePy - Building file ./viscous_beam/gif/uniform_p50-m0.1.gif with imageio.\n"
     ]
    },
    {
     "name": "stderr",
     "output_type": "stream",
     "text": [
      "                                                                                                                         \r"
     ]
    },
    {
     "name": "stdout",
     "output_type": "stream",
     "text": [
      "finshed ./viscous_beam/gif/uniform_p50-m0.1.gif\n",
      "MoviePy - Building file ./viscous_beam/gif/uniform_p50-m1.gif with imageio.\n"
     ]
    },
    {
     "name": "stderr",
     "output_type": "stream",
     "text": [
      "                                                                                                                         \r"
     ]
    },
    {
     "name": "stdout",
     "output_type": "stream",
     "text": [
      "finshed ./viscous_beam/gif/uniform_p50-m1.gif\n",
      "MoviePy - Building file ./viscous_beam/gif/uniform_p50-m10.gif with imageio.\n"
     ]
    },
    {
     "name": "stderr",
     "output_type": "stream",
     "text": [
      "                                                                                                                         \r"
     ]
    },
    {
     "name": "stdout",
     "output_type": "stream",
     "text": [
      "finshed ./viscous_beam/gif/uniform_p50-m10.gif\n",
      "MoviePy - Building file ./viscous_beam/gif/uniform_p50-m20.gif with imageio.\n"
     ]
    },
    {
     "name": "stderr",
     "output_type": "stream",
     "text": [
      "                                                                                                                         \r"
     ]
    },
    {
     "name": "stdout",
     "output_type": "stream",
     "text": [
      "finshed ./viscous_beam/gif/uniform_p50-m20.gif\n",
      "MoviePy - Building file ./viscous_beam/gif/uniform_p50-m50.gif with imageio.\n"
     ]
    },
    {
     "name": "stderr",
     "output_type": "stream",
     "text": [
      "                                                                                                                         \r"
     ]
    },
    {
     "name": "stdout",
     "output_type": "stream",
     "text": [
      "finshed ./viscous_beam/gif/uniform_p50-m50.gif\n",
      "MoviePy - Building file ./viscous_beam/gif/uniform_p50-p0.1.gif with imageio.\n"
     ]
    },
    {
     "name": "stderr",
     "output_type": "stream",
     "text": [
      "                                                                                                                         \r"
     ]
    },
    {
     "name": "stdout",
     "output_type": "stream",
     "text": [
      "finshed ./viscous_beam/gif/uniform_p50-p0.1.gif\n",
      "MoviePy - Building file ./viscous_beam/gif/uniform_p50-p1.gif with imageio.\n"
     ]
    },
    {
     "name": "stderr",
     "output_type": "stream",
     "text": [
      "                                                                                                                         \r"
     ]
    },
    {
     "name": "stdout",
     "output_type": "stream",
     "text": [
      "finshed ./viscous_beam/gif/uniform_p50-p1.gif\n",
      "MoviePy - Building file ./viscous_beam/gif/uniform_p50-p10.gif with imageio.\n"
     ]
    },
    {
     "name": "stderr",
     "output_type": "stream",
     "text": [
      "                                                                                                                         \r"
     ]
    },
    {
     "name": "stdout",
     "output_type": "stream",
     "text": [
      "finshed ./viscous_beam/gif/uniform_p50-p10.gif\n",
      "MoviePy - Building file ./viscous_beam/gif/uniform_p50-p20.gif with imageio.\n"
     ]
    },
    {
     "name": "stderr",
     "output_type": "stream",
     "text": [
      "                                                                                                                         \r"
     ]
    },
    {
     "name": "stdout",
     "output_type": "stream",
     "text": [
      "finshed ./viscous_beam/gif/uniform_p50-p20.gif\n",
      "MoviePy - Building file ./viscous_beam/gif/uniform_p50-p50.gif with imageio.\n"
     ]
    },
    {
     "name": "stderr",
     "output_type": "stream",
     "text": [
      "                                                                                                                         \r"
     ]
    },
    {
     "name": "stdout",
     "output_type": "stream",
     "text": [
      "finshed ./viscous_beam/gif/uniform_p50-p50.gif\n",
      "MoviePy - Building file ./viscous_beam/gif/uniform_p50-uniform.gif with imageio.\n"
     ]
    },
    {
     "name": "stderr",
     "output_type": "stream",
     "text": [
      "                                                                                                                         \r"
     ]
    },
    {
     "name": "stdout",
     "output_type": "stream",
     "text": [
      "finshed ./viscous_beam/gif/uniform_p50-uniform.gif\n",
      "MoviePy - Building file ./viscous_beam/gif/uniform_p50-reduced.gif with imageio.\n"
     ]
    },
    {
     "name": "stderr",
     "output_type": "stream",
     "text": [
      "                                                                                                                         \r"
     ]
    },
    {
     "name": "stdout",
     "output_type": "stream",
     "text": [
      "finshed ./viscous_beam/gif/uniform_p50-reduced.gif\n",
      "MoviePy - Building file ./viscous_beam/gif/uniform_uniform-m0.1.gif with imageio.\n"
     ]
    },
    {
     "name": "stderr",
     "output_type": "stream",
     "text": [
      "                                                                                                                         \r"
     ]
    },
    {
     "name": "stdout",
     "output_type": "stream",
     "text": [
      "finshed ./viscous_beam/gif/uniform_uniform-m0.1.gif\n",
      "MoviePy - Building file ./viscous_beam/gif/uniform_uniform-m1.gif with imageio.\n"
     ]
    },
    {
     "name": "stderr",
     "output_type": "stream",
     "text": [
      "                                                                                                                         \r"
     ]
    },
    {
     "name": "stdout",
     "output_type": "stream",
     "text": [
      "finshed ./viscous_beam/gif/uniform_uniform-m1.gif\n",
      "MoviePy - Building file ./viscous_beam/gif/uniform_uniform-m10.gif with imageio.\n"
     ]
    },
    {
     "name": "stderr",
     "output_type": "stream",
     "text": [
      "                                                                                                                         \r"
     ]
    },
    {
     "name": "stdout",
     "output_type": "stream",
     "text": [
      "finshed ./viscous_beam/gif/uniform_uniform-m10.gif\n",
      "MoviePy - Building file ./viscous_beam/gif/uniform_uniform-m20.gif with imageio.\n"
     ]
    },
    {
     "name": "stderr",
     "output_type": "stream",
     "text": [
      "                                                                                                                         \r"
     ]
    },
    {
     "name": "stdout",
     "output_type": "stream",
     "text": [
      "finshed ./viscous_beam/gif/uniform_uniform-m20.gif\n",
      "MoviePy - Building file ./viscous_beam/gif/uniform_uniform-m50.gif with imageio.\n"
     ]
    },
    {
     "name": "stderr",
     "output_type": "stream",
     "text": [
      "                                                                                                                         \r"
     ]
    },
    {
     "name": "stdout",
     "output_type": "stream",
     "text": [
      "finshed ./viscous_beam/gif/uniform_uniform-m50.gif\n",
      "MoviePy - Building file ./viscous_beam/gif/uniform_uniform-p0.1.gif with imageio.\n"
     ]
    },
    {
     "name": "stderr",
     "output_type": "stream",
     "text": [
      "                                                                                                                         \r"
     ]
    },
    {
     "name": "stdout",
     "output_type": "stream",
     "text": [
      "finshed ./viscous_beam/gif/uniform_uniform-p0.1.gif\n",
      "MoviePy - Building file ./viscous_beam/gif/uniform_uniform-p1.gif with imageio.\n"
     ]
    },
    {
     "name": "stderr",
     "output_type": "stream",
     "text": [
      "                                                                                                                         \r"
     ]
    },
    {
     "name": "stdout",
     "output_type": "stream",
     "text": [
      "finshed ./viscous_beam/gif/uniform_uniform-p1.gif\n",
      "MoviePy - Building file ./viscous_beam/gif/uniform_uniform-p10.gif with imageio.\n"
     ]
    },
    {
     "name": "stderr",
     "output_type": "stream",
     "text": [
      "                                                                                                                         \r"
     ]
    },
    {
     "name": "stdout",
     "output_type": "stream",
     "text": [
      "finshed ./viscous_beam/gif/uniform_uniform-p10.gif\n",
      "MoviePy - Building file ./viscous_beam/gif/uniform_uniform-p20.gif with imageio.\n"
     ]
    },
    {
     "name": "stderr",
     "output_type": "stream",
     "text": [
      "                                                                                                                         \r"
     ]
    },
    {
     "name": "stdout",
     "output_type": "stream",
     "text": [
      "finshed ./viscous_beam/gif/uniform_uniform-p20.gif\n",
      "MoviePy - Building file ./viscous_beam/gif/uniform_uniform-p50.gif with imageio.\n"
     ]
    },
    {
     "name": "stderr",
     "output_type": "stream",
     "text": [
      "                                                                                                                         \r"
     ]
    },
    {
     "name": "stdout",
     "output_type": "stream",
     "text": [
      "finshed ./viscous_beam/gif/uniform_uniform-p50.gif\n",
      "MoviePy - Building file ./viscous_beam/gif/uniform_uniform-uniform.gif with imageio.\n"
     ]
    },
    {
     "name": "stderr",
     "output_type": "stream",
     "text": [
      "                                                                                                                         \r"
     ]
    },
    {
     "name": "stdout",
     "output_type": "stream",
     "text": [
      "finshed ./viscous_beam/gif/uniform_uniform-uniform.gif\n",
      "MoviePy - Building file ./viscous_beam/gif/uniform_uniform-reduced.gif with imageio.\n"
     ]
    },
    {
     "name": "stderr",
     "output_type": "stream",
     "text": [
      "                                                                                                                         \r"
     ]
    },
    {
     "name": "stdout",
     "output_type": "stream",
     "text": [
      "finshed ./viscous_beam/gif/uniform_uniform-reduced.gif\n",
      "MoviePy - Building file ./viscous_beam/gif/uniform_reduced-m0.1.gif with imageio.\n"
     ]
    },
    {
     "name": "stderr",
     "output_type": "stream",
     "text": [
      "                                                                                                                         \r"
     ]
    },
    {
     "name": "stdout",
     "output_type": "stream",
     "text": [
      "finshed ./viscous_beam/gif/uniform_reduced-m0.1.gif\n",
      "MoviePy - Building file ./viscous_beam/gif/uniform_reduced-m1.gif with imageio.\n"
     ]
    },
    {
     "name": "stderr",
     "output_type": "stream",
     "text": [
      "                                                                                                                         \r"
     ]
    },
    {
     "name": "stdout",
     "output_type": "stream",
     "text": [
      "finshed ./viscous_beam/gif/uniform_reduced-m1.gif\n",
      "MoviePy - Building file ./viscous_beam/gif/uniform_reduced-m10.gif with imageio.\n"
     ]
    },
    {
     "name": "stderr",
     "output_type": "stream",
     "text": [
      "                                                                                                                         \r"
     ]
    },
    {
     "name": "stdout",
     "output_type": "stream",
     "text": [
      "finshed ./viscous_beam/gif/uniform_reduced-m10.gif\n",
      "MoviePy - Building file ./viscous_beam/gif/uniform_reduced-m20.gif with imageio.\n"
     ]
    },
    {
     "name": "stderr",
     "output_type": "stream",
     "text": [
      "                                                                                                                         \r"
     ]
    },
    {
     "name": "stdout",
     "output_type": "stream",
     "text": [
      "finshed ./viscous_beam/gif/uniform_reduced-m20.gif\n",
      "MoviePy - Building file ./viscous_beam/gif/uniform_reduced-m50.gif with imageio.\n"
     ]
    },
    {
     "name": "stderr",
     "output_type": "stream",
     "text": [
      "                                                                                                                         \r"
     ]
    },
    {
     "name": "stdout",
     "output_type": "stream",
     "text": [
      "finshed ./viscous_beam/gif/uniform_reduced-m50.gif\n",
      "MoviePy - Building file ./viscous_beam/gif/uniform_reduced-p0.1.gif with imageio.\n"
     ]
    },
    {
     "name": "stderr",
     "output_type": "stream",
     "text": [
      "                                                                                                                         \r"
     ]
    },
    {
     "name": "stdout",
     "output_type": "stream",
     "text": [
      "finshed ./viscous_beam/gif/uniform_reduced-p0.1.gif\n",
      "MoviePy - Building file ./viscous_beam/gif/uniform_reduced-p1.gif with imageio.\n"
     ]
    },
    {
     "name": "stderr",
     "output_type": "stream",
     "text": [
      "                                                                                                                         \r"
     ]
    },
    {
     "name": "stdout",
     "output_type": "stream",
     "text": [
      "finshed ./viscous_beam/gif/uniform_reduced-p1.gif\n",
      "MoviePy - Building file ./viscous_beam/gif/uniform_reduced-p10.gif with imageio.\n"
     ]
    },
    {
     "name": "stderr",
     "output_type": "stream",
     "text": [
      "                                                                                                                         \r"
     ]
    },
    {
     "name": "stdout",
     "output_type": "stream",
     "text": [
      "finshed ./viscous_beam/gif/uniform_reduced-p10.gif\n",
      "MoviePy - Building file ./viscous_beam/gif/uniform_reduced-p20.gif with imageio.\n"
     ]
    },
    {
     "name": "stderr",
     "output_type": "stream",
     "text": [
      "                                                                                                                         \r"
     ]
    },
    {
     "name": "stdout",
     "output_type": "stream",
     "text": [
      "finshed ./viscous_beam/gif/uniform_reduced-p20.gif\n",
      "MoviePy - Building file ./viscous_beam/gif/uniform_reduced-p50.gif with imageio.\n"
     ]
    },
    {
     "name": "stderr",
     "output_type": "stream",
     "text": [
      "                                                                                                                         \r"
     ]
    },
    {
     "name": "stdout",
     "output_type": "stream",
     "text": [
      "finshed ./viscous_beam/gif/uniform_reduced-p50.gif\n",
      "MoviePy - Building file ./viscous_beam/gif/uniform_reduced-uniform.gif with imageio.\n"
     ]
    },
    {
     "name": "stderr",
     "output_type": "stream",
     "text": [
      "                                                                                                                         \r"
     ]
    },
    {
     "name": "stdout",
     "output_type": "stream",
     "text": [
      "finshed ./viscous_beam/gif/uniform_reduced-uniform.gif\n",
      "MoviePy - Building file ./viscous_beam/gif/uniform_reduced-reduced.gif with imageio.\n"
     ]
    },
    {
     "name": "stderr",
     "output_type": "stream",
     "text": [
      "                                                                                                                         "
     ]
    },
    {
     "name": "stdout",
     "output_type": "stream",
     "text": [
      "finshed ./viscous_beam/gif/uniform_reduced-reduced.gif\n"
     ]
    },
    {
     "name": "stderr",
     "output_type": "stream",
     "text": [
      "\r"
     ]
    }
   ],
   "source": [
    "prefix = './viscous_beam/mp4/'\n",
    "suffix = '.mp4'\n",
    "outPrefix = './viscous_beam/gif/'\n",
    "outSuffix = '.gif'\n",
    "\n",
    "files = ['m0.1', 'm1', 'm10', 'm20', 'm50', 'p0.1', 'p1', 'p10', 'p20', 'p50', 'uniform', 'reduced'];\n",
    "#files = ['m0.1'];\n",
    "\n",
    "for file1 in files:\n",
    "    for file2 in files:\n",
    "        filenameR = prefix + 'uniform' + suffix;\n",
    "        filename1 = prefix + file1 + suffix;\n",
    "        filename2 = prefix + file2 + suffix;\n",
    "        filenameOut = outPrefix + 'uniform' + '_' + file1 + '-' + file2 + outSuffix;\n",
    "        stitchGif(filenameR, filename1, filename2, filenameOut);\n",
    "        print('finshed ' + filenameOut);"
   ]
  },
  {
   "cell_type": "code",
   "execution_count": 4,
   "id": "ddb9d245-5a72-4e52-95c2-a0bbd9b062ee",
   "metadata": {
    "collapsed": true,
    "jupyter": {
     "outputs_hidden": true
    },
    "tags": []
   },
   "outputs": [
    {
     "name": "stdout",
     "output_type": "stream",
     "text": [
      "MoviePy - Building file ./viscous_beam/gif/p50_p50-m50.gif with imageio.\n"
     ]
    },
    {
     "name": "stderr",
     "output_type": "stream",
     "text": [
      "                                                                                                                         \r"
     ]
    },
    {
     "name": "stdout",
     "output_type": "stream",
     "text": [
      "finshed ./viscous_beam/gif/p50_p50-m50.gif\n",
      "MoviePy - Building file ./viscous_beam/gif/slowcontrol_uniform-slowcontrol.gif with imageio.\n"
     ]
    },
    {
     "name": "stderr",
     "output_type": "stream",
     "text": [
      "                                                                                                                         \r"
     ]
    },
    {
     "name": "stdout",
     "output_type": "stream",
     "text": [
      "finshed ./viscous_beam/gif/slowcontrol_uniform-slowcontrol.gif\n",
      "MoviePy - Building file ./viscous_beam/gif/uniform_slowcontrol-uniform.gif with imageio.\n"
     ]
    },
    {
     "name": "stderr",
     "output_type": "stream",
     "text": [
      "                                                                                                                         "
     ]
    },
    {
     "name": "stdout",
     "output_type": "stream",
     "text": [
      "finshed ./viscous_beam/gif/uniform_slowcontrol-uniform.gif\n"
     ]
    },
    {
     "name": "stderr",
     "output_type": "stream",
     "text": [
      "\r"
     ]
    }
   ],
   "source": [
    "prefix = './viscous_beam/mp4/'\n",
    "suffix = '.mp4'\n",
    "outPrefix = './viscous_beam/gif/'\n",
    "outSuffix = '.gif'\n",
    "\n",
    "\n",
    "for set in sets:\n",
    "    filenameR = prefix + set[0] + suffix;\n",
    "    filename1 = prefix + set[1] + suffix;\n",
    "    filename2 = prefix + set[2] + suffix;\n",
    "    filenameOut = outPrefix + set[0] + '_' + set[1] + '-' + set[2] + outSuffix;\n",
    "    stitchGif(filenameR, filename1, filename2, filenameOut);\n",
    "    print('finshed ' + filenameOut);"
   ]
  },
  {
   "cell_type": "code",
   "execution_count": 21,
   "id": "a6ce024c-b52a-439e-99d2-e4278719a796",
   "metadata": {
    "collapsed": true,
    "jupyter": {
     "outputs_hidden": true
    },
    "tags": []
   },
   "outputs": [
    {
     "name": "stdout",
     "output_type": "stream",
     "text": [
      "./viscous_beam/gif/uniform_m0.1-m0.1.gif not found\n",
      "./viscous_beam/gif/uniform_m0.1-m1.gif not found\n",
      "./viscous_beam/gif/uniform_m0.1-m10.gif not found\n",
      "./viscous_beam/gif/uniform_m0.1-m20.gif not found\n",
      "./viscous_beam/gif/uniform_m0.1-m50.gif not found\n",
      "./viscous_beam/gif/uniform_m0.1-p0.1.gif not found\n",
      "./viscous_beam/gif/uniform_m0.1-p1.gif not found\n",
      "./viscous_beam/gif/uniform_m0.1-p10.gif not found\n",
      "./viscous_beam/gif/uniform_m0.1-p20.gif not found\n",
      "./viscous_beam/gif/uniform_m0.1-p50.gif not found\n",
      "./viscous_beam/gif/uniform_m0.1-uniform.gif not found\n",
      "./viscous_beam/gif/uniform_m0.1-reduced.gif not found\n",
      "./viscous_beam/gif/uniform_m1-m0.1.gif not found\n",
      "./viscous_beam/gif/uniform_m1-m1.gif not found\n",
      "./viscous_beam/gif/uniform_m1-m10.gif not found\n",
      "./viscous_beam/gif/uniform_m1-m20.gif not found\n",
      "./viscous_beam/gif/uniform_m1-m50.gif not found\n",
      "./viscous_beam/gif/uniform_m1-p0.1.gif not found\n",
      "./viscous_beam/gif/uniform_m1-p1.gif not found\n",
      "./viscous_beam/gif/uniform_m1-p10.gif not found\n",
      "./viscous_beam/gif/uniform_m1-p20.gif not found\n",
      "./viscous_beam/gif/uniform_m1-p50.gif not found\n",
      "./viscous_beam/gif/uniform_m1-uniform.gif not found\n",
      "./viscous_beam/gif/uniform_m1-reduced.gif not found\n",
      "./viscous_beam/gif/uniform_m10-m0.1.gif not found\n",
      "./viscous_beam/gif/uniform_m10-m1.gif not found\n",
      "./viscous_beam/gif/uniform_m10-m10.gif not found\n",
      "./viscous_beam/gif/uniform_m10-m20.gif not found\n",
      "./viscous_beam/gif/uniform_m10-m50.gif not found\n",
      "./viscous_beam/gif/uniform_m10-p0.1.gif not found\n",
      "./viscous_beam/gif/uniform_m10-p1.gif not found\n",
      "./viscous_beam/gif/uniform_m10-p10.gif not found\n",
      "./viscous_beam/gif/uniform_m10-p20.gif not found\n",
      "./viscous_beam/gif/uniform_m10-p50.gif not found\n",
      "./viscous_beam/gif/uniform_m10-uniform.gif not found\n",
      "./viscous_beam/gif/uniform_m10-reduced.gif not found\n",
      "./viscous_beam/gif/uniform_m20-m0.1.gif not found\n",
      "./viscous_beam/gif/uniform_m20-m1.gif not found\n",
      "./viscous_beam/gif/uniform_m20-m10.gif not found\n",
      "./viscous_beam/gif/uniform_m20-m20.gif not found\n",
      "./viscous_beam/gif/uniform_m20-m50.gif not found\n",
      "./viscous_beam/gif/uniform_m20-p0.1.gif not found\n",
      "./viscous_beam/gif/uniform_m20-p1.gif not found\n",
      "./viscous_beam/gif/uniform_m20-p10.gif not found\n",
      "./viscous_beam/gif/uniform_m20-p20.gif not found\n",
      "./viscous_beam/gif/uniform_m20-p50.gif not found\n",
      "./viscous_beam/gif/uniform_m20-uniform.gif not found\n",
      "./viscous_beam/gif/uniform_m20-reduced.gif not found\n",
      "./viscous_beam/gif/uniform_m50-m0.1.gif not found\n",
      "./viscous_beam/gif/uniform_m50-m1.gif not found\n",
      "./viscous_beam/gif/uniform_m50-m10.gif not found\n",
      "./viscous_beam/gif/uniform_m50-m20.gif not found\n",
      "./viscous_beam/gif/uniform_m50-m50.gif not found\n",
      "./viscous_beam/gif/uniform_m50-p0.1.gif not found\n",
      "./viscous_beam/gif/uniform_m50-p1.gif not found\n",
      "./viscous_beam/gif/uniform_m50-p10.gif not found\n",
      "./viscous_beam/gif/uniform_m50-p20.gif not found\n",
      "./viscous_beam/gif/uniform_m50-p50.gif not found\n",
      "./viscous_beam/gif/uniform_m50-uniform.gif not found\n",
      "./viscous_beam/gif/uniform_m50-reduced.gif not found\n",
      "./viscous_beam/gif/uniform_p0.1-m0.1.gif not found\n",
      "./viscous_beam/gif/uniform_p0.1-m1.gif not found\n",
      "./viscous_beam/gif/uniform_p0.1-m10.gif not found\n",
      "./viscous_beam/gif/uniform_p0.1-m20.gif not found\n",
      "./viscous_beam/gif/uniform_p0.1-m50.gif not found\n",
      "./viscous_beam/gif/uniform_p0.1-p0.1.gif not found\n",
      "./viscous_beam/gif/uniform_p0.1-p1.gif not found\n",
      "./viscous_beam/gif/uniform_p0.1-p10.gif not found\n",
      "./viscous_beam/gif/uniform_p0.1-p20.gif not found\n",
      "./viscous_beam/gif/uniform_p0.1-p50.gif not found\n",
      "./viscous_beam/gif/uniform_p0.1-uniform.gif not found\n",
      "./viscous_beam/gif/uniform_p0.1-reduced.gif not found\n",
      "./viscous_beam/gif/uniform_p1-m0.1.gif not found\n",
      "./viscous_beam/gif/uniform_p1-m1.gif not found\n",
      "./viscous_beam/gif/uniform_p1-m10.gif not found\n",
      "./viscous_beam/gif/uniform_p1-m20.gif not found\n",
      "./viscous_beam/gif/uniform_p1-m50.gif not found\n",
      "./viscous_beam/gif/uniform_p1-p0.1.gif not found\n",
      "./viscous_beam/gif/uniform_p1-p1.gif not found\n",
      "./viscous_beam/gif/uniform_p1-p10.gif not found\n",
      "./viscous_beam/gif/uniform_p1-p20.gif not found\n",
      "./viscous_beam/gif/uniform_p1-p50.gif not found\n",
      "./viscous_beam/gif/uniform_p1-uniform.gif not found\n",
      "./viscous_beam/gif/uniform_p1-reduced.gif not found\n",
      "./viscous_beam/gif/uniform_p10-m0.1.gif not found\n",
      "./viscous_beam/gif/uniform_p10-m1.gif not found\n",
      "./viscous_beam/gif/uniform_p10-m10.gif not found\n",
      "./viscous_beam/gif/uniform_p10-m20.gif not found\n",
      "./viscous_beam/gif/uniform_p10-m50.gif not found\n",
      "./viscous_beam/gif/uniform_p10-p0.1.gif not found\n",
      "./viscous_beam/gif/uniform_p10-p1.gif not found\n",
      "./viscous_beam/gif/uniform_p10-p10.gif not found\n",
      "./viscous_beam/gif/uniform_p10-p20.gif not found\n",
      "./viscous_beam/gif/uniform_p10-p50.gif not found\n",
      "./viscous_beam/gif/uniform_p10-uniform.gif not found\n",
      "./viscous_beam/gif/uniform_p10-reduced.gif not found\n",
      "./viscous_beam/gif/uniform_p20-m0.1.gif not found\n",
      "./viscous_beam/gif/uniform_p20-m1.gif not found\n",
      "./viscous_beam/gif/uniform_p20-m10.gif not found\n",
      "./viscous_beam/gif/uniform_p20-m20.gif not found\n",
      "./viscous_beam/gif/uniform_p20-m50.gif not found\n",
      "./viscous_beam/gif/uniform_p20-p0.1.gif not found\n",
      "./viscous_beam/gif/uniform_p20-p1.gif not found\n",
      "./viscous_beam/gif/uniform_p20-p10.gif not found\n",
      "./viscous_beam/gif/uniform_p20-p20.gif not found\n",
      "./viscous_beam/gif/uniform_p20-p50.gif not found\n",
      "./viscous_beam/gif/uniform_p20-uniform.gif not found\n",
      "./viscous_beam/gif/uniform_p20-reduced.gif not found\n",
      "./viscous_beam/gif/uniform_p50-m0.1.gif not found\n",
      "./viscous_beam/gif/uniform_p50-m1.gif not found\n",
      "./viscous_beam/gif/uniform_p50-m10.gif not found\n",
      "./viscous_beam/gif/uniform_p50-m20.gif not found\n",
      "./viscous_beam/gif/uniform_p50-m50.gif not found\n",
      "./viscous_beam/gif/uniform_p50-p0.1.gif not found\n",
      "./viscous_beam/gif/uniform_p50-p1.gif not found\n",
      "./viscous_beam/gif/uniform_p50-p10.gif not found\n",
      "./viscous_beam/gif/uniform_p50-p20.gif not found\n",
      "./viscous_beam/gif/uniform_p50-p50.gif not found\n",
      "./viscous_beam/gif/uniform_p50-uniform.gif not found\n",
      "./viscous_beam/gif/uniform_p50-reduced.gif not found\n",
      "./viscous_beam/gif/uniform_uniform-m0.1.gif not found\n",
      "./viscous_beam/gif/uniform_uniform-m1.gif not found\n",
      "./viscous_beam/gif/uniform_uniform-m10.gif not found\n",
      "./viscous_beam/gif/uniform_uniform-m20.gif not found\n",
      "./viscous_beam/gif/uniform_uniform-m50.gif not found\n",
      "./viscous_beam/gif/uniform_uniform-p0.1.gif not found\n",
      "./viscous_beam/gif/uniform_uniform-p1.gif not found\n",
      "./viscous_beam/gif/uniform_uniform-p10.gif not found\n",
      "./viscous_beam/gif/uniform_uniform-p20.gif not found\n",
      "./viscous_beam/gif/uniform_uniform-p50.gif not found\n",
      "./viscous_beam/gif/uniform_uniform-uniform.gif not found\n",
      "./viscous_beam/gif/uniform_uniform-reduced.gif not found\n",
      "./viscous_beam/gif/uniform_reduced-m0.1.gif not found\n",
      "./viscous_beam/gif/uniform_reduced-m1.gif not found\n",
      "./viscous_beam/gif/uniform_reduced-m10.gif not found\n",
      "./viscous_beam/gif/uniform_reduced-m20.gif not found\n",
      "./viscous_beam/gif/uniform_reduced-m50.gif not found\n",
      "./viscous_beam/gif/uniform_reduced-p0.1.gif not found\n",
      "./viscous_beam/gif/uniform_reduced-p1.gif not found\n",
      "./viscous_beam/gif/uniform_reduced-p10.gif not found\n",
      "./viscous_beam/gif/uniform_reduced-p20.gif not found\n",
      "./viscous_beam/gif/uniform_reduced-p50.gif not found\n",
      "./viscous_beam/gif/uniform_reduced-uniform.gif not found\n",
      "./viscous_beam/gif/uniform_reduced-reduced.gif not found\n"
     ]
    }
   ],
   "source": [
    "import pandas as pd\n",
    "import os\n",
    "\n",
    "prefix = './viscous_beam/mp4/'\n",
    "suffix = '.mp4'\n",
    "outPrefix = './viscous_beam/gif/'\n",
    "outSuffix = '.gif'\n",
    "\n",
    "files = ['m0.1', 'm1', 'm10', 'm20', 'm50', 'p0.1', 'p1', 'p10', 'p20', 'p50', 'uniform', 'reduced'];\n",
    "sets = [['p50', 'p50', 'm50'], ['slowcontrol', 'uniform', 'slowcontrol'], ['uniform', 'slowcontrol', 'uniform']];\n",
    "\n",
    "lookuptable = [];\n",
    "\n",
    "for file1 in files:\n",
    "    for file2 in files:\n",
    "        fn = 'uniform' + '_' + file1 + '-' + file2;\n",
    "        hashedfn = str(hashCode(fn));\n",
    "        \n",
    "        oldName = outPrefix + fn + outSuffix;\n",
    "        newName = outPrefix + hashedfn + outSuffix;\n",
    "        try:\n",
    "            os.rename(oldName, newName);\n",
    "        except:\n",
    "            print(oldName + ' not found');\n",
    "\n",
    "        lookuptable.append([fn, hashedfn]);\n",
    "\n",
    "for set in sets:\n",
    "    fn = set[0] + '_' + set[1] + '-' + set[2];\n",
    "    hashedfn = str(hashCode(fn));\n",
    "\n",
    "    oldName = outPrefix + fn + outSuffix;\n",
    "    newName = outPrefix + hashedfn + outSuffix;\n",
    "    try:\n",
    "        os.rename(oldName, newName);\n",
    "    except:\n",
    "        print(oldName + ' not found');\n",
    "    \n",
    "    lookuptable.append([fn, hashedfn]);\n",
    "\n",
    "df = pd.DataFrame(lookuptable);\n",
    "df.to_csv(outPrefix + 'hashtable.csv');"
   ]
  },
  {
   "cell_type": "code",
   "execution_count": 29,
   "id": "2fa36735-f878-4490-a4e9-657aeb0a05d1",
   "metadata": {},
   "outputs": [
    {
     "name": "stdout",
     "output_type": "stream",
     "text": [
      "finished converting ./viscous_beam/webp/-2068604376.webp\n",
      "finished converting ./viscous_beam/webp/-1037109875.webp\n",
      "finished converting ./viscous_beam/webp/933962634.webp\n",
      "finished converting ./viscous_beam/webp/-1970284098.webp\n",
      "finished converting ./viscous_beam/webp/-1137780849.webp\n",
      "finished converting ./viscous_beam/webp/-1119276428.webp\n",
      "finished converting ./viscous_beam/webp/-204406513.webp\n",
      "finished converting ./viscous_beam/webp/-2080786001.webp\n",
      "finished converting ./viscous_beam/webp/-1484047186.webp\n",
      "finished converting ./viscous_beam/webp/1903436927.webp\n",
      "finished converting ./viscous_beam/webp/-2080783025.webp\n",
      "finished converting ./viscous_beam/webp/-2084803709.webp\n",
      "finished converting ./viscous_beam/webp/-1147319409.webp\n",
      "finished converting ./viscous_beam/webp/-1137870222.webp\n",
      "finished converting ./viscous_beam/webp/-697993166.webp\n"
     ]
    },
    {
     "ename": "UnidentifiedImageError",
     "evalue": "cannot identify image file './viscous_beam/gif/.DS_Store'",
     "output_type": "error",
     "traceback": [
      "\u001b[0;31m---------------------------------------------------------------------------\u001b[0m",
      "\u001b[0;31mUnidentifiedImageError\u001b[0m                    Traceback (most recent call last)",
      "Cell \u001b[0;32mIn [29], line 14\u001b[0m\n\u001b[1;32m     11\u001b[0m fnout \u001b[38;5;241m=\u001b[39m os\u001b[38;5;241m.\u001b[39mpath\u001b[38;5;241m.\u001b[39mjoin(outPrefix, filename\u001b[38;5;241m.\u001b[39mreplace(suffix, outSuffix));\n\u001b[1;32m     13\u001b[0m \u001b[38;5;28;01mif\u001b[39;00m os\u001b[38;5;241m.\u001b[39mpath\u001b[38;5;241m.\u001b[39misfile(fnin):\n\u001b[0;32m---> 14\u001b[0m     im \u001b[38;5;241m=\u001b[39m Image\u001b[38;5;241m.\u001b[39mopen(fnin);\n\u001b[1;32m     15\u001b[0m     im\u001b[38;5;241m.\u001b[39minfo\u001b[38;5;241m.\u001b[39mpop(\u001b[38;5;124m'\u001b[39m\u001b[38;5;124mbackground\u001b[39m\u001b[38;5;124m'\u001b[39m, \u001b[38;5;28;01mNone\u001b[39;00m);\n\u001b[1;32m     16\u001b[0m     im\u001b[38;5;241m.\u001b[39msave(fnout, \u001b[38;5;28mformat\u001b[39m\u001b[38;5;241m=\u001b[39m\u001b[38;5;124m'\u001b[39m\u001b[38;5;124mWEBP\u001b[39m\u001b[38;5;124m'\u001b[39m, lossless\u001b[38;5;241m=\u001b[39m\u001b[38;5;28;01mTrue\u001b[39;00m, save_all\u001b[38;5;241m=\u001b[39m\u001b[38;5;28;01mTrue\u001b[39;00m);\n",
      "File \u001b[0;32m/usr/local/lib/python3.10/site-packages/PIL/Image.py:3147\u001b[0m, in \u001b[0;36mopen\u001b[0;34m(fp, mode, formats)\u001b[0m\n\u001b[1;32m   3145\u001b[0m \u001b[38;5;28;01mfor\u001b[39;00m message \u001b[38;5;129;01min\u001b[39;00m accept_warnings:\n\u001b[1;32m   3146\u001b[0m     warnings\u001b[38;5;241m.\u001b[39mwarn(message)\n\u001b[0;32m-> 3147\u001b[0m \u001b[38;5;28;01mraise\u001b[39;00m UnidentifiedImageError(\n\u001b[1;32m   3148\u001b[0m     \u001b[38;5;124m\"\u001b[39m\u001b[38;5;124mcannot identify image file \u001b[39m\u001b[38;5;132;01m%r\u001b[39;00m\u001b[38;5;124m\"\u001b[39m \u001b[38;5;241m%\u001b[39m (filename \u001b[38;5;28;01mif\u001b[39;00m filename \u001b[38;5;28;01melse\u001b[39;00m fp)\n\u001b[1;32m   3149\u001b[0m )\n",
      "\u001b[0;31mUnidentifiedImageError\u001b[0m: cannot identify image file './viscous_beam/gif/.DS_Store'"
     ]
    }
   ],
   "source": [
    "from PIL import Image\n",
    "import os\n",
    "\n",
    "prefix = './viscous_beam/gif/'\n",
    "suffix = '.gif'\n",
    "outPrefix = './viscous_beam/webp/'\n",
    "outSuffix = '.webp'\n",
    "\n",
    "for filename in os.listdir(prefix):\n",
    "    if filename[\n",
    "    \n",
    "    fnin = os.path.join(prefix, filename);\n",
    "    fnout = os.path.join(outPrefix, filename.replace(suffix, outSuffix));\n",
    "    \n",
    "    if os.path.isfile(fnin) and not os.path.isfile(fnout):\n",
    "        im = Image.open(fnin);\n",
    "        im.info.pop('background', None);\n",
    "        im.save(fnout, format='WEBP', lossless=True, save_all=True);\n",
    "        print('finished converting ' + fnout);"
   ]
  },
  {
   "cell_type": "code",
   "execution_count": 37,
   "id": "c2fa2df7-36c6-45a2-a178-f9501f4638a2",
   "metadata": {},
   "outputs": [
    {
     "data": {
      "text/plain": [
       "'.webp'"
      ]
     },
     "execution_count": 37,
     "metadata": {},
     "output_type": "execute_result"
    }
   ],
   "source": [
    "mystr = 'bp/-1147319409.webp'\n",
    "mystr[-5:]"
   ]
  },
  {
   "cell_type": "code",
   "execution_count": null,
   "id": "52138766-ff1c-442e-87e5-78c854092f4b",
   "metadata": {},
   "outputs": [],
   "source": []
  },
  {
   "cell_type": "code",
   "execution_count": null,
   "id": "b839c64b-d26f-4517-85e9-efac0f2625d2",
   "metadata": {},
   "outputs": [],
   "source": []
  },
  {
   "cell_type": "code",
   "execution_count": null,
   "id": "c93d645e-a15b-450b-94d9-72f1a76875e3",
   "metadata": {},
   "outputs": [],
   "source": []
  }
 ],
 "metadata": {
  "kernelspec": {
   "display_name": "Python 3 (ipykernel)",
   "language": "python",
   "name": "python3"
  },
  "language_info": {
   "codemirror_mode": {
    "name": "ipython",
    "version": 3
   },
   "file_extension": ".py",
   "mimetype": "text/x-python",
   "name": "python",
   "nbconvert_exporter": "python",
   "pygments_lexer": "ipython3",
   "version": "3.10.6"
  }
 },
 "nbformat": 4,
 "nbformat_minor": 5
}
