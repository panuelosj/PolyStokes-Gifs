{
 "cells": [
  {
   "cell_type": "code",
   "execution_count": 30,
   "id": "4cb373b4-4d97-4b5a-a6b5-49fb9ebbb6a1",
   "metadata": {},
   "outputs": [],
   "source": [
    "import math\n",
    "import imageio\n",
    "import numpy as np\n",
    "import moviepy.editor as mpy\n",
    "import pygifsicle\n",
    "\n",
    "filenameR = './viscous_beam/mp4/uniform.mp4'\n",
    "filename1 = './viscous_beam/mp4/m1.mp4'\n",
    "filename2 = './viscous_beam/mp4/p1.mp4'\n",
    "\n",
    "def stitchGif(filenameR, filename1, filename2, filenameOut):\n",
    "    margin = [50, 50];\n",
    "    clipsize = [1080, 1080];\n",
    "\n",
    "    clipR = mpy.VideoFileClip(filenameR).margin(top=margin[1], bottom=margin[1], left=math.floor(margin[0]*2+clipsize[0]/2), right=math.floor(margin[0]*2+clipsize[0]/2), color=(255,255,255))\n",
    "    clip1 = mpy.VideoFileClip(filename1).margin(top=margin[1], bottom=margin[1], left=margin[0], right=margin[1], color=(255,255,255))\n",
    "    clip2 = mpy.VideoFileClip(filename2).margin(top=margin[1], bottom=margin[1], left=margin[0], right=margin[1], color=(255,255,255))\n",
    "\n",
    "    # stack\n",
    "    tmp = mpy.clips_array([[clip1, clip2]])\n",
    "    final = mpy.clips_array([[clipR], [tmp]]).resize(0.5)\n",
    "    \n",
    "    # export\n",
    "    final.write_gif(filenameOut, fps=30, program='imageio', opt='nq')\n",
    "    pygifsicle.optimize(filenameOut)"
   ]
  },
  {
   "cell_type": "code",
   "execution_count": 31,
   "id": "4f1e7459-69dc-4055-b110-721c039ed450",
   "metadata": {},
   "outputs": [
    {
     "name": "stdout",
     "output_type": "stream",
     "text": [
      "MoviePy - Building file test.gif with imageio.\n"
     ]
    },
    {
     "name": "stderr",
     "output_type": "stream",
     "text": [
      "                                                                                                                         "
     ]
    },
    {
     "name": "stdout",
     "output_type": "stream",
     "text": [
      "finshed ./viscous_beam/gif/uniform_m0.1-m0.1.gif\n"
     ]
    },
    {
     "name": "stderr",
     "output_type": "stream",
     "text": [
      "\r"
     ]
    }
   ],
   "source": [
    "prefix = './viscous_beam/mp4/'\n",
    "suffix = '.mp4'\n",
    "outPrefix = './viscous_beam/gif/'\n",
    "outSuffix = '.gif'\n",
    "\n",
    "#files = ['m0.1', 'm1', 'm10', 'm20', 'm50', 'p0.1', 'p1', 'p10', 'p20', 'p50', 'uniform', 'reduced'];\n",
    "files = ['m0.1'];\n",
    "\n",
    "for file1 in files:\n",
    "    for file2 in files:\n",
    "        filenameR = prefix + 'uniform' + suffix;\n",
    "        filename1 = prefix + file1 + suffix;\n",
    "        filename2 = prefix + file2 + suffix;\n",
    "        filenameOut = outPrefix + 'uniform' + '_' + file1 + '-' + file2 + outSuffix;\n",
    "        stitchGif(filenameR, filename1, filename2, 'temp.gif');\n",
    "        print('finshed ' + filenameOut);"
   ]
  },
  {
   "cell_type": "code",
   "execution_count": null,
   "id": "ddb9d245-5a72-4e52-95c2-a0bbd9b062ee",
   "metadata": {},
   "outputs": [],
   "source": []
  }
 ],
 "metadata": {
  "kernelspec": {
   "display_name": "Python 3 (ipykernel)",
   "language": "python",
   "name": "python3"
  },
  "language_info": {
   "codemirror_mode": {
    "name": "ipython",
    "version": 3
   },
   "file_extension": ".py",
   "mimetype": "text/x-python",
   "name": "python",
   "nbconvert_exporter": "python",
   "pygments_lexer": "ipython3",
   "version": "3.10.6"
  }
 },
 "nbformat": 4,
 "nbformat_minor": 5
}
